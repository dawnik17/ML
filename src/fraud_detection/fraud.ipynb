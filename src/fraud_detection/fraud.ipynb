{
 "cells": [
  {
   "cell_type": "code",
   "execution_count": 1,
   "id": "3de33041-d77b-4c53-ade1-4f85067e0f1c",
   "metadata": {},
   "outputs": [],
   "source": [
    "import pandas as pd\n",
    "from tqdm import tqdm\n",
    "import seaborn as sns\n",
    "import matplotlib.pyplot as plt\n",
    "from typing import List, Tuple\n",
    "from datetime import timedelta\n",
    "import numpy as np"
   ]
  },
  {
   "cell_type": "code",
   "execution_count": 2,
   "id": "4efb390b-7994-4e63-8ce2-0bd11fc7c4ed",
   "metadata": {},
   "outputs": [],
   "source": [
    "data = pd.read_csv(\"./fraud_order_classifier.csv\")"
   ]
  },
  {
   "cell_type": "code",
   "execution_count": 3,
   "id": "792f21f6-ab4c-4c37-8649-0c1fcd37ab8f",
   "metadata": {},
   "outputs": [
    {
     "data": {
      "text/plain": [
       "(481107, 40)"
      ]
     },
     "execution_count": 3,
     "metadata": {},
     "output_type": "execute_result"
    }
   ],
   "source": [
    "data.shape"
   ]
  },
  {
   "cell_type": "code",
   "execution_count": 4,
   "id": "76e7aca6-7a31-4de0-8f9f-6cb8fcb4dc35",
   "metadata": {},
   "outputs": [
    {
     "data": {
      "text/plain": [
       "['category_purchase_count_bks',\n",
       " 'category_purchase_count_X4kt',\n",
       " 'category_purchase_count_X4rr',\n",
       " 'category_purchase_count_dep',\n",
       " 'category_purchase_count_kyh',\n",
       " 'category_purchase_count_mgl',\n",
       " 'category_purchase_count_dgv',\n",
       " 'category_purchase_count_ixq',\n",
       " 'category_purchase_count_X26x',\n",
       " 'category_purchase_count_t06',\n",
       " 'category_purchase_count_amz',\n",
       " 'category_purchase_count_reh',\n",
       " 'category_purchase_count_ckf',\n",
       " 'category_purchase_count_j9e',\n",
       " 'category_purchase_count_jek',\n",
       " 'category_purchase_count_tyy',\n",
       " 'category_purchase_count_vdm',\n",
       " 'category_purchase_count_X6bo',\n",
       " 'category_purchase_count_X2oq',\n",
       " 'category_purchase_count_mcr',\n",
       " 'category_purchase_count_osp',\n",
       " 'category_purchase_count_r18']"
      ]
     },
     "execution_count": 4,
     "metadata": {},
     "output_type": "execute_result"
    }
   ],
   "source": [
    "nan_columns = data.columns[data.isna().any()].tolist()\n",
    "nan_columns"
   ]
  },
  {
   "cell_type": "code",
   "execution_count": 5,
   "id": "cd5b94c7-93e1-4855-90a6-8c17cdaec59d",
   "metadata": {},
   "outputs": [
    {
     "name": "stdout",
     "output_type": "stream",
     "text": [
      "label distribution for NaN rows {'normal': 18520, 'fraud': 684}\n",
      "NaNs in 19204 rows before imputation\n",
      "NaNs in 18643 rows after imputation\n"
     ]
    },
    {
     "data": {
      "text/plain": [
       "(462464, 40)"
      ]
     },
     "execution_count": 5,
     "metadata": {},
     "output_type": "execute_result"
    }
   ],
   "source": [
    "\"\"\"\n",
    "NaN Handling:\n",
    "\n",
    "    * Label distribution in NaN rows is not significant, \n",
    "      but let's still try to impute some values\n",
    "      \n",
    "    * Since nans are only in \"category_purchase_count_*\" columns,\n",
    "      we forward fill the nan values for each user where ever we can.\n",
    "\n",
    "    * Post that we drop nan values\n",
    "\"\"\"\n",
    "print(\n",
    "    \"label distribution for NaN rows\",\n",
    "    data[data.isnull().any(axis=1)].label.value_counts().to_dict(),\n",
    ")\n",
    "print(f\"NaNs in {len(data[data.isnull().any(axis=1)])} rows before imputation\")\n",
    "\n",
    "# Convert 'order_date' to datetime type\n",
    "data[\"order_date\"] = pd.to_datetime(data[\"order_date\"], errors=\"coerce\")\n",
    "\n",
    "# Sort the DataFrame by 'user_id' and 'order_date'\n",
    "data.sort_values(by=[\"user_id\", \"order_date\"], inplace=True)\n",
    "\n",
    "# Forward-fill NaN values within each user group based on 'order_date'\n",
    "data[nan_columns] = data.groupby(\"user_id\")[nan_columns].transform(lambda x: x.ffill())\n",
    "\n",
    "print(f\"NaNs in {len(data[data.isnull().any(axis=1)])} rows after imputation\")\n",
    "\n",
    "# drop nans now\n",
    "data.dropna(inplace=True)\n",
    "data.shape"
   ]
  },
  {
   "cell_type": "code",
   "execution_count": 6,
   "id": "95d8d926-35b7-46e2-8b65-285c968394e2",
   "metadata": {},
   "outputs": [
    {
     "data": {
      "text/html": [
       "<div>\n",
       "<style scoped>\n",
       "    .dataframe tbody tr th:only-of-type {\n",
       "        vertical-align: middle;\n",
       "    }\n",
       "\n",
       "    .dataframe tbody tr th {\n",
       "        vertical-align: top;\n",
       "    }\n",
       "\n",
       "    .dataframe thead th {\n",
       "        text-align: right;\n",
       "    }\n",
       "</style>\n",
       "<table border=\"1\" class=\"dataframe\">\n",
       "  <thead>\n",
       "    <tr style=\"text-align: right;\">\n",
       "      <th></th>\n",
       "      <th>order_id</th>\n",
       "      <th>product_id</th>\n",
       "      <th>quantity</th>\n",
       "      <th>selling_price</th>\n",
       "      <th>order_date</th>\n",
       "      <th>shipping_type</th>\n",
       "      <th>user_id</th>\n",
       "      <th>user_account_created_date</th>\n",
       "      <th>address_id</th>\n",
       "      <th>city</th>\n",
       "      <th>...</th>\n",
       "      <th>category_purchase_count_j9e</th>\n",
       "      <th>category_purchase_count_jek</th>\n",
       "      <th>category_purchase_count_tyy</th>\n",
       "      <th>category_purchase_count_vdm</th>\n",
       "      <th>category_purchase_count_X6bo</th>\n",
       "      <th>category_purchase_count_X2oq</th>\n",
       "      <th>category_purchase_count_mcr</th>\n",
       "      <th>category_purchase_count_osp</th>\n",
       "      <th>category_purchase_count_r18</th>\n",
       "      <th>label</th>\n",
       "    </tr>\n",
       "  </thead>\n",
       "  <tbody>\n",
       "    <tr>\n",
       "      <th>1</th>\n",
       "      <td>61c2c93a011a78c76d2e720120bbfd4c</td>\n",
       "      <td>7fec8d8425a12add61c7a83d8270a0cb</td>\n",
       "      <td>1</td>\n",
       "      <td>6999</td>\n",
       "      <td>2014-05-23</td>\n",
       "      <td>ndd</td>\n",
       "      <td>f1f9a2662d06cfd0abc8d2b7147ade37</td>\n",
       "      <td>2012-04-25 09:08:45</td>\n",
       "      <td>a3c2e034510ab9f992bf86ad6327fc6b</td>\n",
       "      <td>89e5701b3aee3a4011e76c441044028b</td>\n",
       "      <td>...</td>\n",
       "      <td>0.0</td>\n",
       "      <td>0.0</td>\n",
       "      <td>2.0</td>\n",
       "      <td>0.0</td>\n",
       "      <td>0.0</td>\n",
       "      <td>0.0</td>\n",
       "      <td>0.0</td>\n",
       "      <td>0.0</td>\n",
       "      <td>0.0</td>\n",
       "      <td>normal</td>\n",
       "    </tr>\n",
       "    <tr>\n",
       "      <th>2</th>\n",
       "      <td>4049bffb21037c1ba41064802baa86f6</td>\n",
       "      <td>59f6d6f76798b14e053f136a5c726d65</td>\n",
       "      <td>1</td>\n",
       "      <td>5589</td>\n",
       "      <td>2014-05-28</td>\n",
       "      <td>non-ndd</td>\n",
       "      <td>a3e8c45cd263e72f7001303a8b22649c</td>\n",
       "      <td>2012-08-10 18:44:49</td>\n",
       "      <td>8fc0ad66f61f9612d9aec2e0ddeebc10</td>\n",
       "      <td>64f692fc1ed662e37a49acaf1c0d0b4a</td>\n",
       "      <td>...</td>\n",
       "      <td>0.0</td>\n",
       "      <td>0.0</td>\n",
       "      <td>8.0</td>\n",
       "      <td>0.0</td>\n",
       "      <td>0.0</td>\n",
       "      <td>0.0</td>\n",
       "      <td>0.0</td>\n",
       "      <td>0.0</td>\n",
       "      <td>0.0</td>\n",
       "      <td>normal</td>\n",
       "    </tr>\n",
       "  </tbody>\n",
       "</table>\n",
       "<p>2 rows × 40 columns</p>\n",
       "</div>"
      ],
      "text/plain": [
       "                           order_id                        product_id  \\\n",
       "1  61c2c93a011a78c76d2e720120bbfd4c  7fec8d8425a12add61c7a83d8270a0cb   \n",
       "2  4049bffb21037c1ba41064802baa86f6  59f6d6f76798b14e053f136a5c726d65   \n",
       "\n",
       "   quantity  selling_price order_date shipping_type  \\\n",
       "1         1           6999 2014-05-23           ndd   \n",
       "2         1           5589 2014-05-28       non-ndd   \n",
       "\n",
       "                            user_id user_account_created_date  \\\n",
       "1  f1f9a2662d06cfd0abc8d2b7147ade37       2012-04-25 09:08:45   \n",
       "2  a3e8c45cd263e72f7001303a8b22649c       2012-08-10 18:44:49   \n",
       "\n",
       "                         address_id                              city  ...  \\\n",
       "1  a3c2e034510ab9f992bf86ad6327fc6b  89e5701b3aee3a4011e76c441044028b  ...   \n",
       "2  8fc0ad66f61f9612d9aec2e0ddeebc10  64f692fc1ed662e37a49acaf1c0d0b4a  ...   \n",
       "\n",
       "  category_purchase_count_j9e category_purchase_count_jek  \\\n",
       "1                         0.0                         0.0   \n",
       "2                         0.0                         0.0   \n",
       "\n",
       "  category_purchase_count_tyy  category_purchase_count_vdm  \\\n",
       "1                         2.0                          0.0   \n",
       "2                         8.0                          0.0   \n",
       "\n",
       "   category_purchase_count_X6bo  category_purchase_count_X2oq  \\\n",
       "1                           0.0                           0.0   \n",
       "2                           0.0                           0.0   \n",
       "\n",
       "   category_purchase_count_mcr  category_purchase_count_osp  \\\n",
       "1                          0.0                          0.0   \n",
       "2                          0.0                          0.0   \n",
       "\n",
       "   category_purchase_count_r18   label  \n",
       "1                          0.0  normal  \n",
       "2                          0.0  normal  \n",
       "\n",
       "[2 rows x 40 columns]"
      ]
     },
     "execution_count": 6,
     "metadata": {},
     "output_type": "execute_result"
    }
   ],
   "source": [
    "data.head(2)"
   ]
  },
  {
   "cell_type": "code",
   "execution_count": 7,
   "id": "40e9602e-134e-4e47-a36a-064f3ee0565a",
   "metadata": {},
   "outputs": [],
   "source": [
    "label_map = {\"fraud\": 1, \"normal\": 0}\n",
    "data[\"label\"] = data[\"label\"].map(label_map)"
   ]
  },
  {
   "cell_type": "code",
   "execution_count": 8,
   "id": "0a95c929-a70b-4d6f-a12e-df305339d68b",
   "metadata": {},
   "outputs": [
    {
     "data": {
      "text/plain": [
       "0    440507\n",
       "1     21396\n",
       "Name: label, dtype: int64"
      ]
     },
     "execution_count": 8,
     "metadata": {},
     "output_type": "execute_result"
    }
   ],
   "source": [
    "data[\"label\"].value_counts()"
   ]
  },
  {
   "cell_type": "code",
   "execution_count": 9,
   "id": "08a00cde-a9e0-463b-9f51-b8de47d3bb56",
   "metadata": {},
   "outputs": [
    {
     "data": {
      "text/plain": [
       "'The data spans across 11 days'"
      ]
     },
     "execution_count": 9,
     "metadata": {},
     "output_type": "execute_result"
    }
   ],
   "source": [
    "f\"The data spans across {(data.order_date.max() - data.order_date.min()).days} days\""
   ]
  },
  {
   "cell_type": "markdown",
   "id": "9b5606a7-566a-4deb-a00b-150347253d83",
   "metadata": {},
   "source": [
    "# EDA\n",
    "______"
   ]
  },
  {
   "cell_type": "code",
   "execution_count": 10,
   "id": "0518fa69-29e0-4459-a3a7-72e374db4544",
   "metadata": {},
   "outputs": [],
   "source": [
    "def plot(data, X, Y, topk=None, mode=\"count\", plot_type=\"bar\", figsize=(10, 4)):\n",
    "    \"\"\"\n",
    "    plot count/mean of Y for every X\n",
    "    bar plot/pie chart based on the plot_type argument\n",
    "    \"\"\"\n",
    "    group = data.groupby(X)[Y]\n",
    "    group = (\n",
    "        group.mean()\n",
    "        if mode == \"mean\"\n",
    "        else group.nunique()\n",
    "        if mode == \"unique count\"\n",
    "        else group.count()\n",
    "    )\n",
    "\n",
    "    group = (\n",
    "        group.nlargest(topk).reset_index() if topk is not None else group.reset_index()\n",
    "    )\n",
    "\n",
    "    x_axis = group[X]\n",
    "    x_axis = [\"\\n\".join(str(x).split(\" \")) for x in x_axis]\n",
    "    y_axis = group[Y]\n",
    "\n",
    "    plt.figure(figsize=figsize)\n",
    "\n",
    "    if plot_type == \"pie\":\n",
    "        plt.pie(y_axis, labels=x_axis, autopct=\"%1.1f%%\", startangle=140)\n",
    "\n",
    "    else:\n",
    "        sns.barplot(x=x_axis, y=y_axis)\n",
    "\n",
    "    plt.xticks(fontsize=10, rotation=90)\n",
    "    plt.grid(color=\"black\", linestyle=\"-\", linewidth=1, alpha=0.3)\n",
    "    plt.title(f\"{Y} distribution for {X}\")"
   ]
  },
  {
   "cell_type": "code",
   "execution_count": 11,
   "id": "c30bb333-0edf-4e02-babc-f095455b2eba",
   "metadata": {},
   "outputs": [
    {
     "data": {
      "image/png": "[encoded data removed]",
      "text/plain": [
       "<Figure size 1000x300 with 1 Axes>"
      ]
     },
     "metadata": {},
     "output_type": "display_data"
    }
   ],
   "source": [
    "\"\"\"\n",
    "Plot Info:\n",
    "    * Net demand for each vertical on the platform\n",
    "\n",
    "Observation:\n",
    "    * Demand for Books on the platform is more than the demand for next 9 verticals combined!\n",
    "\"\"\"\n",
    "plot(data, \"vertical\", \"label\", topk=10, plot_type=\"bar\", figsize=(10, 3))"
   ]
  },
  {
   "cell_type": "code",
   "execution_count": 12,
   "id": "01252903-9a0f-4f2c-bd6a-c41af784201e",
   "metadata": {},
   "outputs": [
    {
     "data": {
      "image/png": "[encoded data removed]",
      "text/plain": [
       "<Figure size 1000x300 with 1 Axes>"
      ]
     },
     "metadata": {},
     "output_type": "display_data"
    },
    {
     "data": {
      "image/png": "[encoded data removed]",
      "text/plain": [
       "<Figure size 1000x400 with 1 Axes>"
      ]
     },
     "metadata": {},
     "output_type": "display_data"
    }
   ],
   "source": [
    "\"\"\"\n",
    "Plot Info:\n",
    "    * Number of fraud cases in the top 5 most frauded verticals (bar and pie plot)\n",
    "\n",
    "Observation:\n",
    "    * Among the top five vertical with the highest occurrence of fraud, the handset category accounts for 63% of cases.\n",
    "    * Frauds in Handset vertical is more than frauds in next 4 verticals combined!!\n",
    "\"\"\"\n",
    "plot(\n",
    "    data[data[\"label\"] == 1],\n",
    "    \"vertical\",\n",
    "    \"label\",\n",
    "    topk=5,\n",
    "    plot_type=\"bar\",\n",
    "    figsize=(10, 3),\n",
    ")\n",
    "plot(\n",
    "    data[data[\"label\"] == 1],\n",
    "    \"vertical\",\n",
    "    \"label\",\n",
    "    topk=5,\n",
    "    plot_type=\"pie\",\n",
    "    figsize=(10, 4),\n",
    ")"
   ]
  },
  {
   "cell_type": "code",
   "execution_count": 13,
   "id": "093c3715-f016-4abf-bef5-5a860680fec0",
   "metadata": {},
   "outputs": [
    {
     "data": {
      "image/png": "[encoded data removed]",
      "text/plain": [
       "<Figure size 1000x400 with 1 Axes>"
      ]
     },
     "metadata": {},
     "output_type": "display_data"
    },
    {
     "data": {
      "image/png": "[encoded data removed]",
      "text/plain": [
       "<Figure size 1000x400 with 1 Axes>"
      ]
     },
     "metadata": {},
     "output_type": "display_data"
    }
   ],
   "source": [
    "\"\"\"\n",
    "Plot Info:\n",
    "    * Plot 1 is for Fraud cases: Fraud distribution across cities\n",
    "    * Plot 2 is overall: Overall demand distribution from cities\n",
    "\n",
    "Observation: \n",
    "    * Among the top five cities with the highest occurrence of fraud, \n",
    "      '20f5b086ee309eb5c749145d3f0d939f' city accounts for 52% of cases.\n",
    "\n",
    "    * City '89e5701b3aee3a4011e76c441044028b' seems to be the best city. \n",
    "      Brings in 29.2% demand among the top 5 cities, and only contributes to 9.8% of frauds!\n",
    "\"\"\"\n",
    "plot(data[data[\"label\"] == 1], \"city\", \"label\", topk=5, plot_type=\"pie\")\n",
    "plot(data, \"city\", \"label\", topk=5, plot_type=\"pie\")"
   ]
  },
  {
   "cell_type": "code",
   "execution_count": 14,
   "id": "5acc9b0a-b983-446c-b2f7-4582ab3ab514",
   "metadata": {},
   "outputs": [
    {
     "data": {
      "image/png": "[encoded data removed]",
      "text/plain": [
       "<Figure size 1000x400 with 1 Axes>"
      ]
     },
     "metadata": {},
     "output_type": "display_data"
    },
    {
     "data": {
      "image/png": "[encoded data removed]",
      "text/plain": [
       "<Figure size 1000x400 with 1 Axes>"
      ]
     },
     "metadata": {},
     "output_type": "display_data"
    }
   ],
   "source": [
    "\"\"\"\n",
    "Plot Info:\n",
    "    In the most fraudulant city, i.e. \"20f5b086ee309eb5c749145d3f0d939f\"\n",
    "    \n",
    "    * Plot 1 is for Fraud cases : the share of verticals in fraud cases\n",
    "    * Plot 2 is for Normal cases : the overall verticals demand in the city\n",
    "\n",
    "Observation: \n",
    "    * 90% i.e. (52.1 + 37.9)% fraud happens in mobile phones which \n",
    "      contributes to 39.5% i.e. (34.0 + 5.5)% overall demand in the most fraudulant city!\n",
    "\"\"\"\n",
    "plot(\n",
    "    data[(data[\"label\"] == 1) & (data[\"city\"] == \"20f5b086ee309eb5c749145d3f0d939f\")],\n",
    "    \"vertical\",\n",
    "    \"label\",\n",
    "    topk=5,\n",
    "    plot_type=\"pie\",\n",
    ")\n",
    "plot(\n",
    "    data[data[\"city\"] == \"20f5b086ee309eb5c749145d3f0d939f\"],\n",
    "    \"vertical\",\n",
    "    \"label\",\n",
    "    topk=5,\n",
    "    plot_type=\"pie\",\n",
    ")"
   ]
  },
  {
   "cell_type": "code",
   "execution_count": 15,
   "id": "3bb70b2e-e5bb-4ff8-938e-fa200832e8c0",
   "metadata": {},
   "outputs": [
    {
     "data": {
      "image/png": "[encoded data removed]",
      "text/plain": [
       "<Figure size 1000x400 with 1 Axes>"
      ]
     },
     "metadata": {},
     "output_type": "display_data"
    }
   ],
   "source": [
    "\"\"\"\n",
    "Plot Info:\n",
    "    * The average selling price across each label (1=Fraud, 0=Normal)\n",
    "\n",
    "Observation:\n",
    "    * As expected, frauds happen with expensive items.\n",
    "\"\"\"\n",
    "plot(data, \"label\", \"selling_price\", mode=\"mean\", topk=5, plot_type=\"bar\")"
   ]
  },
  {
   "cell_type": "code",
   "execution_count": 16,
   "id": "3a2d3cc4-108c-4907-92fd-02d5249a4bac",
   "metadata": {},
   "outputs": [],
   "source": [
    "\"\"\"\n",
    "FAIL: Since the data is only for 11 days, we don't find any dependence/trend in time\n",
    "\"\"\"\n",
    "def time_plot(\n",
    "    data: pd.DataFrame,\n",
    "    filter_col: List,\n",
    "    time_col: List,\n",
    "    agg_col: str,\n",
    "    xcol_name: str,\n",
    "    ycol_name: str,\n",
    "    figsize: Tuple = (10, 4),\n",
    "    title: str = None,\n",
    "):\n",
    "    \"\"\"\n",
    "    * Plot the count of orders for a categorical column, say, vertical, across each day of the month \n",
    "    \n",
    "    time plot for the columns in \"filter_col\" across the \n",
    "    time (year, month, day, hour) mentioned in the \"time_col\"\n",
    "    taking count of the \"agg_col\"\n",
    "\n",
    "    filter_cols are columns with categorical variables like \"vertical\"    \n",
    "    \"\"\"\n",
    "    # group by filter and time columns and calculate the count of aggregate column\n",
    "    data = (\n",
    "        data.groupby(filter_col + time_col)[agg_col].count().reset_index(name=\"count\")\n",
    "    )\n",
    "    data.sort_values(by=filter_col + time_col, ascending=True, inplace=True)\n",
    "\n",
    "    # aggregate all filter columns for filtering and plotting iteratively\n",
    "    data[\"temp\"] = data[filter_col[0]]\n",
    "    for col in filter_col[1:]:\n",
    "        data[\"temp\"] = data[\"temp\"] + \" \" + data[col]\n",
    "\n",
    "    # plot graphs for each value in temp\n",
    "    unique_values = data[\"temp\"].unique()\n",
    "    assert len(unique_values) < 10, \"Can not plot more than 10 graphs..\"\n",
    "\n",
    "    for value in unique_values:\n",
    "        data_cut = data[data[\"temp\"] == value]\n",
    "\n",
    "        # values for x axis\n",
    "        x = data_cut[time_col[0]].astype(str)\n",
    "\n",
    "        for tc in time_col[1:]:\n",
    "            x = x + \"-\" + data_cut[tc].astype(str)\n",
    "\n",
    "        # values for y axis\n",
    "        y = data_cut[\"count\"]\n",
    "\n",
    "        # plot\n",
    "        plt.figure(figsize=figsize)\n",
    "        plt.plot(x, y, marker=\"o\", linestyle=\"-\")\n",
    "\n",
    "        plt.xlabel(xcol_name)\n",
    "        plt.ylabel(ycol_name)\n",
    "        plt.title(f\"{ycol_name} vs {xcol_name} - {value}\" if title is None else title)\n",
    "        plt.grid(True)\n",
    "\n",
    "        plt.show()"
   ]
  },
  {
   "cell_type": "code",
   "execution_count": 17,
   "id": "90d27f4e-e534-4d30-9463-adb4d38c1a18",
   "metadata": {},
   "outputs": [
    {
     "data": {
      "image/png": "[encoded data removed]",
      "text/plain": [
       "<Figure size 1500x300 with 1 Axes>"
      ]
     },
     "metadata": {},
     "output_type": "display_data"
    },
    {
     "data": {
      "image/png": "[encoded data removed]",
      "text/plain": [
       "<Figure size 1500x300 with 1 Axes>"
      ]
     },
     "metadata": {},
     "output_type": "display_data"
    }
   ],
   "source": [
    "\"\"\"\n",
    "Plot Info:\n",
    "    * The count of fraud orders for \n",
    "      \"Handset\" and \"MobileTabletWithCallFacility\" vertical\n",
    "      across each day of the week\n",
    "\n",
    "Observation:\n",
    "    * There is no relationship or trend that can be observed \n",
    "    (maybe because data spans only 11 days)\n",
    "\"\"\"\n",
    "\n",
    "cut = data.copy()\n",
    "\n",
    "cut[f\"order_date_weekday\"] = cut[\"order_date\"].dt.dayofweek\n",
    "cut = cut[cut[\"label\"] == 1]\n",
    "\n",
    "time_plot(\n",
    "    cut[cut[\"vertical\"].isin([\"Handset\", \"MobileTabletWithCallFacility\"])].copy(),\n",
    "    filter_col=[\"vertical\"],\n",
    "    time_col=[\"order_date_weekday\"],\n",
    "    agg_col=\"label\",\n",
    "    xcol_name=\"Day of Week (Monday=0)\",\n",
    "    ycol_name=\"Number of Customers\",\n",
    "    figsize=(15, 3),\n",
    ")"
   ]
  },
  {
   "cell_type": "code",
   "execution_count": 18,
   "id": "59f575f8-4048-42fb-a98d-4e03c6aa33e2",
   "metadata": {},
   "outputs": [
    {
     "data": {
      "image/png": "[encoded data removed]",
      "text/plain": [
       "<Figure size 1500x300 with 1 Axes>"
      ]
     },
     "metadata": {},
     "output_type": "display_data"
    },
    {
     "data": {
      "image/png": "[encoded data removed]",
      "text/plain": [
       "<Figure size 1500x300 with 1 Axes>"
      ]
     },
     "metadata": {},
     "output_type": "display_data"
    }
   ],
   "source": [
    "\"\"\"\n",
    "Same plot as above but for each day of the month\n",
    "\"\"\"\n",
    "\n",
    "cut[\"day_of_month\"] = cut[\"order_date\"].dt.day\n",
    "\n",
    "time_plot(\n",
    "    cut[cut[\"vertical\"].isin([\"Handset\", \"MobileTabletWithCallFacility\"])].copy(),\n",
    "    filter_col=[\"vertical\"],\n",
    "    time_col=[\"day_of_month\"],\n",
    "    agg_col=\"label\",\n",
    "    xcol_name=\"Day of Month\",\n",
    "    ycol_name=\"Number of Customers\",\n",
    "    figsize=(15, 3),\n",
    ")"
   ]
  },
  {
   "cell_type": "markdown",
   "id": "dda25908-1ed0-45ce-88b9-c4116185795a",
   "metadata": {},
   "source": [
    "## EDA Conclusions:\n",
    "\n",
    "* There is no dependence observed on the time when the order was placed\n",
    "* Vertical (product category) could serve as the most important feature\n",
    "* Geography of the customer also has a relation with the outcome\n",
    "* Selling Price of the goods could also have a decent impact"
   ]
  },
  {
   "cell_type": "markdown",
   "id": "ef5471b8-4273-43d5-9cc4-3fc8fd51967a",
   "metadata": {},
   "source": [
    "# ___________________________________________FeatureEngineering"
   ]
  },
  {
   "cell_type": "markdown",
   "id": "606aebdb-da0d-460b-8b28-473a26bd93e6",
   "metadata": {},
   "source": [
    "# Time Encoding"
   ]
  },
  {
   "cell_type": "code",
   "execution_count": 66,
   "id": "ad1f498c-80d7-491d-b535-27417dbdcaff",
   "metadata": {},
   "outputs": [],
   "source": [
    "\"\"\"\n",
    "Though we concluded that time wouldn't play a crucial role in this particular case,\n",
    "just to make the solution scalable for when we have enough data, let's still have time encoded.\n",
    "\n",
    "Time could be an important feature when we consider data for the entire year.\n",
    "It could capture seasonality, festivals and events like Big Billion Days sale!\n",
    "\"\"\""
   ]
  },
  {
   "cell_type": "code",
   "execution_count": 10,
   "id": "7edbabf9-a5e1-443f-8d32-79da9c3b4aab",
   "metadata": {},
   "outputs": [],
   "source": [
    "# Encode date in two components of Sin and Cosine\n",
    "def cyclic_encoding(data, col, max_val):\n",
    "    data[f\"{col}_sin\"] = np.sin(2 * np.pi * data[col] / max_val)\n",
    "    data[f\"{col}_cos\"] = np.cos(2 * np.pi * data[col] / max_val)\n",
    "    return data.drop(col, axis=1)\n",
    "\n",
    "\n",
    "def time_features(data, column):\n",
    "    data[column] = pd.to_datetime(data[column], errors=\"coerce\")\n",
    "\n",
    "    data[f\"{column} Month\"] = data[column].dt.month\n",
    "    data[f\"{column} Day\"] = data[column].dt.day\n",
    "    data[f\"{column} Hour\"] = data[column].dt.hour\n",
    "    data[f\"{column} Weekday\"] = data[column].dt.dayofweek\n",
    "\n",
    "    max_values = [(\"Hour\", 24), (\"Month\", 12), (\"Day\", 31), (\"Weekday\", 7)]\n",
    "\n",
    "    for col_name, max_value in max_values:\n",
    "        data = cyclic_encoding(data, f\"{column} {col_name}\", max_value)\n",
    "\n",
    "    return data"
   ]
  },
  {
   "cell_type": "code",
   "execution_count": 11,
   "id": "b077b849-09ef-4371-942b-a0a38f620f72",
   "metadata": {},
   "outputs": [
    {
     "data": {
      "text/html": [
       "<div>\n",
       "<style scoped>\n",
       "    .dataframe tbody tr th:only-of-type {\n",
       "        vertical-align: middle;\n",
       "    }\n",
       "\n",
       "    .dataframe tbody tr th {\n",
       "        vertical-align: top;\n",
       "    }\n",
       "\n",
       "    .dataframe thead th {\n",
       "        text-align: right;\n",
       "    }\n",
       "</style>\n",
       "<table border=\"1\" class=\"dataframe\">\n",
       "  <thead>\n",
       "    <tr style=\"text-align: right;\">\n",
       "      <th></th>\n",
       "      <th>order_id</th>\n",
       "      <th>product_id</th>\n",
       "      <th>quantity</th>\n",
       "      <th>selling_price</th>\n",
       "      <th>order_date</th>\n",
       "      <th>shipping_type</th>\n",
       "      <th>user_id</th>\n",
       "      <th>user_account_created_date</th>\n",
       "      <th>address_id</th>\n",
       "      <th>city</th>\n",
       "      <th>...</th>\n",
       "      <th>order_date Weekday_sin</th>\n",
       "      <th>order_date Weekday_cos</th>\n",
       "      <th>user_account_created_date Hour_sin</th>\n",
       "      <th>user_account_created_date Hour_cos</th>\n",
       "      <th>user_account_created_date Month_sin</th>\n",
       "      <th>user_account_created_date Month_cos</th>\n",
       "      <th>user_account_created_date Day_sin</th>\n",
       "      <th>user_account_created_date Day_cos</th>\n",
       "      <th>user_account_created_date Weekday_sin</th>\n",
       "      <th>user_account_created_date Weekday_cos</th>\n",
       "    </tr>\n",
       "  </thead>\n",
       "  <tbody>\n",
       "    <tr>\n",
       "      <th>1</th>\n",
       "      <td>61c2c93a011a78c76d2e720120bbfd4c</td>\n",
       "      <td>7fec8d8425a12add61c7a83d8270a0cb</td>\n",
       "      <td>1</td>\n",
       "      <td>6999</td>\n",
       "      <td>2014-05-23</td>\n",
       "      <td>ndd</td>\n",
       "      <td>f1f9a2662d06cfd0abc8d2b7147ade37</td>\n",
       "      <td>2012-04-25 09:08:45</td>\n",
       "      <td>a3c2e034510ab9f992bf86ad6327fc6b</td>\n",
       "      <td>89e5701b3aee3a4011e76c441044028b</td>\n",
       "      <td>...</td>\n",
       "      <td>-0.433884</td>\n",
       "      <td>-0.900969</td>\n",
       "      <td>0.707107</td>\n",
       "      <td>-7.071068e-01</td>\n",
       "      <td>0.866025</td>\n",
       "      <td>-0.5</td>\n",
       "      <td>-0.937752</td>\n",
       "      <td>0.347305</td>\n",
       "      <td>0.974928</td>\n",
       "      <td>-0.222521</td>\n",
       "    </tr>\n",
       "    <tr>\n",
       "      <th>2</th>\n",
       "      <td>4049bffb21037c1ba41064802baa86f6</td>\n",
       "      <td>59f6d6f76798b14e053f136a5c726d65</td>\n",
       "      <td>1</td>\n",
       "      <td>5589</td>\n",
       "      <td>2014-05-28</td>\n",
       "      <td>non-ndd</td>\n",
       "      <td>a3e8c45cd263e72f7001303a8b22649c</td>\n",
       "      <td>2012-08-10 18:44:49</td>\n",
       "      <td>8fc0ad66f61f9612d9aec2e0ddeebc10</td>\n",
       "      <td>64f692fc1ed662e37a49acaf1c0d0b4a</td>\n",
       "      <td>...</td>\n",
       "      <td>0.974928</td>\n",
       "      <td>-0.222521</td>\n",
       "      <td>-1.000000</td>\n",
       "      <td>-1.836970e-16</td>\n",
       "      <td>-0.866025</td>\n",
       "      <td>-0.5</td>\n",
       "      <td>0.897805</td>\n",
       "      <td>-0.440394</td>\n",
       "      <td>-0.433884</td>\n",
       "      <td>-0.900969</td>\n",
       "    </tr>\n",
       "  </tbody>\n",
       "</table>\n",
       "<p>2 rows × 56 columns</p>\n",
       "</div>"
      ],
      "text/plain": [
       "                           order_id                        product_id  \\\n",
       "1  61c2c93a011a78c76d2e720120bbfd4c  7fec8d8425a12add61c7a83d8270a0cb   \n",
       "2  4049bffb21037c1ba41064802baa86f6  59f6d6f76798b14e053f136a5c726d65   \n",
       "\n",
       "   quantity  selling_price order_date shipping_type  \\\n",
       "1         1           6999 2014-05-23           ndd   \n",
       "2         1           5589 2014-05-28       non-ndd   \n",
       "\n",
       "                            user_id user_account_created_date  \\\n",
       "1  f1f9a2662d06cfd0abc8d2b7147ade37       2012-04-25 09:08:45   \n",
       "2  a3e8c45cd263e72f7001303a8b22649c       2012-08-10 18:44:49   \n",
       "\n",
       "                         address_id                              city  ...  \\\n",
       "1  a3c2e034510ab9f992bf86ad6327fc6b  89e5701b3aee3a4011e76c441044028b  ...   \n",
       "2  8fc0ad66f61f9612d9aec2e0ddeebc10  64f692fc1ed662e37a49acaf1c0d0b4a  ...   \n",
       "\n",
       "  order_date Weekday_sin order_date Weekday_cos  \\\n",
       "1              -0.433884              -0.900969   \n",
       "2               0.974928              -0.222521   \n",
       "\n",
       "  user_account_created_date Hour_sin  user_account_created_date Hour_cos  \\\n",
       "1                           0.707107                       -7.071068e-01   \n",
       "2                          -1.000000                       -1.836970e-16   \n",
       "\n",
       "   user_account_created_date Month_sin  user_account_created_date Month_cos  \\\n",
       "1                             0.866025                                 -0.5   \n",
       "2                            -0.866025                                 -0.5   \n",
       "\n",
       "   user_account_created_date Day_sin  user_account_created_date Day_cos  \\\n",
       "1                          -0.937752                           0.347305   \n",
       "2                           0.897805                          -0.440394   \n",
       "\n",
       "   user_account_created_date Weekday_sin  \\\n",
       "1                               0.974928   \n",
       "2                              -0.433884   \n",
       "\n",
       "   user_account_created_date Weekday_cos  \n",
       "1                              -0.222521  \n",
       "2                              -0.900969  \n",
       "\n",
       "[2 rows x 56 columns]"
      ]
     },
     "execution_count": 11,
     "metadata": {},
     "output_type": "execute_result"
    }
   ],
   "source": [
    "time_cols = [\"order_date\", \"user_account_created_date\"]\n",
    "\n",
    "for col in time_cols:\n",
    "    data = time_features(data, col)\n",
    "\n",
    "data.head(2)"
   ]
  },
  {
   "cell_type": "code",
   "execution_count": 12,
   "id": "2a6ba6f8-616f-43b5-b34b-6183027183c2",
   "metadata": {},
   "outputs": [
    {
     "data": {
      "text/html": [
       "<div>\n",
       "<style scoped>\n",
       "    .dataframe tbody tr th:only-of-type {\n",
       "        vertical-align: middle;\n",
       "    }\n",
       "\n",
       "    .dataframe tbody tr th {\n",
       "        vertical-align: top;\n",
       "    }\n",
       "\n",
       "    .dataframe thead th {\n",
       "        text-align: right;\n",
       "    }\n",
       "</style>\n",
       "<table border=\"1\" class=\"dataframe\">\n",
       "  <thead>\n",
       "    <tr style=\"text-align: right;\">\n",
       "      <th></th>\n",
       "      <th>order_id</th>\n",
       "      <th>product_id</th>\n",
       "      <th>quantity</th>\n",
       "      <th>selling_price</th>\n",
       "      <th>order_date</th>\n",
       "      <th>shipping_type</th>\n",
       "      <th>user_id</th>\n",
       "      <th>user_account_created_date</th>\n",
       "      <th>address_id</th>\n",
       "      <th>city</th>\n",
       "      <th>...</th>\n",
       "      <th>user_account_created_date Hour_sin</th>\n",
       "      <th>user_account_created_date Hour_cos</th>\n",
       "      <th>user_account_created_date Month_sin</th>\n",
       "      <th>user_account_created_date Month_cos</th>\n",
       "      <th>user_account_created_date Day_sin</th>\n",
       "      <th>user_account_created_date Day_cos</th>\n",
       "      <th>user_account_created_date Weekday_sin</th>\n",
       "      <th>user_account_created_date Weekday_cos</th>\n",
       "      <th>duration_days</th>\n",
       "      <th>duration_months</th>\n",
       "    </tr>\n",
       "  </thead>\n",
       "  <tbody>\n",
       "    <tr>\n",
       "      <th>1</th>\n",
       "      <td>61c2c93a011a78c76d2e720120bbfd4c</td>\n",
       "      <td>7fec8d8425a12add61c7a83d8270a0cb</td>\n",
       "      <td>1</td>\n",
       "      <td>6999</td>\n",
       "      <td>2014-05-23</td>\n",
       "      <td>ndd</td>\n",
       "      <td>f1f9a2662d06cfd0abc8d2b7147ade37</td>\n",
       "      <td>2012-04-25 09:08:45</td>\n",
       "      <td>a3c2e034510ab9f992bf86ad6327fc6b</td>\n",
       "      <td>89e5701b3aee3a4011e76c441044028b</td>\n",
       "      <td>...</td>\n",
       "      <td>0.707107</td>\n",
       "      <td>-7.071068e-01</td>\n",
       "      <td>0.866025</td>\n",
       "      <td>-0.5</td>\n",
       "      <td>-0.937752</td>\n",
       "      <td>0.347305</td>\n",
       "      <td>0.974928</td>\n",
       "      <td>-0.222521</td>\n",
       "      <td>758.0</td>\n",
       "      <td>25.0</td>\n",
       "    </tr>\n",
       "    <tr>\n",
       "      <th>2</th>\n",
       "      <td>4049bffb21037c1ba41064802baa86f6</td>\n",
       "      <td>59f6d6f76798b14e053f136a5c726d65</td>\n",
       "      <td>1</td>\n",
       "      <td>5589</td>\n",
       "      <td>2014-05-28</td>\n",
       "      <td>non-ndd</td>\n",
       "      <td>a3e8c45cd263e72f7001303a8b22649c</td>\n",
       "      <td>2012-08-10 18:44:49</td>\n",
       "      <td>8fc0ad66f61f9612d9aec2e0ddeebc10</td>\n",
       "      <td>64f692fc1ed662e37a49acaf1c0d0b4a</td>\n",
       "      <td>...</td>\n",
       "      <td>-1.000000</td>\n",
       "      <td>-1.836970e-16</td>\n",
       "      <td>-0.866025</td>\n",
       "      <td>-0.5</td>\n",
       "      <td>0.897805</td>\n",
       "      <td>-0.440394</td>\n",
       "      <td>-0.433884</td>\n",
       "      <td>-0.900969</td>\n",
       "      <td>655.0</td>\n",
       "      <td>22.0</td>\n",
       "    </tr>\n",
       "  </tbody>\n",
       "</table>\n",
       "<p>2 rows × 58 columns</p>\n",
       "</div>"
      ],
      "text/plain": [
       "                           order_id                        product_id  \\\n",
       "1  61c2c93a011a78c76d2e720120bbfd4c  7fec8d8425a12add61c7a83d8270a0cb   \n",
       "2  4049bffb21037c1ba41064802baa86f6  59f6d6f76798b14e053f136a5c726d65   \n",
       "\n",
       "   quantity  selling_price order_date shipping_type  \\\n",
       "1         1           6999 2014-05-23           ndd   \n",
       "2         1           5589 2014-05-28       non-ndd   \n",
       "\n",
       "                            user_id user_account_created_date  \\\n",
       "1  f1f9a2662d06cfd0abc8d2b7147ade37       2012-04-25 09:08:45   \n",
       "2  a3e8c45cd263e72f7001303a8b22649c       2012-08-10 18:44:49   \n",
       "\n",
       "                         address_id                              city  ...  \\\n",
       "1  a3c2e034510ab9f992bf86ad6327fc6b  89e5701b3aee3a4011e76c441044028b  ...   \n",
       "2  8fc0ad66f61f9612d9aec2e0ddeebc10  64f692fc1ed662e37a49acaf1c0d0b4a  ...   \n",
       "\n",
       "  user_account_created_date Hour_sin user_account_created_date Hour_cos  \\\n",
       "1                           0.707107                      -7.071068e-01   \n",
       "2                          -1.000000                      -1.836970e-16   \n",
       "\n",
       "  user_account_created_date Month_sin  user_account_created_date Month_cos  \\\n",
       "1                            0.866025                                 -0.5   \n",
       "2                           -0.866025                                 -0.5   \n",
       "\n",
       "   user_account_created_date Day_sin  user_account_created_date Day_cos  \\\n",
       "1                          -0.937752                           0.347305   \n",
       "2                           0.897805                          -0.440394   \n",
       "\n",
       "   user_account_created_date Weekday_sin  \\\n",
       "1                               0.974928   \n",
       "2                              -0.433884   \n",
       "\n",
       "   user_account_created_date Weekday_cos  duration_days  duration_months  \n",
       "1                              -0.222521          758.0             25.0  \n",
       "2                              -0.900969          655.0             22.0  \n",
       "\n",
       "[2 rows x 58 columns]"
      ]
     },
     "execution_count": 12,
     "metadata": {},
     "output_type": "execute_result"
    }
   ],
   "source": [
    "# Time of order since the customer has been on the platform\n",
    "data[\"duration_days\"] = round(\n",
    "    (data[\"order_date\"] - data[\"user_account_created_date\"]) / np.timedelta64(1, \"D\")\n",
    ")\n",
    "data[\"duration_months\"] = round(\n",
    "    (data[\"order_date\"] - data[\"user_account_created_date\"]) / np.timedelta64(1, \"M\")\n",
    ")\n",
    "data.head(2)"
   ]
  },
  {
   "cell_type": "code",
   "execution_count": 13,
   "id": "1d6d5c92-9079-4f83-9c10-bf6c50209c63",
   "metadata": {},
   "outputs": [
    {
     "data": {
      "text/html": [
       "<div>\n",
       "<style scoped>\n",
       "    .dataframe tbody tr th:only-of-type {\n",
       "        vertical-align: middle;\n",
       "    }\n",
       "\n",
       "    .dataframe tbody tr th {\n",
       "        vertical-align: top;\n",
       "    }\n",
       "\n",
       "    .dataframe thead th {\n",
       "        text-align: right;\n",
       "    }\n",
       "</style>\n",
       "<table border=\"1\" class=\"dataframe\">\n",
       "  <thead>\n",
       "    <tr style=\"text-align: right;\">\n",
       "      <th></th>\n",
       "      <th>order_id</th>\n",
       "      <th>product_id</th>\n",
       "      <th>quantity</th>\n",
       "      <th>selling_price</th>\n",
       "      <th>order_date</th>\n",
       "      <th>shipping_type</th>\n",
       "      <th>user_id</th>\n",
       "      <th>user_account_created_date</th>\n",
       "      <th>address_id</th>\n",
       "      <th>city</th>\n",
       "      <th>...</th>\n",
       "      <th>user_account_created_date Month_cos</th>\n",
       "      <th>user_account_created_date Day_sin</th>\n",
       "      <th>user_account_created_date Day_cos</th>\n",
       "      <th>user_account_created_date Weekday_sin</th>\n",
       "      <th>user_account_created_date Weekday_cos</th>\n",
       "      <th>duration_days</th>\n",
       "      <th>duration_months</th>\n",
       "      <th>discount_to_selling_price</th>\n",
       "      <th>quantity_to_last_14</th>\n",
       "      <th>total_order_value</th>\n",
       "    </tr>\n",
       "  </thead>\n",
       "  <tbody>\n",
       "    <tr>\n",
       "      <th>1</th>\n",
       "      <td>61c2c93a011a78c76d2e720120bbfd4c</td>\n",
       "      <td>7fec8d8425a12add61c7a83d8270a0cb</td>\n",
       "      <td>1</td>\n",
       "      <td>6999</td>\n",
       "      <td>2014-05-23</td>\n",
       "      <td>ndd</td>\n",
       "      <td>f1f9a2662d06cfd0abc8d2b7147ade37</td>\n",
       "      <td>2012-04-25 09:08:45</td>\n",
       "      <td>a3c2e034510ab9f992bf86ad6327fc6b</td>\n",
       "      <td>89e5701b3aee3a4011e76c441044028b</td>\n",
       "      <td>...</td>\n",
       "      <td>-5.000000e-01</td>\n",
       "      <td>-0.937752</td>\n",
       "      <td>0.347305</td>\n",
       "      <td>0.974928</td>\n",
       "      <td>-0.222521</td>\n",
       "      <td>758.0</td>\n",
       "      <td>25.0</td>\n",
       "      <td>0.000278</td>\n",
       "      <td>1.0</td>\n",
       "      <td>6999</td>\n",
       "    </tr>\n",
       "    <tr>\n",
       "      <th>2</th>\n",
       "      <td>4049bffb21037c1ba41064802baa86f6</td>\n",
       "      <td>59f6d6f76798b14e053f136a5c726d65</td>\n",
       "      <td>1</td>\n",
       "      <td>5589</td>\n",
       "      <td>2014-05-28</td>\n",
       "      <td>non-ndd</td>\n",
       "      <td>a3e8c45cd263e72f7001303a8b22649c</td>\n",
       "      <td>2012-08-10 18:44:49</td>\n",
       "      <td>8fc0ad66f61f9612d9aec2e0ddeebc10</td>\n",
       "      <td>64f692fc1ed662e37a49acaf1c0d0b4a</td>\n",
       "      <td>...</td>\n",
       "      <td>-5.000000e-01</td>\n",
       "      <td>0.897805</td>\n",
       "      <td>-0.440394</td>\n",
       "      <td>-0.433884</td>\n",
       "      <td>-0.900969</td>\n",
       "      <td>655.0</td>\n",
       "      <td>22.0</td>\n",
       "      <td>0.005156</td>\n",
       "      <td>1.0</td>\n",
       "      <td>5589</td>\n",
       "    </tr>\n",
       "    <tr>\n",
       "      <th>3</th>\n",
       "      <td>51317d4d2583de8a4813972c94637449</td>\n",
       "      <td>a57566363f05f7bba50c1f7d3d6a93f8</td>\n",
       "      <td>1</td>\n",
       "      <td>79</td>\n",
       "      <td>2014-05-27</td>\n",
       "      <td>non-ndd</td>\n",
       "      <td>beda308ae5e3bfcefd1d9394c6532bce</td>\n",
       "      <td>2012-10-19 00:56:02</td>\n",
       "      <td>ee8df0f2fb20e881eb503748fa653d29</td>\n",
       "      <td>90a60ca1704e4b34248b98bc417c4f58</td>\n",
       "      <td>...</td>\n",
       "      <td>5.000000e-01</td>\n",
       "      <td>-0.651372</td>\n",
       "      <td>-0.758758</td>\n",
       "      <td>-0.433884</td>\n",
       "      <td>-0.900969</td>\n",
       "      <td>585.0</td>\n",
       "      <td>19.0</td>\n",
       "      <td>0.326076</td>\n",
       "      <td>0.5</td>\n",
       "      <td>79</td>\n",
       "    </tr>\n",
       "    <tr>\n",
       "      <th>4</th>\n",
       "      <td>25bc2ec67785edcfa5f93ee14023bf8b</td>\n",
       "      <td>3a54c84b0446bf27d46df55edb48c2e1</td>\n",
       "      <td>1</td>\n",
       "      <td>147</td>\n",
       "      <td>2014-05-27</td>\n",
       "      <td>non-ndd</td>\n",
       "      <td>beda308ae5e3bfcefd1d9394c6532bce</td>\n",
       "      <td>2012-10-19 00:56:02</td>\n",
       "      <td>ee8df0f2fb20e881eb503748fa653d29</td>\n",
       "      <td>90a60ca1704e4b34248b98bc417c4f58</td>\n",
       "      <td>...</td>\n",
       "      <td>5.000000e-01</td>\n",
       "      <td>-0.651372</td>\n",
       "      <td>-0.758758</td>\n",
       "      <td>-0.433884</td>\n",
       "      <td>-0.900969</td>\n",
       "      <td>585.0</td>\n",
       "      <td>19.0</td>\n",
       "      <td>0.238905</td>\n",
       "      <td>1.0</td>\n",
       "      <td>147</td>\n",
       "    </tr>\n",
       "    <tr>\n",
       "      <th>5</th>\n",
       "      <td>775064069bc349b42080a86d2792f4c7</td>\n",
       "      <td>d4eb6f495c826f6b5db7e5a06f986f5c</td>\n",
       "      <td>1</td>\n",
       "      <td>4225</td>\n",
       "      <td>2014-05-29</td>\n",
       "      <td>non-ndd</td>\n",
       "      <td>788da8e6b5f1ea8e12db5ded8a56f98f</td>\n",
       "      <td>2013-06-21 13:38:12</td>\n",
       "      <td>c407732fc10c0bcda72341dc374f036f</td>\n",
       "      <td>20f5b086ee309eb5c749145d3f0d939f</td>\n",
       "      <td>...</td>\n",
       "      <td>-1.000000e+00</td>\n",
       "      <td>-0.897805</td>\n",
       "      <td>-0.440394</td>\n",
       "      <td>-0.433884</td>\n",
       "      <td>-0.900969</td>\n",
       "      <td>341.0</td>\n",
       "      <td>11.0</td>\n",
       "      <td>0.008789</td>\n",
       "      <td>1.0</td>\n",
       "      <td>4225</td>\n",
       "    </tr>\n",
       "    <tr>\n",
       "      <th>...</th>\n",
       "      <td>...</td>\n",
       "      <td>...</td>\n",
       "      <td>...</td>\n",
       "      <td>...</td>\n",
       "      <td>...</td>\n",
       "      <td>...</td>\n",
       "      <td>...</td>\n",
       "      <td>...</td>\n",
       "      <td>...</td>\n",
       "      <td>...</td>\n",
       "      <td>...</td>\n",
       "      <td>...</td>\n",
       "      <td>...</td>\n",
       "      <td>...</td>\n",
       "      <td>...</td>\n",
       "      <td>...</td>\n",
       "      <td>...</td>\n",
       "      <td>...</td>\n",
       "      <td>...</td>\n",
       "      <td>...</td>\n",
       "      <td>...</td>\n",
       "    </tr>\n",
       "    <tr>\n",
       "      <th>481102</th>\n",
       "      <td>e0b83d3be185dd55ffd6b2324fe1d5cb</td>\n",
       "      <td>5b29b833e8f203c74635088befaaa504</td>\n",
       "      <td>1</td>\n",
       "      <td>404</td>\n",
       "      <td>2014-05-20</td>\n",
       "      <td>non-ndd</td>\n",
       "      <td>ce7015d99c861c4a87900cec1b9b64ac</td>\n",
       "      <td>2013-03-09 12:20:11</td>\n",
       "      <td>172bf00f1a124104fbe27e070528f2c4</td>\n",
       "      <td>33cafd76c46603279492f9c05082db62</td>\n",
       "      <td>...</td>\n",
       "      <td>6.123234e-17</td>\n",
       "      <td>0.968077</td>\n",
       "      <td>-0.250653</td>\n",
       "      <td>-0.974928</td>\n",
       "      <td>-0.222521</td>\n",
       "      <td>436.0</td>\n",
       "      <td>14.0</td>\n",
       "      <td>0.078022</td>\n",
       "      <td>1.0</td>\n",
       "      <td>404</td>\n",
       "    </tr>\n",
       "    <tr>\n",
       "      <th>481103</th>\n",
       "      <td>b704435595e0f78b4f50f900a987072e</td>\n",
       "      <td>bac7cc0eaad43a4d3066ddbd3eefe888</td>\n",
       "      <td>1</td>\n",
       "      <td>160</td>\n",
       "      <td>2014-05-25</td>\n",
       "      <td>non-ndd</td>\n",
       "      <td>9de0aaa6bf19578b2aa843c3b3d511d1</td>\n",
       "      <td>2012-09-30 08:30:10</td>\n",
       "      <td>7f95afd036e5b78bbf0ee0b164ff4b37</td>\n",
       "      <td>20f5b086ee309eb5c749145d3f0d939f</td>\n",
       "      <td>...</td>\n",
       "      <td>-1.836970e-16</td>\n",
       "      <td>-0.201299</td>\n",
       "      <td>0.979530</td>\n",
       "      <td>-0.781831</td>\n",
       "      <td>0.623490</td>\n",
       "      <td>602.0</td>\n",
       "      <td>20.0</td>\n",
       "      <td>0.157500</td>\n",
       "      <td>0.5</td>\n",
       "      <td>160</td>\n",
       "    </tr>\n",
       "    <tr>\n",
       "      <th>481104</th>\n",
       "      <td>7adc209db7a5c7803b198cca84d53fe3</td>\n",
       "      <td>603d11196ef1163014545b7d58cc5f6a</td>\n",
       "      <td>1</td>\n",
       "      <td>143</td>\n",
       "      <td>2014-05-25</td>\n",
       "      <td>non-ndd</td>\n",
       "      <td>9de0aaa6bf19578b2aa843c3b3d511d1</td>\n",
       "      <td>2012-09-30 08:30:10</td>\n",
       "      <td>7f95afd036e5b78bbf0ee0b164ff4b37</td>\n",
       "      <td>20f5b086ee309eb5c749145d3f0d939f</td>\n",
       "      <td>...</td>\n",
       "      <td>-1.836970e-16</td>\n",
       "      <td>-0.201299</td>\n",
       "      <td>0.979530</td>\n",
       "      <td>-0.781831</td>\n",
       "      <td>0.623490</td>\n",
       "      <td>602.0</td>\n",
       "      <td>20.0</td>\n",
       "      <td>0.022860</td>\n",
       "      <td>0.5</td>\n",
       "      <td>143</td>\n",
       "    </tr>\n",
       "    <tr>\n",
       "      <th>481105</th>\n",
       "      <td>f5eaa99489a48485b17b1ef9d2f79611</td>\n",
       "      <td>f31485c68d0a6670a04c702dec44f546</td>\n",
       "      <td>1</td>\n",
       "      <td>1500</td>\n",
       "      <td>2014-05-30</td>\n",
       "      <td>non-ndd</td>\n",
       "      <td>792b3ff717f4faef0a067b5d629e9e35</td>\n",
       "      <td>2013-08-18 12:05:57</td>\n",
       "      <td>f5a38d79342eb7199e87e448e30860bb</td>\n",
       "      <td>fb67d4b49f58da3adf332a25c7f3f23a</td>\n",
       "      <td>...</td>\n",
       "      <td>-5.000000e-01</td>\n",
       "      <td>-0.485302</td>\n",
       "      <td>-0.874347</td>\n",
       "      <td>-0.781831</td>\n",
       "      <td>0.623490</td>\n",
       "      <td>284.0</td>\n",
       "      <td>9.0</td>\n",
       "      <td>0.000000</td>\n",
       "      <td>1.0</td>\n",
       "      <td>1500</td>\n",
       "    </tr>\n",
       "    <tr>\n",
       "      <th>481106</th>\n",
       "      <td>550474463fa6eb3ce74a5899cf490cb8</td>\n",
       "      <td>92aa10307f7d705b89452d17e8f7c02a</td>\n",
       "      <td>1</td>\n",
       "      <td>31289</td>\n",
       "      <td>2014-05-26</td>\n",
       "      <td>non-ndd</td>\n",
       "      <td>b4b5062f016a47748e7de79ca0c87731</td>\n",
       "      <td>2013-12-24 00:30:58</td>\n",
       "      <td>1d1ac153d511654765333fa6b4bb0725</td>\n",
       "      <td>ec9dadd24b345507ad344ca86169f114</td>\n",
       "      <td>...</td>\n",
       "      <td>1.000000e+00</td>\n",
       "      <td>-0.988468</td>\n",
       "      <td>0.151428</td>\n",
       "      <td>0.781831</td>\n",
       "      <td>0.623490</td>\n",
       "      <td>153.0</td>\n",
       "      <td>5.0</td>\n",
       "      <td>0.000400</td>\n",
       "      <td>1.0</td>\n",
       "      <td>31289</td>\n",
       "    </tr>\n",
       "  </tbody>\n",
       "</table>\n",
       "<p>461903 rows × 61 columns</p>\n",
       "</div>"
      ],
      "text/plain": [
       "                                order_id                        product_id  \\\n",
       "1       61c2c93a011a78c76d2e720120bbfd4c  7fec8d8425a12add61c7a83d8270a0cb   \n",
       "2       4049bffb21037c1ba41064802baa86f6  59f6d6f76798b14e053f136a5c726d65   \n",
       "3       51317d4d2583de8a4813972c94637449  a57566363f05f7bba50c1f7d3d6a93f8   \n",
       "4       25bc2ec67785edcfa5f93ee14023bf8b  3a54c84b0446bf27d46df55edb48c2e1   \n",
       "5       775064069bc349b42080a86d2792f4c7  d4eb6f495c826f6b5db7e5a06f986f5c   \n",
       "...                                  ...                               ...   \n",
       "481102  e0b83d3be185dd55ffd6b2324fe1d5cb  5b29b833e8f203c74635088befaaa504   \n",
       "481103  b704435595e0f78b4f50f900a987072e  bac7cc0eaad43a4d3066ddbd3eefe888   \n",
       "481104  7adc209db7a5c7803b198cca84d53fe3  603d11196ef1163014545b7d58cc5f6a   \n",
       "481105  f5eaa99489a48485b17b1ef9d2f79611  f31485c68d0a6670a04c702dec44f546   \n",
       "481106  550474463fa6eb3ce74a5899cf490cb8  92aa10307f7d705b89452d17e8f7c02a   \n",
       "\n",
       "        quantity  selling_price order_date shipping_type  \\\n",
       "1              1           6999 2014-05-23           ndd   \n",
       "2              1           5589 2014-05-28       non-ndd   \n",
       "3              1             79 2014-05-27       non-ndd   \n",
       "4              1            147 2014-05-27       non-ndd   \n",
       "5              1           4225 2014-05-29       non-ndd   \n",
       "...          ...            ...        ...           ...   \n",
       "481102         1            404 2014-05-20       non-ndd   \n",
       "481103         1            160 2014-05-25       non-ndd   \n",
       "481104         1            143 2014-05-25       non-ndd   \n",
       "481105         1           1500 2014-05-30       non-ndd   \n",
       "481106         1          31289 2014-05-26       non-ndd   \n",
       "\n",
       "                                 user_id user_account_created_date  \\\n",
       "1       f1f9a2662d06cfd0abc8d2b7147ade37       2012-04-25 09:08:45   \n",
       "2       a3e8c45cd263e72f7001303a8b22649c       2012-08-10 18:44:49   \n",
       "3       beda308ae5e3bfcefd1d9394c6532bce       2012-10-19 00:56:02   \n",
       "4       beda308ae5e3bfcefd1d9394c6532bce       2012-10-19 00:56:02   \n",
       "5       788da8e6b5f1ea8e12db5ded8a56f98f       2013-06-21 13:38:12   \n",
       "...                                  ...                       ...   \n",
       "481102  ce7015d99c861c4a87900cec1b9b64ac       2013-03-09 12:20:11   \n",
       "481103  9de0aaa6bf19578b2aa843c3b3d511d1       2012-09-30 08:30:10   \n",
       "481104  9de0aaa6bf19578b2aa843c3b3d511d1       2012-09-30 08:30:10   \n",
       "481105  792b3ff717f4faef0a067b5d629e9e35       2013-08-18 12:05:57   \n",
       "481106  b4b5062f016a47748e7de79ca0c87731       2013-12-24 00:30:58   \n",
       "\n",
       "                              address_id                              city  \\\n",
       "1       a3c2e034510ab9f992bf86ad6327fc6b  89e5701b3aee3a4011e76c441044028b   \n",
       "2       8fc0ad66f61f9612d9aec2e0ddeebc10  64f692fc1ed662e37a49acaf1c0d0b4a   \n",
       "3       ee8df0f2fb20e881eb503748fa653d29  90a60ca1704e4b34248b98bc417c4f58   \n",
       "4       ee8df0f2fb20e881eb503748fa653d29  90a60ca1704e4b34248b98bc417c4f58   \n",
       "5       c407732fc10c0bcda72341dc374f036f  20f5b086ee309eb5c749145d3f0d939f   \n",
       "...                                  ...                               ...   \n",
       "481102  172bf00f1a124104fbe27e070528f2c4  33cafd76c46603279492f9c05082db62   \n",
       "481103  7f95afd036e5b78bbf0ee0b164ff4b37  20f5b086ee309eb5c749145d3f0d939f   \n",
       "481104  7f95afd036e5b78bbf0ee0b164ff4b37  20f5b086ee309eb5c749145d3f0d939f   \n",
       "481105  f5a38d79342eb7199e87e448e30860bb  fb67d4b49f58da3adf332a25c7f3f23a   \n",
       "481106  1d1ac153d511654765333fa6b4bb0725  ec9dadd24b345507ad344ca86169f114   \n",
       "\n",
       "        ... user_account_created_date Month_cos  \\\n",
       "1       ...                       -5.000000e-01   \n",
       "2       ...                       -5.000000e-01   \n",
       "3       ...                        5.000000e-01   \n",
       "4       ...                        5.000000e-01   \n",
       "5       ...                       -1.000000e+00   \n",
       "...     ...                                 ...   \n",
       "481102  ...                        6.123234e-17   \n",
       "481103  ...                       -1.836970e-16   \n",
       "481104  ...                       -1.836970e-16   \n",
       "481105  ...                       -5.000000e-01   \n",
       "481106  ...                        1.000000e+00   \n",
       "\n",
       "       user_account_created_date Day_sin user_account_created_date Day_cos  \\\n",
       "1                              -0.937752                          0.347305   \n",
       "2                               0.897805                         -0.440394   \n",
       "3                              -0.651372                         -0.758758   \n",
       "4                              -0.651372                         -0.758758   \n",
       "5                              -0.897805                         -0.440394   \n",
       "...                                  ...                               ...   \n",
       "481102                          0.968077                         -0.250653   \n",
       "481103                         -0.201299                          0.979530   \n",
       "481104                         -0.201299                          0.979530   \n",
       "481105                         -0.485302                         -0.874347   \n",
       "481106                         -0.988468                          0.151428   \n",
       "\n",
       "        user_account_created_date Weekday_sin  \\\n",
       "1                                    0.974928   \n",
       "2                                   -0.433884   \n",
       "3                                   -0.433884   \n",
       "4                                   -0.433884   \n",
       "5                                   -0.433884   \n",
       "...                                       ...   \n",
       "481102                              -0.974928   \n",
       "481103                              -0.781831   \n",
       "481104                              -0.781831   \n",
       "481105                              -0.781831   \n",
       "481106                               0.781831   \n",
       "\n",
       "        user_account_created_date Weekday_cos  duration_days  duration_months  \\\n",
       "1                                   -0.222521          758.0             25.0   \n",
       "2                                   -0.900969          655.0             22.0   \n",
       "3                                   -0.900969          585.0             19.0   \n",
       "4                                   -0.900969          585.0             19.0   \n",
       "5                                   -0.900969          341.0             11.0   \n",
       "...                                       ...            ...              ...   \n",
       "481102                              -0.222521          436.0             14.0   \n",
       "481103                               0.623490          602.0             20.0   \n",
       "481104                               0.623490          602.0             20.0   \n",
       "481105                               0.623490          284.0              9.0   \n",
       "481106                               0.623490          153.0              5.0   \n",
       "\n",
       "        discount_to_selling_price  quantity_to_last_14  total_order_value  \n",
       "1                        0.000278                  1.0               6999  \n",
       "2                        0.005156                  1.0               5589  \n",
       "3                        0.326076                  0.5                 79  \n",
       "4                        0.238905                  1.0                147  \n",
       "5                        0.008789                  1.0               4225  \n",
       "...                           ...                  ...                ...  \n",
       "481102                   0.078022                  1.0                404  \n",
       "481103                   0.157500                  0.5                160  \n",
       "481104                   0.022860                  0.5                143  \n",
       "481105                   0.000000                  1.0               1500  \n",
       "481106                   0.000400                  1.0              31289  \n",
       "\n",
       "[461903 rows x 61 columns]"
      ]
     },
     "execution_count": 13,
     "metadata": {},
     "output_type": "execute_result"
    }
   ],
   "source": [
    "# total order value, ratios of - quantity:count_14days and selling_price:(100 - discount)\n",
    "data[\"discount_to_selling_price\"] = data[\"selling_price\"] / (100 - data[\"discount\"])\n",
    "data[\"quantity_to_last_14\"] = data[\"quantity\"] / data[\"count_14_days\"]\n",
    "data[\"total_order_value\"] = data[\"quantity\"] * data[\"selling_price\"]\n",
    "data"
   ]
  },
  {
   "cell_type": "markdown",
   "id": "9c20650c-67f0-448e-b60d-832a86968856",
   "metadata": {},
   "source": [
    "# Train Test Split"
   ]
  },
  {
   "cell_type": "code",
   "execution_count": 14,
   "id": "e363dbc8-3e4c-41ce-872a-c1dfb6085a10",
   "metadata": {},
   "outputs": [
    {
     "data": {
      "text/plain": [
       "(435020, 26883)"
      ]
     },
     "execution_count": 14,
     "metadata": {},
     "output_type": "execute_result"
    }
   ],
   "source": [
    "# reserve last 1 day for test\n",
    "data.sort_values(by=[\"order_date\"], ascending=True, inplace=True)\n",
    "threshold_date = data[\"order_date\"].max() - timedelta(days=1)\n",
    "\n",
    "train = data[data[\"order_date\"] <= threshold_date]\n",
    "test = data[data[\"order_date\"] > threshold_date]\n",
    "\n",
    "len(train), len(test)"
   ]
  },
  {
   "cell_type": "code",
   "execution_count": 15,
   "id": "10922f60-6489-424b-8f20-b10358bc8714",
   "metadata": {},
   "outputs": [
    {
     "data": {
      "text/plain": [
       "1927"
      ]
     },
     "execution_count": 15,
     "metadata": {},
     "output_type": "execute_result"
    }
   ],
   "source": [
    "len(set(test.user_id).intersection(train.user_id))"
   ]
  },
  {
   "cell_type": "code",
   "execution_count": 16,
   "id": "5e189b1d-b2c6-40fa-b5e5-eb489f43e0da",
   "metadata": {},
   "outputs": [
    {
     "data": {
      "text/plain": [
       "18299"
      ]
     },
     "execution_count": 16,
     "metadata": {},
     "output_type": "execute_result"
    }
   ],
   "source": [
    "test.user_id.nunique()"
   ]
  },
  {
   "cell_type": "code",
   "execution_count": 17,
   "id": "65869221-e0f6-41f2-8811-cb240e1cf666",
   "metadata": {},
   "outputs": [
    {
     "data": {
      "text/html": [
       "<div>\n",
       "<style scoped>\n",
       "    .dataframe tbody tr th:only-of-type {\n",
       "        vertical-align: middle;\n",
       "    }\n",
       "\n",
       "    .dataframe tbody tr th {\n",
       "        vertical-align: top;\n",
       "    }\n",
       "\n",
       "    .dataframe thead th {\n",
       "        text-align: right;\n",
       "    }\n",
       "</style>\n",
       "<table border=\"1\" class=\"dataframe\">\n",
       "  <thead>\n",
       "    <tr style=\"text-align: right;\">\n",
       "      <th></th>\n",
       "      <th>order_id</th>\n",
       "      <th>product_id</th>\n",
       "      <th>quantity</th>\n",
       "      <th>selling_price</th>\n",
       "      <th>order_date</th>\n",
       "      <th>shipping_type</th>\n",
       "      <th>user_id</th>\n",
       "      <th>user_account_created_date</th>\n",
       "      <th>address_id</th>\n",
       "      <th>city</th>\n",
       "      <th>...</th>\n",
       "      <th>user_account_created_date Weekday_sin</th>\n",
       "      <th>user_account_created_date Weekday_cos</th>\n",
       "      <th>duration_days</th>\n",
       "      <th>duration_months</th>\n",
       "      <th>discount_to_selling_price</th>\n",
       "      <th>quantity_to_last_14</th>\n",
       "      <th>total_order_value</th>\n",
       "      <th>quantity_mean</th>\n",
       "      <th>count_14_days_mean</th>\n",
       "      <th>count_28_days_mean</th>\n",
       "    </tr>\n",
       "  </thead>\n",
       "  <tbody>\n",
       "    <tr>\n",
       "      <th>0</th>\n",
       "      <td>20c36af18ea6d8c939a76601504e800f</td>\n",
       "      <td>a0f46fe61d84bec6f13af17ab6cdd94c</td>\n",
       "      <td>1</td>\n",
       "      <td>2499</td>\n",
       "      <td>2014-05-31</td>\n",
       "      <td>non-ndd</td>\n",
       "      <td>2acf361fcba00ed706de11c347889638</td>\n",
       "      <td>2011-09-16 21:13:12</td>\n",
       "      <td>54aed260a683f9fdd049647dff751a8f</td>\n",
       "      <td>90a60ca1704e4b34248b98bc417c4f58</td>\n",
       "      <td>...</td>\n",
       "      <td>-0.433884</td>\n",
       "      <td>-0.900969</td>\n",
       "      <td>987.0</td>\n",
       "      <td>32.0</td>\n",
       "      <td>0.008560</td>\n",
       "      <td>1.000000</td>\n",
       "      <td>2499</td>\n",
       "      <td>1.000000</td>\n",
       "      <td>1.000000</td>\n",
       "      <td>1.000000</td>\n",
       "    </tr>\n",
       "    <tr>\n",
       "      <th>1</th>\n",
       "      <td>a10ed6dfe57891d59f276a3fcb1d8829</td>\n",
       "      <td>8e4b6d458d800de71b40a7651276558d</td>\n",
       "      <td>1</td>\n",
       "      <td>71</td>\n",
       "      <td>2014-05-31</td>\n",
       "      <td>non-ndd</td>\n",
       "      <td>b99f871c44277fa761b67f9f556fdb09</td>\n",
       "      <td>2013-05-10 15:10:36</td>\n",
       "      <td>a13c26ade696a3aa39596713d9afb29c</td>\n",
       "      <td>c02e660e379adff2474ad41a6939fe91</td>\n",
       "      <td>...</td>\n",
       "      <td>-0.433884</td>\n",
       "      <td>-0.900969</td>\n",
       "      <td>385.0</td>\n",
       "      <td>13.0</td>\n",
       "      <td>0.412113</td>\n",
       "      <td>0.500000</td>\n",
       "      <td>71</td>\n",
       "      <td>2.252252</td>\n",
       "      <td>765.189189</td>\n",
       "      <td>765.189189</td>\n",
       "    </tr>\n",
       "    <tr>\n",
       "      <th>2</th>\n",
       "      <td>ee02475579a65d5d4c7a04f7ab53c05a</td>\n",
       "      <td>e77ea54fa053ea97d9cf8126c4609407</td>\n",
       "      <td>1</td>\n",
       "      <td>3999</td>\n",
       "      <td>2014-05-31</td>\n",
       "      <td>non-ndd</td>\n",
       "      <td>5fd39f564105ae80834b4f3c17992dfe</td>\n",
       "      <td>2014-05-31 21:55:53</td>\n",
       "      <td>9a68519e2b96bbd019afd9f55362f2eb</td>\n",
       "      <td>20f5b086ee309eb5c749145d3f0d939f</td>\n",
       "      <td>...</td>\n",
       "      <td>-0.974928</td>\n",
       "      <td>-0.222521</td>\n",
       "      <td>-1.0</td>\n",
       "      <td>-0.0</td>\n",
       "      <td>0.014004</td>\n",
       "      <td>1.000000</td>\n",
       "      <td>3999</td>\n",
       "      <td>1.000000</td>\n",
       "      <td>1.648343</td>\n",
       "      <td>1.648343</td>\n",
       "    </tr>\n",
       "    <tr>\n",
       "      <th>3</th>\n",
       "      <td>70cebfd4eb7f81dd587ab6ea00831b7b</td>\n",
       "      <td>4732ce55c9c537536b8dde067ce86d5f</td>\n",
       "      <td>1</td>\n",
       "      <td>546</td>\n",
       "      <td>2014-05-31</td>\n",
       "      <td>non-ndd</td>\n",
       "      <td>18a946b368bd060ec7751ccf891c4eda</td>\n",
       "      <td>2013-06-22 15:10:40</td>\n",
       "      <td>582de12f5857c37a088ae5db766eb7e0</td>\n",
       "      <td>eb7ebc2f02d005dac3d541a35e261003</td>\n",
       "      <td>...</td>\n",
       "      <td>-0.974928</td>\n",
       "      <td>-0.222521</td>\n",
       "      <td>342.0</td>\n",
       "      <td>11.0</td>\n",
       "      <td>0.054449</td>\n",
       "      <td>1.000000</td>\n",
       "      <td>546</td>\n",
       "      <td>1.018223</td>\n",
       "      <td>1.079727</td>\n",
       "      <td>1.079727</td>\n",
       "    </tr>\n",
       "    <tr>\n",
       "      <th>4</th>\n",
       "      <td>f73fc7f23fcfc68ca068f365a7ab15a8</td>\n",
       "      <td>f63bad59151d8c33d9d8c195c071bbfe</td>\n",
       "      <td>1</td>\n",
       "      <td>197</td>\n",
       "      <td>2014-05-31</td>\n",
       "      <td>non-ndd</td>\n",
       "      <td>b99f871c44277fa761b67f9f556fdb09</td>\n",
       "      <td>2013-05-10 15:10:36</td>\n",
       "      <td>a13c26ade696a3aa39596713d9afb29c</td>\n",
       "      <td>c02e660e379adff2474ad41a6939fe91</td>\n",
       "      <td>...</td>\n",
       "      <td>-0.433884</td>\n",
       "      <td>-0.900969</td>\n",
       "      <td>385.0</td>\n",
       "      <td>13.0</td>\n",
       "      <td>0.044203</td>\n",
       "      <td>0.500000</td>\n",
       "      <td>197</td>\n",
       "      <td>1.894737</td>\n",
       "      <td>445.842105</td>\n",
       "      <td>445.842105</td>\n",
       "    </tr>\n",
       "    <tr>\n",
       "      <th>...</th>\n",
       "      <td>...</td>\n",
       "      <td>...</td>\n",
       "      <td>...</td>\n",
       "      <td>...</td>\n",
       "      <td>...</td>\n",
       "      <td>...</td>\n",
       "      <td>...</td>\n",
       "      <td>...</td>\n",
       "      <td>...</td>\n",
       "      <td>...</td>\n",
       "      <td>...</td>\n",
       "      <td>...</td>\n",
       "      <td>...</td>\n",
       "      <td>...</td>\n",
       "      <td>...</td>\n",
       "      <td>...</td>\n",
       "      <td>...</td>\n",
       "      <td>...</td>\n",
       "      <td>...</td>\n",
       "      <td>...</td>\n",
       "      <td>...</td>\n",
       "    </tr>\n",
       "    <tr>\n",
       "      <th>26878</th>\n",
       "      <td>999d114a419f904cbee852a1c0621fd5</td>\n",
       "      <td>ea59b11d4bea2fa3afdc0bd8719a39e9</td>\n",
       "      <td>1</td>\n",
       "      <td>151</td>\n",
       "      <td>2014-05-31</td>\n",
       "      <td>non-ndd</td>\n",
       "      <td>58f780d9c9c36e2a302cc3d0330f74e6</td>\n",
       "      <td>2012-04-10 11:36:51</td>\n",
       "      <td>bb87cdd5a967ec827aa977b363b3c922</td>\n",
       "      <td>0ddc8d578a7b720ab49fcff2e6929885</td>\n",
       "      <td>...</td>\n",
       "      <td>0.781831</td>\n",
       "      <td>0.623490</td>\n",
       "      <td>781.0</td>\n",
       "      <td>26.0</td>\n",
       "      <td>0.051828</td>\n",
       "      <td>0.333333</td>\n",
       "      <td>151</td>\n",
       "      <td>1.000000</td>\n",
       "      <td>9.800000</td>\n",
       "      <td>9.800000</td>\n",
       "    </tr>\n",
       "    <tr>\n",
       "      <th>26879</th>\n",
       "      <td>0310e6c1c0c0d715dbae4e5816b8bfbf</td>\n",
       "      <td>e77ea54fa053ea97d9cf8126c4609407</td>\n",
       "      <td>1</td>\n",
       "      <td>3999</td>\n",
       "      <td>2014-05-31</td>\n",
       "      <td>non-ndd</td>\n",
       "      <td>de6527241ea7b3e05c6f4418e087587d</td>\n",
       "      <td>2011-10-24 18:39:07</td>\n",
       "      <td>77d3e55c1bf9aee7557877ce9b4df0f0</td>\n",
       "      <td>2804f557e3e577e6a8b7d9c1ca29c9cb</td>\n",
       "      <td>...</td>\n",
       "      <td>0.000000</td>\n",
       "      <td>1.000000</td>\n",
       "      <td>949.0</td>\n",
       "      <td>31.0</td>\n",
       "      <td>0.014004</td>\n",
       "      <td>1.000000</td>\n",
       "      <td>3999</td>\n",
       "      <td>1.000000</td>\n",
       "      <td>1.648343</td>\n",
       "      <td>1.648343</td>\n",
       "    </tr>\n",
       "    <tr>\n",
       "      <th>26880</th>\n",
       "      <td>22a6218020c5c4050784d8f4789b8520</td>\n",
       "      <td>e6e3e28d3c8d5c7c87407ee6d6a609db</td>\n",
       "      <td>1</td>\n",
       "      <td>7299</td>\n",
       "      <td>2014-05-31</td>\n",
       "      <td>non-ndd</td>\n",
       "      <td>b273c68dc3af1d3d37e34c120955f0c2</td>\n",
       "      <td>2014-04-27 20:24:04</td>\n",
       "      <td>e1c7cdbdff8d7532f29fb65e7cdd38f3</td>\n",
       "      <td>ebf1f436c023d8bc83963ea4628a949e</td>\n",
       "      <td>...</td>\n",
       "      <td>-0.781831</td>\n",
       "      <td>0.623490</td>\n",
       "      <td>33.0</td>\n",
       "      <td>1.0</td>\n",
       "      <td>0.003389</td>\n",
       "      <td>1.000000</td>\n",
       "      <td>7299</td>\n",
       "      <td>1.000000</td>\n",
       "      <td>3.664581</td>\n",
       "      <td>3.664581</td>\n",
       "    </tr>\n",
       "    <tr>\n",
       "      <th>26881</th>\n",
       "      <td>2f7515bcebf7de4f672f404864c74228</td>\n",
       "      <td>f1ed724c5b2a112c82df98a93536e584</td>\n",
       "      <td>1</td>\n",
       "      <td>4345</td>\n",
       "      <td>2014-05-31</td>\n",
       "      <td>non-ndd</td>\n",
       "      <td>3e9986fbccaf5645aaebdba895695dc0</td>\n",
       "      <td>2014-03-02 14:39:43</td>\n",
       "      <td>1738011073cf58b74df650d782bc9275</td>\n",
       "      <td>7a3b6287a8dce074caa1d1a6b2a02cca</td>\n",
       "      <td>...</td>\n",
       "      <td>-0.781831</td>\n",
       "      <td>0.623490</td>\n",
       "      <td>89.0</td>\n",
       "      <td>3.0</td>\n",
       "      <td>0.012221</td>\n",
       "      <td>1.000000</td>\n",
       "      <td>4345</td>\n",
       "      <td>1.000000</td>\n",
       "      <td>3.038320</td>\n",
       "      <td>3.038320</td>\n",
       "    </tr>\n",
       "    <tr>\n",
       "      <th>26882</th>\n",
       "      <td>c5b73469658b50fdc37dbad94f4cc96a</td>\n",
       "      <td>e6e3e28d3c8d5c7c87407ee6d6a609db</td>\n",
       "      <td>1</td>\n",
       "      <td>7299</td>\n",
       "      <td>2014-05-31</td>\n",
       "      <td>non-ndd</td>\n",
       "      <td>de73f251cf196b3447fc97591cf45b4f</td>\n",
       "      <td>2013-12-30 12:59:16</td>\n",
       "      <td>b35c767a1f8598fce970e0ba7a562108</td>\n",
       "      <td>80ec2c62c4941a4c37abf266ab93b115</td>\n",
       "      <td>...</td>\n",
       "      <td>0.000000</td>\n",
       "      <td>1.000000</td>\n",
       "      <td>151.0</td>\n",
       "      <td>5.0</td>\n",
       "      <td>0.003389</td>\n",
       "      <td>1.000000</td>\n",
       "      <td>7299</td>\n",
       "      <td>1.000000</td>\n",
       "      <td>3.664581</td>\n",
       "      <td>3.664581</td>\n",
       "    </tr>\n",
       "  </tbody>\n",
       "</table>\n",
       "<p>26883 rows × 64 columns</p>\n",
       "</div>"
      ],
      "text/plain": [
       "                               order_id                        product_id  \\\n",
       "0      20c36af18ea6d8c939a76601504e800f  a0f46fe61d84bec6f13af17ab6cdd94c   \n",
       "1      a10ed6dfe57891d59f276a3fcb1d8829  8e4b6d458d800de71b40a7651276558d   \n",
       "2      ee02475579a65d5d4c7a04f7ab53c05a  e77ea54fa053ea97d9cf8126c4609407   \n",
       "3      70cebfd4eb7f81dd587ab6ea00831b7b  4732ce55c9c537536b8dde067ce86d5f   \n",
       "4      f73fc7f23fcfc68ca068f365a7ab15a8  f63bad59151d8c33d9d8c195c071bbfe   \n",
       "...                                 ...                               ...   \n",
       "26878  999d114a419f904cbee852a1c0621fd5  ea59b11d4bea2fa3afdc0bd8719a39e9   \n",
       "26879  0310e6c1c0c0d715dbae4e5816b8bfbf  e77ea54fa053ea97d9cf8126c4609407   \n",
       "26880  22a6218020c5c4050784d8f4789b8520  e6e3e28d3c8d5c7c87407ee6d6a609db   \n",
       "26881  2f7515bcebf7de4f672f404864c74228  f1ed724c5b2a112c82df98a93536e584   \n",
       "26882  c5b73469658b50fdc37dbad94f4cc96a  e6e3e28d3c8d5c7c87407ee6d6a609db   \n",
       "\n",
       "       quantity  selling_price order_date shipping_type  \\\n",
       "0             1           2499 2014-05-31       non-ndd   \n",
       "1             1             71 2014-05-31       non-ndd   \n",
       "2             1           3999 2014-05-31       non-ndd   \n",
       "3             1            546 2014-05-31       non-ndd   \n",
       "4             1            197 2014-05-31       non-ndd   \n",
       "...         ...            ...        ...           ...   \n",
       "26878         1            151 2014-05-31       non-ndd   \n",
       "26879         1           3999 2014-05-31       non-ndd   \n",
       "26880         1           7299 2014-05-31       non-ndd   \n",
       "26881         1           4345 2014-05-31       non-ndd   \n",
       "26882         1           7299 2014-05-31       non-ndd   \n",
       "\n",
       "                                user_id user_account_created_date  \\\n",
       "0      2acf361fcba00ed706de11c347889638       2011-09-16 21:13:12   \n",
       "1      b99f871c44277fa761b67f9f556fdb09       2013-05-10 15:10:36   \n",
       "2      5fd39f564105ae80834b4f3c17992dfe       2014-05-31 21:55:53   \n",
       "3      18a946b368bd060ec7751ccf891c4eda       2013-06-22 15:10:40   \n",
       "4      b99f871c44277fa761b67f9f556fdb09       2013-05-10 15:10:36   \n",
       "...                                 ...                       ...   \n",
       "26878  58f780d9c9c36e2a302cc3d0330f74e6       2012-04-10 11:36:51   \n",
       "26879  de6527241ea7b3e05c6f4418e087587d       2011-10-24 18:39:07   \n",
       "26880  b273c68dc3af1d3d37e34c120955f0c2       2014-04-27 20:24:04   \n",
       "26881  3e9986fbccaf5645aaebdba895695dc0       2014-03-02 14:39:43   \n",
       "26882  de73f251cf196b3447fc97591cf45b4f       2013-12-30 12:59:16   \n",
       "\n",
       "                             address_id                              city  \\\n",
       "0      54aed260a683f9fdd049647dff751a8f  90a60ca1704e4b34248b98bc417c4f58   \n",
       "1      a13c26ade696a3aa39596713d9afb29c  c02e660e379adff2474ad41a6939fe91   \n",
       "2      9a68519e2b96bbd019afd9f55362f2eb  20f5b086ee309eb5c749145d3f0d939f   \n",
       "3      582de12f5857c37a088ae5db766eb7e0  eb7ebc2f02d005dac3d541a35e261003   \n",
       "4      a13c26ade696a3aa39596713d9afb29c  c02e660e379adff2474ad41a6939fe91   \n",
       "...                                 ...                               ...   \n",
       "26878  bb87cdd5a967ec827aa977b363b3c922  0ddc8d578a7b720ab49fcff2e6929885   \n",
       "26879  77d3e55c1bf9aee7557877ce9b4df0f0  2804f557e3e577e6a8b7d9c1ca29c9cb   \n",
       "26880  e1c7cdbdff8d7532f29fb65e7cdd38f3  ebf1f436c023d8bc83963ea4628a949e   \n",
       "26881  1738011073cf58b74df650d782bc9275  7a3b6287a8dce074caa1d1a6b2a02cca   \n",
       "26882  b35c767a1f8598fce970e0ba7a562108  80ec2c62c4941a4c37abf266ab93b115   \n",
       "\n",
       "       ... user_account_created_date Weekday_sin  \\\n",
       "0      ...                             -0.433884   \n",
       "1      ...                             -0.433884   \n",
       "2      ...                             -0.974928   \n",
       "3      ...                             -0.974928   \n",
       "4      ...                             -0.433884   \n",
       "...    ...                                   ...   \n",
       "26878  ...                              0.781831   \n",
       "26879  ...                              0.000000   \n",
       "26880  ...                             -0.781831   \n",
       "26881  ...                             -0.781831   \n",
       "26882  ...                              0.000000   \n",
       "\n",
       "      user_account_created_date Weekday_cos duration_days  duration_months  \\\n",
       "0                                 -0.900969         987.0             32.0   \n",
       "1                                 -0.900969         385.0             13.0   \n",
       "2                                 -0.222521          -1.0             -0.0   \n",
       "3                                 -0.222521         342.0             11.0   \n",
       "4                                 -0.900969         385.0             13.0   \n",
       "...                                     ...           ...              ...   \n",
       "26878                              0.623490         781.0             26.0   \n",
       "26879                              1.000000         949.0             31.0   \n",
       "26880                              0.623490          33.0              1.0   \n",
       "26881                              0.623490          89.0              3.0   \n",
       "26882                              1.000000         151.0              5.0   \n",
       "\n",
       "       discount_to_selling_price  quantity_to_last_14  total_order_value  \\\n",
       "0                       0.008560             1.000000               2499   \n",
       "1                       0.412113             0.500000                 71   \n",
       "2                       0.014004             1.000000               3999   \n",
       "3                       0.054449             1.000000                546   \n",
       "4                       0.044203             0.500000                197   \n",
       "...                          ...                  ...                ...   \n",
       "26878                   0.051828             0.333333                151   \n",
       "26879                   0.014004             1.000000               3999   \n",
       "26880                   0.003389             1.000000               7299   \n",
       "26881                   0.012221             1.000000               4345   \n",
       "26882                   0.003389             1.000000               7299   \n",
       "\n",
       "       quantity_mean  count_14_days_mean  count_28_days_mean  \n",
       "0           1.000000            1.000000            1.000000  \n",
       "1           2.252252          765.189189          765.189189  \n",
       "2           1.000000            1.648343            1.648343  \n",
       "3           1.018223            1.079727            1.079727  \n",
       "4           1.894737          445.842105          445.842105  \n",
       "...              ...                 ...                 ...  \n",
       "26878       1.000000            9.800000            9.800000  \n",
       "26879       1.000000            1.648343            1.648343  \n",
       "26880       1.000000            3.664581            3.664581  \n",
       "26881       1.000000            3.038320            3.038320  \n",
       "26882       1.000000            3.664581            3.664581  \n",
       "\n",
       "[26883 rows x 64 columns]"
      ]
     },
     "execution_count": 17,
     "metadata": {},
     "output_type": "execute_result"
    }
   ],
   "source": [
    "# feature engineering: mean of below columns at a product/vertical level\n",
    "columns = [\"quantity\", \"count_14_days\", \"count_28_days\"]\n",
    "\n",
    "for column in columns:\n",
    "    features = train.groupby(\"product_id\")[column].mean().reset_index(name=f\"{column}_mean\")\n",
    "    train = train.merge(features, how=\"left\")\n",
    "    test = test.merge(features, how=\"left\")\n",
    "\n",
    "    # fill NaNs from vertical mean\n",
    "    features = train.groupby(\"vertical\")[column].mean().reset_index(name=f\"{column}_mean_imputation\")\n",
    "    test = test.merge(features, how=\"left\")\n",
    "    test[f\"{column}_mean\"] = np.where(test[f\"{column}_mean\"].isnull(), test[f\"{column}_mean_imputation\"], test[f\"{column}_mean\"])\n",
    "    del test[f\"{column}_mean_imputation\"]\n",
    "\n",
    "    # fill NaNs with mean of the column in train\n",
    "    test[f\"{column}_mean\"].fillna(train[column].mean(), inplace=True)\n",
    "\n",
    "test"
   ]
  },
  {
   "cell_type": "markdown",
   "id": "ead1e857-1eeb-44e8-bfd6-e34a6d8376a2",
   "metadata": {},
   "source": [
    "# Response Encoding"
   ]
  },
  {
   "cell_type": "code",
   "execution_count": 18,
   "id": "785b0799-c944-4340-ad50-e031475c6509",
   "metadata": {},
   "outputs": [],
   "source": [
    "def running_response_encoding(data, column, time_column, label=\"label\", alpha=1, beta=1):\n",
    "    \"\"\"\n",
    "    Computes the encoded values for each unique value in the grouping column, \n",
    "    considering the label column as the response variable.\n",
    "\n",
    "    Parameters:\n",
    "    - data (DataFrame): The input DataFrame containing the data to be encoded.\n",
    "    - column (str): The name of the grouping column for which encoding is to be calculated.\n",
    "    - time_column (str): The name of the time column used for sorting the data.\n",
    "    - label (str, optional): The name of the label column, default is \"label\".\n",
    "    - alpha (float, optional): Smoothing parameter (Laplace smoothing) for numerator, default is 1.\n",
    "    - beta (float, optional): Smoothing parameter (Laplace smoothing) for denominator, default is 1.\n",
    "\n",
    "    Returns:\n",
    "    - data (DataFrame): The input DataFrame with additional columns containing the running\n",
    "      response encoding values for the specified grouping column.\n",
    "    \"\"\"\n",
    "    data = data.sort_values(by=[time_column, column], ascending=True)\n",
    "\n",
    "    data[f\"{column}_numerator\"] = data.groupby(column)[label].shift(1)\n",
    "    data[f\"{column}_numerator\"].fillna(0, inplace=True)\n",
    "    data[f\"{column}_numerator\"] = data.groupby(column)[f\"{column}_numerator\"].cumsum()\n",
    "    \n",
    "    data[f\"{column}_denominator\"] = data.groupby([column])[label].cumcount()\n",
    "    data[f\"{column}_encoded\"] = (data[f\"{column}_numerator\"] + alpha) / (data[f\"{column}_denominator\"] + alpha + beta)\n",
    "\n",
    "    return data\n",
    "\n",
    "\n",
    "alpha = 0.048\n",
    "beta = 0.952\n",
    "\n",
    "\n",
    "categorical_columns = [\"user_id\"]\n",
    "\n",
    "for column in categorical_columns:\n",
    "    train = running_response_encoding(data=train, \n",
    "                                      column=column, \n",
    "                                      time_column=\"order_date\", \n",
    "                                      label=\"label\", \n",
    "                                      alpha=alpha, \n",
    "                                      beta=beta)\n",
    "\n",
    "\n",
    "    append = train.groupby(column, sort=False).tail(1).copy()\n",
    "    append[f\"{column}_numerator\"] += append[\"label\"]\n",
    "    append[f\"{column}_denominator\"] += 1\n",
    "    append[f\"{column}_encoded\"] = (append[f\"{column}_numerator\"] + alpha) / (append[f\"{column}_denominator\"] + alpha + beta)\n",
    "    \n",
    "    append = append[[column, f\"{column}_numerator\", f\"{column}_denominator\", f\"{column}_encoded\"]].copy()\n",
    "    test = test.merge(append, how=\"left\")\n",
    "    \n",
    "    test[f\"{column}_numerator\"].fillna(alpha, inplace=True)\n",
    "    test[f\"{column}_denominator\"].fillna(alpha + beta, inplace=True)\n",
    "    test[f\"{column}_encoded\"].fillna(alpha / (alpha + beta), inplace=True)"
   ]
  },
  {
   "cell_type": "code",
   "execution_count": 19,
   "id": "f161c73e-297f-4435-81a3-bfb5d6b0f16d",
   "metadata": {},
   "outputs": [
    {
     "name": "stderr",
     "output_type": "stream",
     "text": [
      "100%|█████████████████████████████████████████████████████████████████| 5/5 [00:01<00:00,  4.74it/s]\n"
     ]
    }
   ],
   "source": [
    "def response_encoding(data, column, label=\"label\", alpha=1, beta=1):\n",
    "    \"\"\"\n",
    "    Encode categorical data based on the response rate for each category.\n",
    "\n",
    "    Parameters:\n",
    "        - data (pd.DataFrame): The input DataFrame containing the data.\n",
    "        - column (str): The name of the categorical column to encode.\n",
    "        - label (str): The name of the response label column (default is \"label\").\n",
    "\n",
    "    Returns:\n",
    "        - dict: A dictionary containing the encoded values for each category.\n",
    "    \"\"\"\n",
    "    value_counts = data.groupby(column)[label].value_counts().reset_index(name=\"count\")\n",
    "\n",
    "    x = data[[column]].drop_duplicates()\n",
    "    y = data[[label]].drop_duplicates()\n",
    "\n",
    "    x[\"temp\"] = 0\n",
    "    y[\"temp\"] = 0\n",
    "\n",
    "    temp = pd.merge(x, y, on=[\"temp\"])\n",
    "    temp.drop(columns=[\"temp\"], inplace=True)\n",
    "    temp.sort_values(by=[column, label], inplace=True, ascending=True)\n",
    "\n",
    "    value_counts = temp.merge(value_counts, how=\"left\")\n",
    "    value_counts.fillna(0, inplace=True)\n",
    "\n",
    "    numerator = value_counts.groupby(column, sort=False)[\"count\"].apply(np.array)\n",
    "    denominator = value_counts.groupby(column, sort=False)[\"count\"].sum()\n",
    "\n",
    "    value_counts = ((numerator + alpha) / (denominator + alpha + beta)).apply(lambda x: x.tolist())\n",
    "    return value_counts.to_dict()\n",
    "    \n",
    "categorical_columns = [\n",
    "    \"product_id\",\n",
    "    \"shipping_type\",\n",
    "    \"city\",\n",
    "    \"pincode\",\n",
    "    \"vertical\",\n",
    "]\n",
    "categorical_encoding = {\n",
    "    column: response_encoding(train, column, alpha=alpha, beta=beta) for column in tqdm(categorical_columns)\n",
    "}"
   ]
  },
  {
   "cell_type": "code",
   "execution_count": 20,
   "id": "e6741105-5ed6-4edc-87fa-30220ef2bef4",
   "metadata": {},
   "outputs": [
    {
     "data": {
      "text/plain": [
       "{'ndd': [0.8923918788670211, 0.10760812113297889],\n",
       " 'non-ndd': [0.9585212618869723, 0.0414787381130277]}"
      ]
     },
     "execution_count": 20,
     "metadata": {},
     "output_type": "execute_result"
    }
   ],
   "source": [
    "categorical_encoding[\"shipping_type\"]"
   ]
  },
  {
   "cell_type": "markdown",
   "id": "5757f220-8976-45c1-a74a-e60f07273c12",
   "metadata": {},
   "source": [
    "# Aggregate Features"
   ]
  },
  {
   "cell_type": "markdown",
   "id": "14d0f7bf-e922-4592-9ded-48bb1793471b",
   "metadata": {},
   "source": [
    "Cyclic Features + Categorical Features + Numerical Features"
   ]
  },
  {
   "cell_type": "code",
   "execution_count": 21,
   "id": "d12f605c-523c-4318-b730-297fae5c26ee",
   "metadata": {},
   "outputs": [],
   "source": [
    "def aggregate_categorical_features(data):\n",
    "    func = lambda column: data[column].map(\n",
    "        lambda x: categorical_encoding[column].get(x, [0, 0])\n",
    "    )\n",
    "\n",
    "    categorical_features = func(categorical_columns[0])\n",
    "\n",
    "    for cat_col in categorical_columns[1:]:\n",
    "        categorical_features += func(cat_col)\n",
    "\n",
    "    return categorical_features\n",
    "\n",
    "\n",
    "train_categorical_features = aggregate_categorical_features(train).reset_index(\n",
    "    drop=True\n",
    ")\n",
    "test_categorical_features = aggregate_categorical_features(test).reset_index(drop=True)"
   ]
  },
  {
   "cell_type": "code",
   "execution_count": 22,
   "id": "3d284d1c-b97d-41a1-b129-796ac8a0823e",
   "metadata": {},
   "outputs": [
    {
     "data": {
      "text/plain": [
       "0        [1.0, 0.0, 0.9585212618869723, 0.0414787381130...\n",
       "1        [0.963963963963964, 0.036036036036036036, 0.95...\n",
       "2        [0.8424513413992636, 0.15754865860073644, 0.95...\n",
       "3        [0.9954441913439636, 0.004555808656036446, 0.9...\n",
       "4        [0.9824561403508771, 0.017543859649122806, 0.9...\n",
       "                               ...                        \n",
       "26878    [1.0, 0.0, 0.9585212618869723, 0.0414787381130...\n",
       "26879    [0.8424513413992636, 0.15754865860073644, 0.95...\n",
       "26880    [0.8785982478097623, 0.1214017521902378, 0.958...\n",
       "26881    [0.812822402358143, 0.18717759764185704, 0.958...\n",
       "26882    [0.8785982478097623, 0.1214017521902378, 0.958...\n",
       "Name: product_id, Length: 26883, dtype: object"
      ]
     },
     "execution_count": 22,
     "metadata": {},
     "output_type": "execute_result"
    }
   ],
   "source": [
    "test_categorical_features"
   ]
  },
  {
   "cell_type": "code",
   "execution_count": 23,
   "id": "166555af-60cb-455b-8229-ab527e39bb40",
   "metadata": {},
   "outputs": [
    {
     "name": "stdout",
     "output_type": "stream",
     "text": [
      "<class 'pandas.core.frame.DataFrame'>\n",
      "Int64Index: 435020 entries, 26562 to 378796\n",
      "Data columns (total 67 columns):\n",
      " #   Column                                 Non-Null Count   Dtype         \n",
      "---  ------                                 --------------   -----         \n",
      " 0   order_id                               435020 non-null  object        \n",
      " 1   product_id                             435020 non-null  object        \n",
      " 2   quantity                               435020 non-null  int64         \n",
      " 3   selling_price                          435020 non-null  int64         \n",
      " 4   order_date                             435020 non-null  datetime64[ns]\n",
      " 5   shipping_type                          435020 non-null  object        \n",
      " 6   user_id                                435020 non-null  object        \n",
      " 7   user_account_created_date              435020 non-null  datetime64[ns]\n",
      " 8   address_id                             435020 non-null  object        \n",
      " 9   city                                   435020 non-null  object        \n",
      " 10  pincode                                435020 non-null  object        \n",
      " 11  phone                                  435020 non-null  object        \n",
      " 12  vertical                               435020 non-null  object        \n",
      " 13  discount                               435020 non-null  float64       \n",
      " 14  count_14_days                          435020 non-null  int64         \n",
      " 15  count_28_days                          435020 non-null  int64         \n",
      " 16  count_56_days                          435020 non-null  int64         \n",
      " 17  category_purchase_count_bks            435020 non-null  float64       \n",
      " 18  category_purchase_count_X4kt           435020 non-null  float64       \n",
      " 19  category_purchase_count_X4rr           435020 non-null  float64       \n",
      " 20  category_purchase_count_dep            435020 non-null  float64       \n",
      " 21  category_purchase_count_kyh            435020 non-null  float64       \n",
      " 22  category_purchase_count_mgl            435020 non-null  float64       \n",
      " 23  category_purchase_count_dgv            435020 non-null  float64       \n",
      " 24  category_purchase_count_ixq            435020 non-null  float64       \n",
      " 25  category_purchase_count_X26x           435020 non-null  float64       \n",
      " 26  category_purchase_count_t06            435020 non-null  float64       \n",
      " 27  category_purchase_count_amz            435020 non-null  float64       \n",
      " 28  category_purchase_count_reh            435020 non-null  float64       \n",
      " 29  category_purchase_count_ckf            435020 non-null  float64       \n",
      " 30  category_purchase_count_j9e            435020 non-null  float64       \n",
      " 31  category_purchase_count_jek            435020 non-null  float64       \n",
      " 32  category_purchase_count_tyy            435020 non-null  float64       \n",
      " 33  category_purchase_count_vdm            435020 non-null  float64       \n",
      " 34  category_purchase_count_X6bo           435020 non-null  float64       \n",
      " 35  category_purchase_count_X2oq           435020 non-null  float64       \n",
      " 36  category_purchase_count_mcr            435020 non-null  float64       \n",
      " 37  category_purchase_count_osp            435020 non-null  float64       \n",
      " 38  category_purchase_count_r18            435020 non-null  float64       \n",
      " 39  label                                  435020 non-null  int64         \n",
      " 40  order_date Hour_sin                    435020 non-null  float64       \n",
      " 41  order_date Hour_cos                    435020 non-null  float64       \n",
      " 42  order_date Month_sin                   435020 non-null  float64       \n",
      " 43  order_date Month_cos                   435020 non-null  float64       \n",
      " 44  order_date Day_sin                     435020 non-null  float64       \n",
      " 45  order_date Day_cos                     435020 non-null  float64       \n",
      " 46  order_date Weekday_sin                 435020 non-null  float64       \n",
      " 47  order_date Weekday_cos                 435020 non-null  float64       \n",
      " 48  user_account_created_date Hour_sin     435020 non-null  float64       \n",
      " 49  user_account_created_date Hour_cos     435020 non-null  float64       \n",
      " 50  user_account_created_date Month_sin    435020 non-null  float64       \n",
      " 51  user_account_created_date Month_cos    435020 non-null  float64       \n",
      " 52  user_account_created_date Day_sin      435020 non-null  float64       \n",
      " 53  user_account_created_date Day_cos      435020 non-null  float64       \n",
      " 54  user_account_created_date Weekday_sin  435020 non-null  float64       \n",
      " 55  user_account_created_date Weekday_cos  435020 non-null  float64       \n",
      " 56  duration_days                          435020 non-null  float64       \n",
      " 57  duration_months                        435020 non-null  float64       \n",
      " 58  discount_to_selling_price              435020 non-null  float64       \n",
      " 59  quantity_to_last_14                    435020 non-null  float64       \n",
      " 60  total_order_value                      435020 non-null  int64         \n",
      " 61  quantity_mean                          435020 non-null  float64       \n",
      " 62  count_14_days_mean                     435020 non-null  float64       \n",
      " 63  count_28_days_mean                     435020 non-null  float64       \n",
      " 64  user_id_numerator                      435020 non-null  float64       \n",
      " 65  user_id_denominator                    435020 non-null  int64         \n",
      " 66  user_id_encoded                        435020 non-null  float64       \n",
      "dtypes: datetime64[ns](2), float64(48), int64(8), object(9)\n",
      "memory usage: 225.7+ MB\n"
     ]
    }
   ],
   "source": [
    "train.info()"
   ]
  },
  {
   "cell_type": "code",
   "execution_count": 24,
   "id": "d9e9478b-39d5-422f-9284-c351745c7df7",
   "metadata": {},
   "outputs": [
    {
     "data": {
      "text/plain": [
       "['order_date Hour_sin',\n",
       " 'order_date Hour_cos',\n",
       " 'order_date Month_sin',\n",
       " 'order_date Month_cos',\n",
       " 'order_date Day_sin',\n",
       " 'order_date Day_cos',\n",
       " 'order_date Weekday_sin',\n",
       " 'order_date Weekday_cos',\n",
       " 'user_account_created_date Hour_sin',\n",
       " 'user_account_created_date Hour_cos',\n",
       " 'user_account_created_date Month_sin',\n",
       " 'user_account_created_date Month_cos',\n",
       " 'user_account_created_date Day_sin',\n",
       " 'user_account_created_date Day_cos',\n",
       " 'user_account_created_date Weekday_sin',\n",
       " 'user_account_created_date Weekday_cos']"
      ]
     },
     "execution_count": 24,
     "metadata": {},
     "output_type": "execute_result"
    }
   ],
   "source": [
    "cyclic_columns = list(data.columns[40:56])\n",
    "cyclic_columns"
   ]
  },
  {
   "cell_type": "code",
   "execution_count": 25,
   "id": "66d05410-0c1b-4055-a2ae-7e6dd32e2dd6",
   "metadata": {},
   "outputs": [
    {
     "data": {
      "text/plain": [
       "['category_purchase_count_X26x',\n",
       " 'category_purchase_count_X2oq',\n",
       " 'category_purchase_count_X4kt',\n",
       " 'category_purchase_count_X4rr',\n",
       " 'category_purchase_count_X6bo',\n",
       " 'category_purchase_count_amz',\n",
       " 'category_purchase_count_bks',\n",
       " 'category_purchase_count_ckf',\n",
       " 'category_purchase_count_dep',\n",
       " 'category_purchase_count_dgv',\n",
       " 'category_purchase_count_ixq',\n",
       " 'category_purchase_count_j9e',\n",
       " 'category_purchase_count_jek',\n",
       " 'category_purchase_count_kyh',\n",
       " 'category_purchase_count_mcr',\n",
       " 'category_purchase_count_mgl',\n",
       " 'category_purchase_count_osp',\n",
       " 'category_purchase_count_r18',\n",
       " 'category_purchase_count_reh',\n",
       " 'category_purchase_count_t06',\n",
       " 'category_purchase_count_tyy',\n",
       " 'category_purchase_count_vdm',\n",
       " 'count_14_days',\n",
       " 'count_14_days_mean',\n",
       " 'count_28_days',\n",
       " 'count_28_days_mean',\n",
       " 'count_56_days',\n",
       " 'discount',\n",
       " 'discount_to_selling_price',\n",
       " 'duration_days',\n",
       " 'duration_months',\n",
       " 'quantity',\n",
       " 'quantity_mean',\n",
       " 'quantity_to_last_14',\n",
       " 'selling_price',\n",
       " 'total_order_value',\n",
       " 'user_id_denominator',\n",
       " 'user_id_encoded',\n",
       " 'user_id_numerator']"
      ]
     },
     "execution_count": 25,
     "metadata": {},
     "output_type": "execute_result"
    }
   ],
   "source": [
    "features_columns = train.select_dtypes(include=[\"float64\", \"int64\"]).columns\n",
    "features_columns = features_columns.drop(\"label\")\n",
    "numerical_columns = list(features_columns.difference(cyclic_columns))\n",
    "numerical_columns"
   ]
  },
  {
   "cell_type": "code",
   "execution_count": 26,
   "id": "7eb65f5c-9d49-4a1f-8567-d373adb9f101",
   "metadata": {},
   "outputs": [],
   "source": [
    "feature_columns = numerical_columns + cyclic_columns"
   ]
  },
  {
   "cell_type": "code",
   "execution_count": 27,
   "id": "7d6c818b-9fa1-46d2-bbdc-924e22d3bd03",
   "metadata": {},
   "outputs": [],
   "source": [
    "y_train = train[\"label\"]\n",
    "X_train = pd.Series(train[feature_columns].values.tolist()) + train_categorical_features\n",
    "\n",
    "y_test = test[\"label\"]\n",
    "X_test = pd.Series(test[feature_columns].values.tolist()) + test_categorical_features"
   ]
  },
  {
   "cell_type": "code",
   "execution_count": 28,
   "id": "6563144a-ab50-4599-a413-af680a95d426",
   "metadata": {},
   "outputs": [],
   "source": [
    "X_train = np.array(X_train.tolist())\n",
    "X_test = np.array(X_test.tolist())"
   ]
  },
  {
   "cell_type": "code",
   "execution_count": 29,
   "id": "67850a0e-925d-45e0-8f99-098da9985e06",
   "metadata": {},
   "outputs": [
    {
     "data": {
      "text/plain": [
       "(array([[0.00000000e+00, 3.70000000e+01, 0.00000000e+00, ...,\n",
       "         5.22088353e-02, 9.92198870e-01, 7.80112994e-03],\n",
       "        [0.00000000e+00, 3.70000000e+01, 0.00000000e+00, ...,\n",
       "         5.22088353e-02, 9.92198870e-01, 7.80112994e-03],\n",
       "        [0.00000000e+00, 3.70000000e+01, 0.00000000e+00, ...,\n",
       "         5.22088353e-02, 9.92198870e-01, 7.80112994e-03],\n",
       "        ...,\n",
       "        [0.00000000e+00, 0.00000000e+00, 0.00000000e+00, ...,\n",
       "         2.10210210e-02, 9.10848294e-01, 8.91517058e-02],\n",
       "        [0.00000000e+00, 0.00000000e+00, 0.00000000e+00, ...,\n",
       "         0.00000000e+00, 9.10848294e-01, 8.91517058e-02],\n",
       "        [0.00000000e+00, 0.00000000e+00, 0.00000000e+00, ...,\n",
       "         1.63934426e-02, 9.10848294e-01, 8.91517058e-02]]),\n",
       " 26562     0\n",
       " 26563     0\n",
       " 26565     0\n",
       " 26566     0\n",
       " 26569     0\n",
       "          ..\n",
       " 418311    0\n",
       " 423650    0\n",
       " 405578    0\n",
       " 395993    0\n",
       " 378796    0\n",
       " Name: label, Length: 435020, dtype: int64)"
      ]
     },
     "execution_count": 29,
     "metadata": {},
     "output_type": "execute_result"
    }
   ],
   "source": [
    "X_train, y_train"
   ]
  },
  {
   "cell_type": "markdown",
   "id": "2b3844ea-1ded-4a5d-820c-a598682734a8",
   "metadata": {},
   "source": [
    "# SMOTE\n",
    "\n",
    "SMOTE wouldn't make much of a difference with XGBoost and Random Forest\n",
    "\n",
    "However, MLP could really use some class balancing"
   ]
  },
  {
   "cell_type": "code",
   "execution_count": 30,
   "id": "5ddaf855-22d4-4abd-959e-8019fe88324a",
   "metadata": {},
   "outputs": [],
   "source": [
    "from collections import Counter\n",
    "from imblearn.over_sampling import SMOTE\n",
    "from imblearn.under_sampling import RandomUnderSampler\n",
    "from imblearn.pipeline import Pipeline"
   ]
  },
  {
   "cell_type": "code",
   "execution_count": 31,
   "id": "e653060c-246b-41f5-a96a-7e80ea59c02b",
   "metadata": {},
   "outputs": [
    {
     "data": {
      "text/plain": [
       "Counter({0: 414849, 1: 20171})"
      ]
     },
     "execution_count": 31,
     "metadata": {},
     "output_type": "execute_result"
    }
   ],
   "source": [
    "counter = Counter(y_train)\n",
    "counter"
   ]
  },
  {
   "cell_type": "code",
   "execution_count": 32,
   "id": "c3c1ef5f-5c9f-4581-82db-ab1fc74bf3d6",
   "metadata": {},
   "outputs": [],
   "source": [
    "\"\"\"\n",
    "Define the resampling strategies and ratios\n",
    "\n",
    "    * RandomUnderSampler will reduce the number of samples for class 0 to 200,000\n",
    "    * SMOTE will increase the number of samples for class 1 to 40,000\n",
    "\"\"\"\n",
    "under = RandomUnderSampler(sampling_strategy={0: 300000})\n",
    "over = SMOTE(sampling_strategy={1: 100000})\n",
    "\n",
    "# The pipeline first applies SMOTE (oversampling) and then RandomUnderSampler (undersampling)\n",
    "# steps = [(\"o\", over), (\"u\", under)]\n",
    "steps = [(\"u\", under)]\n",
    "pipeline = Pipeline(steps=steps)\n",
    "\n",
    "# Apply the resampling pipeline to the training data (X_train and y_train)\n",
    "# This step will balance the class distribution by oversampling class 1 and undersampling class 0\n",
    "X_train, y_train = pipeline.fit_resample(X_train, y_train)"
   ]
  },
  {
   "cell_type": "code",
   "execution_count": 33,
   "id": "56c1299c-b368-4100-a223-b9ac5d262914",
   "metadata": {},
   "outputs": [
    {
     "data": {
      "text/plain": [
       "Counter({0: 300000, 1: 20171})"
      ]
     },
     "execution_count": 33,
     "metadata": {},
     "output_type": "execute_result"
    }
   ],
   "source": [
    "counter = Counter(y_train)\n",
    "counter"
   ]
  },
  {
   "cell_type": "markdown",
   "id": "0fae0afa-74ad-4d3f-a49d-fb7ae9f5e94f",
   "metadata": {},
   "source": [
    "# Metrics\n",
    "__________"
   ]
  },
  {
   "cell_type": "code",
   "execution_count": 34,
   "id": "76eb50d1-e1ad-4759-b5a3-4adeb4d8af1e",
   "metadata": {},
   "outputs": [],
   "source": [
    "from sklearn.metrics import f1_score, roc_curve, auc, confusion_matrix, accuracy_score\n",
    "from prettytable import PrettyTable"
   ]
  },
  {
   "cell_type": "code",
   "execution_count": 35,
   "id": "755f993a-088c-435f-a4be-6f58a730e8d8",
   "metadata": {},
   "outputs": [],
   "source": [
    "class Metrics:\n",
    "    def __init__(self, X_train, X_test, y_train, y_test):\n",
    "        self.results = dict()\n",
    "\n",
    "        self.X_train = X_train\n",
    "        self.X_test = X_test\n",
    "        self.y_train = y_train\n",
    "        self.y_test = y_test\n",
    "\n",
    "    def plot_roc_curve(self, model, plot=True):\n",
    "        \"\"\"\n",
    "        Plots the Receiver Operating Characteristic (ROC) curve for a binary classification model.\n",
    "\n",
    "        Parameters:\n",
    "            - model: The binary classification model.\n",
    "            - X_test: Testing data features.\n",
    "            - y_test: True labels for testing data.\n",
    "            - plot (bool): Whether to display the ROC curve plot (default is True).\n",
    "\n",
    "        Returns:\n",
    "            - float: Area under the ROC curve (AUC) score.\n",
    "        \"\"\"\n",
    "        y_scores = model.predict_proba(self.X_test)[:, 1]\n",
    "        fpr, tpr, _ = roc_curve(self.y_test, y_scores)\n",
    "\n",
    "        roc_auc = auc(fpr, tpr)\n",
    "\n",
    "        if plot:\n",
    "            plt.figure(figsize=(8, 6))\n",
    "\n",
    "            plt.plot(\n",
    "                fpr,\n",
    "                tpr,\n",
    "                color=\"darkorange\",\n",
    "                lw=2,\n",
    "                label=\"ROC curve (area = {:.2f})\".format(roc_auc),\n",
    "            )\n",
    "            plt.plot([0, 1], [0, 1], color=\"navy\", lw=2, linestyle=\"--\")\n",
    "\n",
    "            plt.xlim([0.0, 1.0])\n",
    "            plt.ylim([0.0, 1.05])\n",
    "\n",
    "            plt.xlabel(\"False Positive Rate\")\n",
    "            plt.ylabel(\"True Positive Rate\")\n",
    "            plt.title(\"ROC Curve\")\n",
    "            plt.legend(loc=\"lower right\")\n",
    "            plt.show()\n",
    "\n",
    "        return roc_auc\n",
    "\n",
    "    def model_stats(self, model, model_name, plot_auc=False):\n",
    "        \"\"\"\n",
    "        Computes and stores various model performance metrics.\n",
    "\n",
    "        Parameters:\n",
    "            - model: The classification model.\n",
    "            - model_name (str): A name or identifier for the model.\n",
    "            - plot_auc (bool): Whether to plot the ROC curve (default is False).\n",
    "\n",
    "        Returns:\n",
    "            - None\n",
    "        \"\"\"\n",
    "        # Training Accuracy\n",
    "        dtrain_predictions = model.predict(self.X_train)\n",
    "        train_accuracy = accuracy_score(self.y_train, dtrain_predictions)\n",
    "\n",
    "        # Testing Accuracy\n",
    "        dtest_predictions = model.predict(self.X_test)\n",
    "        test_accuracy = accuracy_score(self.y_test, dtest_predictions)\n",
    "\n",
    "        # F1 Score\n",
    "        train_f1_score = f1_score(self.y_train, dtrain_predictions, average=\"weighted\")\n",
    "        test_f1_score = f1_score(self.y_test, dtest_predictions, average=\"weighted\")\n",
    "\n",
    "        # Confusion Matrix\n",
    "        tn, fp, fn, tp = confusion_matrix(self.y_test, dtest_predictions).ravel()\n",
    "\n",
    "        # plot ROC\n",
    "        roc_auc = self.plot_roc_curve(model, plot=plot_auc)\n",
    "\n",
    "        # store results\n",
    "        results = {\n",
    "            # \"Train Accuracy\": train_accuracy,\n",
    "            \"Test Accuracy\": test_accuracy,\n",
    "            # \"Train F1\": train_f1_score,\n",
    "            \"Test F1\": test_f1_score,\n",
    "            \"Test AUC\": roc_auc,\n",
    "            \"True Positive\": tp,\n",
    "            \"True Negative\": tn,\n",
    "            \"False Positive\": fp,\n",
    "            \"False Negative\": fn,\n",
    "        }\n",
    "\n",
    "        self.results[model_name] = results\n",
    "        print(self.print_results(model_name))\n",
    "\n",
    "    def print_results(self, model_name):\n",
    "        assert (\n",
    "            model_name in self.results\n",
    "        ), \"Please run model_stats for this model before printing the results..\"\n",
    "\n",
    "        x = PrettyTable()\n",
    "\n",
    "        x.field_names = list(self.results[model_name].keys())\n",
    "        x.add_row(\n",
    "            [round(value, 8) for value in list(self.results[model_name].values())]\n",
    "        )\n",
    "        return x"
   ]
  },
  {
   "cell_type": "code",
   "execution_count": 36,
   "id": "46bfe621-a764-4e0a-80de-69bc63fd4302",
   "metadata": {},
   "outputs": [],
   "source": [
    "model_metrics = Metrics(X_train=X_train, X_test=X_test, y_train=y_train, y_test=y_test)"
   ]
  },
  {
   "cell_type": "code",
   "execution_count": 37,
   "id": "6272cfe8-b00a-446a-baf8-f7ae2ce97e5d",
   "metadata": {},
   "outputs": [],
   "source": [
    "import torch\n",
    "\n",
    "\n",
    "def feature_importance(model, map, plot=True):\n",
    "    imp = torch.from_numpy(x_clf.feature_importances_)\n",
    "    values, idx = torch.sort(imp, descending=True)\n",
    "\n",
    "    if not plot:\n",
    "        print([[map[i], v.item()] for i, v in zip(idx, values)])\n",
    "\n",
    "    else:\n",
    "        plt.figure(figsize=(10, 20))  # Adjust the figure size as needed\n",
    "        plt.barh([map[i] for i in idx.tolist()], values.tolist(), color='skyblue')\n",
    "        plt.xlabel('Importance Score')\n",
    "        plt.ylabel('Feature Name')\n",
    "        plt.title('Feature Importance')\n",
    "        plt.gca().invert_yaxis()  # Invert the y-axis to display the most important features at the top\n",
    "        plt.show()"
   ]
  },
  {
   "cell_type": "markdown",
   "id": "7a623739-5fc2-433e-a82e-ca93710694db",
   "metadata": {},
   "source": [
    "# ___________________________________________________Modelling\n",
    "\n",
    "**Choices:**\n",
    "\n",
    "* Ensemble methods like Random Forest and XGBoost often perform well out of the box and should be considered for their robustness\n",
    "\n",
    "* Deep learning models like Feed Forward Neural Networks can be powerful but may require more data and computational resources\n",
    "* Logistic Regression serves as a good starting point and a reference for simpler models"
   ]
  },
  {
   "cell_type": "markdown",
   "id": "ab4840b4-c20b-4ebf-8466-9f165f30c0d4",
   "metadata": {},
   "source": [
    "## XGBoost"
   ]
  },
  {
   "cell_type": "code",
   "execution_count": 38,
   "id": "e08e6ee3-3b83-410f-b933-1b4f124dfa0b",
   "metadata": {},
   "outputs": [],
   "source": [
    "import xgboost as xgb\n",
    "from xgboost.sklearn import XGBClassifier"
   ]
  },
  {
   "cell_type": "code",
   "execution_count": 39,
   "id": "a323aa76-251c-412c-b21b-737a56bb0bde",
   "metadata": {},
   "outputs": [
    {
     "data": {
      "text/html": [
       "<style>#sk-container-id-1 {color: black;}#sk-container-id-1 pre{padding: 0;}#sk-container-id-1 div.sk-toggleable {background-color: white;}#sk-container-id-1 label.sk-toggleable__label {cursor: pointer;display: block;width: 100%;margin-bottom: 0;padding: 0.3em;box-sizing: border-box;text-align: center;}#sk-container-id-1 label.sk-toggleable__label-arrow:before {content: \"▸\";float: left;margin-right: 0.25em;color: #696969;}#sk-container-id-1 label.sk-toggleable__label-arrow:hover:before {color: black;}#sk-container-id-1 div.sk-estimator:hover label.sk-toggleable__label-arrow:before {color: black;}#sk-container-id-1 div.sk-toggleable__content {max-height: 0;max-width: 0;overflow: hidden;text-align: left;background-color: #f0f8ff;}#sk-container-id-1 div.sk-toggleable__content pre {margin: 0.2em;color: black;border-radius: 0.25em;background-color: #f0f8ff;}#sk-container-id-1 input.sk-toggleable__control:checked~div.sk-toggleable__content {max-height: 200px;max-width: 100%;overflow: auto;}#sk-container-id-1 input.sk-toggleable__control:checked~label.sk-toggleable__label-arrow:before {content: \"▾\";}#sk-container-id-1 div.sk-estimator input.sk-toggleable__control:checked~label.sk-toggleable__label {background-color: #d4ebff;}#sk-container-id-1 div.sk-label input.sk-toggleable__control:checked~label.sk-toggleable__label {background-color: #d4ebff;}#sk-container-id-1 input.sk-hidden--visually {border: 0;clip: rect(1px 1px 1px 1px);clip: rect(1px, 1px, 1px, 1px);height: 1px;margin: -1px;overflow: hidden;padding: 0;position: absolute;width: 1px;}#sk-container-id-1 div.sk-estimator {font-family: monospace;background-color: #f0f8ff;border: 1px dotted black;border-radius: 0.25em;box-sizing: border-box;margin-bottom: 0.5em;}#sk-container-id-1 div.sk-estimator:hover {background-color: #d4ebff;}#sk-container-id-1 div.sk-parallel-item::after {content: \"\";width: 100%;border-bottom: 1px solid gray;flex-grow: 1;}#sk-container-id-1 div.sk-label:hover label.sk-toggleable__label {background-color: #d4ebff;}#sk-container-id-1 div.sk-serial::before {content: \"\";position: absolute;border-left: 1px solid gray;box-sizing: border-box;top: 0;bottom: 0;left: 50%;z-index: 0;}#sk-container-id-1 div.sk-serial {display: flex;flex-direction: column;align-items: center;background-color: white;padding-right: 0.2em;padding-left: 0.2em;position: relative;}#sk-container-id-1 div.sk-item {position: relative;z-index: 1;}#sk-container-id-1 div.sk-parallel {display: flex;align-items: stretch;justify-content: center;background-color: white;position: relative;}#sk-container-id-1 div.sk-item::before, #sk-container-id-1 div.sk-parallel-item::before {content: \"\";position: absolute;border-left: 1px solid gray;box-sizing: border-box;top: 0;bottom: 0;left: 50%;z-index: -1;}#sk-container-id-1 div.sk-parallel-item {display: flex;flex-direction: column;z-index: 1;position: relative;background-color: white;}#sk-container-id-1 div.sk-parallel-item:first-child::after {align-self: flex-end;width: 50%;}#sk-container-id-1 div.sk-parallel-item:last-child::after {align-self: flex-start;width: 50%;}#sk-container-id-1 div.sk-parallel-item:only-child::after {width: 0;}#sk-container-id-1 div.sk-dashed-wrapped {border: 1px dashed gray;margin: 0 0.4em 0.5em 0.4em;box-sizing: border-box;padding-bottom: 0.4em;background-color: white;}#sk-container-id-1 div.sk-label label {font-family: monospace;font-weight: bold;display: inline-block;line-height: 1.2em;}#sk-container-id-1 div.sk-label-container {text-align: center;}#sk-container-id-1 div.sk-container {/* jupyter's `normalize.less` sets `[hidden] { display: none; }` but bootstrap.min.css set `[hidden] { display: none !important; }` so we also need the `!important` here to be able to override the default hidden behavior on the sphinx rendered scikit-learn.org. See: https://github.com/scikit-learn/scikit-learn/issues/21755 */display: inline-block !important;position: relative;}#sk-container-id-1 div.sk-text-repr-fallback {display: none;}</style><div id=\"sk-container-id-1\" class=\"sk-top-container\"><div class=\"sk-text-repr-fallback\"><pre>XGBClassifier(base_score=None, booster=None, callbacks=None,\n",
       "              colsample_bylevel=None, colsample_bynode=None, colsample_bytree=1,\n",
       "              device=None, early_stopping_rounds=None, enable_categorical=False,\n",
       "              eval_metric=None, feature_types=None, gamma=None,\n",
       "              grow_policy=None, importance_type=None,\n",
       "              interaction_constraints=None, learning_rate=None, max_bin=None,\n",
       "              max_cat_threshold=None, max_cat_to_onehot=None,\n",
       "              max_delta_step=None, max_depth=100, max_leaves=None,\n",
       "              min_child_weight=None, missing=nan, monotone_constraints=None,\n",
       "              multi_strategy=None, n_estimators=None, n_jobs=None, num_class=2,\n",
       "              num_parallel_tree=None, ...)</pre><b>In a Jupyter environment, please rerun this cell to show the HTML representation or trust the notebook. <br />On GitHub, the HTML representation is unable to render, please try loading this page with nbviewer.org.</b></div><div class=\"sk-container\" hidden><div class=\"sk-item\"><div class=\"sk-estimator sk-toggleable\"><input class=\"sk-toggleable__control sk-hidden--visually\" id=\"sk-estimator-id-1\" type=\"checkbox\" checked><label for=\"sk-estimator-id-1\" class=\"sk-toggleable__label sk-toggleable__label-arrow\">XGBClassifier</label><div class=\"sk-toggleable__content\"><pre>XGBClassifier(base_score=None, booster=None, callbacks=None,\n",
       "              colsample_bylevel=None, colsample_bynode=None, colsample_bytree=1,\n",
       "              device=None, early_stopping_rounds=None, enable_categorical=False,\n",
       "              eval_metric=None, feature_types=None, gamma=None,\n",
       "              grow_policy=None, importance_type=None,\n",
       "              interaction_constraints=None, learning_rate=None, max_bin=None,\n",
       "              max_cat_threshold=None, max_cat_to_onehot=None,\n",
       "              max_delta_step=None, max_depth=100, max_leaves=None,\n",
       "              min_child_weight=None, missing=nan, monotone_constraints=None,\n",
       "              multi_strategy=None, n_estimators=None, n_jobs=None, num_class=2,\n",
       "              num_parallel_tree=None, ...)</pre></div></div></div></div></div>"
      ],
      "text/plain": [
       "XGBClassifier(base_score=None, booster=None, callbacks=None,\n",
       "              colsample_bylevel=None, colsample_bynode=None, colsample_bytree=1,\n",
       "              device=None, early_stopping_rounds=None, enable_categorical=False,\n",
       "              eval_metric=None, feature_types=None, gamma=None,\n",
       "              grow_policy=None, importance_type=None,\n",
       "              interaction_constraints=None, learning_rate=None, max_bin=None,\n",
       "              max_cat_threshold=None, max_cat_to_onehot=None,\n",
       "              max_delta_step=None, max_depth=100, max_leaves=None,\n",
       "              min_child_weight=None, missing=nan, monotone_constraints=None,\n",
       "              multi_strategy=None, n_estimators=None, n_jobs=None, num_class=2,\n",
       "              num_parallel_tree=None, ...)"
      ]
     },
     "execution_count": 39,
     "metadata": {},
     "output_type": "execute_result"
    }
   ],
   "source": [
    "x_clf = XGBClassifier(\n",
    "    objective=\"multi:softmax\",\n",
    "    num_class=2,\n",
    "    colsample_bytree=1,\n",
    "    max_depth=100,\n",
    "    subsample=0.3,\n",
    ")\n",
    "\n",
    "x_clf.fit(X_train, y_train)"
   ]
  },
  {
   "cell_type": "code",
   "execution_count": 40,
   "id": "7cca53eb-3a48-4f2e-800c-ef77b48c545a",
   "metadata": {},
   "outputs": [
    {
     "name": "stdout",
     "output_type": "stream",
     "text": [
      "+---------------+------------+------------+---------------+---------------+----------------+----------------+\n",
      "| Test Accuracy |  Test F1   |  Test AUC  | True Positive | True Negative | False Positive | False Negative |\n",
      "+---------------+------------+------------+---------------+---------------+----------------+----------------+\n",
      "|   0.97734628  | 0.97496971 | 0.95564461 |      701      |     25573     |       85       |      524       |\n",
      "+---------------+------------+------------+---------------+---------------+----------------+----------------+\n"
     ]
    }
   ],
   "source": [
    "model_metrics.model_stats(x_clf, \"XGBoost\", plot_auc=False)"
   ]
  },
  {
   "cell_type": "markdown",
   "id": "b2818628-4216-465d-87c6-f4dcde926c44",
   "metadata": {},
   "source": [
    "## Random Forest Classifier"
   ]
  },
  {
   "cell_type": "code",
   "execution_count": 43,
   "id": "c1d9c8f5-ebdb-4d7f-b986-c785a62b3624",
   "metadata": {},
   "outputs": [],
   "source": [
    "from sklearn.ensemble import RandomForestClassifier"
   ]
  },
  {
   "cell_type": "code",
   "execution_count": 44,
   "id": "cf96d9d3-a660-4536-b40b-513e936cbe11",
   "metadata": {},
   "outputs": [
    {
     "data": {
      "text/html": [
       "<style>#sk-container-id-2 {color: black;}#sk-container-id-2 pre{padding: 0;}#sk-container-id-2 div.sk-toggleable {background-color: white;}#sk-container-id-2 label.sk-toggleable__label {cursor: pointer;display: block;width: 100%;margin-bottom: 0;padding: 0.3em;box-sizing: border-box;text-align: center;}#sk-container-id-2 label.sk-toggleable__label-arrow:before {content: \"▸\";float: left;margin-right: 0.25em;color: #696969;}#sk-container-id-2 label.sk-toggleable__label-arrow:hover:before {color: black;}#sk-container-id-2 div.sk-estimator:hover label.sk-toggleable__label-arrow:before {color: black;}#sk-container-id-2 div.sk-toggleable__content {max-height: 0;max-width: 0;overflow: hidden;text-align: left;background-color: #f0f8ff;}#sk-container-id-2 div.sk-toggleable__content pre {margin: 0.2em;color: black;border-radius: 0.25em;background-color: #f0f8ff;}#sk-container-id-2 input.sk-toggleable__control:checked~div.sk-toggleable__content {max-height: 200px;max-width: 100%;overflow: auto;}#sk-container-id-2 input.sk-toggleable__control:checked~label.sk-toggleable__label-arrow:before {content: \"▾\";}#sk-container-id-2 div.sk-estimator input.sk-toggleable__control:checked~label.sk-toggleable__label {background-color: #d4ebff;}#sk-container-id-2 div.sk-label input.sk-toggleable__control:checked~label.sk-toggleable__label {background-color: #d4ebff;}#sk-container-id-2 input.sk-hidden--visually {border: 0;clip: rect(1px 1px 1px 1px);clip: rect(1px, 1px, 1px, 1px);height: 1px;margin: -1px;overflow: hidden;padding: 0;position: absolute;width: 1px;}#sk-container-id-2 div.sk-estimator {font-family: monospace;background-color: #f0f8ff;border: 1px dotted black;border-radius: 0.25em;box-sizing: border-box;margin-bottom: 0.5em;}#sk-container-id-2 div.sk-estimator:hover {background-color: #d4ebff;}#sk-container-id-2 div.sk-parallel-item::after {content: \"\";width: 100%;border-bottom: 1px solid gray;flex-grow: 1;}#sk-container-id-2 div.sk-label:hover label.sk-toggleable__label {background-color: #d4ebff;}#sk-container-id-2 div.sk-serial::before {content: \"\";position: absolute;border-left: 1px solid gray;box-sizing: border-box;top: 0;bottom: 0;left: 50%;z-index: 0;}#sk-container-id-2 div.sk-serial {display: flex;flex-direction: column;align-items: center;background-color: white;padding-right: 0.2em;padding-left: 0.2em;position: relative;}#sk-container-id-2 div.sk-item {position: relative;z-index: 1;}#sk-container-id-2 div.sk-parallel {display: flex;align-items: stretch;justify-content: center;background-color: white;position: relative;}#sk-container-id-2 div.sk-item::before, #sk-container-id-2 div.sk-parallel-item::before {content: \"\";position: absolute;border-left: 1px solid gray;box-sizing: border-box;top: 0;bottom: 0;left: 50%;z-index: -1;}#sk-container-id-2 div.sk-parallel-item {display: flex;flex-direction: column;z-index: 1;position: relative;background-color: white;}#sk-container-id-2 div.sk-parallel-item:first-child::after {align-self: flex-end;width: 50%;}#sk-container-id-2 div.sk-parallel-item:last-child::after {align-self: flex-start;width: 50%;}#sk-container-id-2 div.sk-parallel-item:only-child::after {width: 0;}#sk-container-id-2 div.sk-dashed-wrapped {border: 1px dashed gray;margin: 0 0.4em 0.5em 0.4em;box-sizing: border-box;padding-bottom: 0.4em;background-color: white;}#sk-container-id-2 div.sk-label label {font-family: monospace;font-weight: bold;display: inline-block;line-height: 1.2em;}#sk-container-id-2 div.sk-label-container {text-align: center;}#sk-container-id-2 div.sk-container {/* jupyter's `normalize.less` sets `[hidden] { display: none; }` but bootstrap.min.css set `[hidden] { display: none !important; }` so we also need the `!important` here to be able to override the default hidden behavior on the sphinx rendered scikit-learn.org. See: https://github.com/scikit-learn/scikit-learn/issues/21755 */display: inline-block !important;position: relative;}#sk-container-id-2 div.sk-text-repr-fallback {display: none;}</style><div id=\"sk-container-id-2\" class=\"sk-top-container\"><div class=\"sk-text-repr-fallback\"><pre>RandomForestClassifier(class_weight=&#x27;balanced&#x27;, max_depth=20, n_estimators=1000,\n",
       "                       n_jobs=-1)</pre><b>In a Jupyter environment, please rerun this cell to show the HTML representation or trust the notebook. <br />On GitHub, the HTML representation is unable to render, please try loading this page with nbviewer.org.</b></div><div class=\"sk-container\" hidden><div class=\"sk-item\"><div class=\"sk-estimator sk-toggleable\"><input class=\"sk-toggleable__control sk-hidden--visually\" id=\"sk-estimator-id-2\" type=\"checkbox\" checked><label for=\"sk-estimator-id-2\" class=\"sk-toggleable__label sk-toggleable__label-arrow\">RandomForestClassifier</label><div class=\"sk-toggleable__content\"><pre>RandomForestClassifier(class_weight=&#x27;balanced&#x27;, max_depth=20, n_estimators=1000,\n",
       "                       n_jobs=-1)</pre></div></div></div></div></div>"
      ],
      "text/plain": [
       "RandomForestClassifier(class_weight='balanced', max_depth=20, n_estimators=1000,\n",
       "                       n_jobs=-1)"
      ]
     },
     "execution_count": 44,
     "metadata": {},
     "output_type": "execute_result"
    }
   ],
   "source": [
    "rf = RandomForestClassifier(\n",
    "    n_jobs=-1, bootstrap=True, n_estimators=1000, max_depth=20, class_weight=\"balanced\"\n",
    ")\n",
    "\n",
    "rf.fit(X_train, y_train)"
   ]
  },
  {
   "cell_type": "code",
   "execution_count": 45,
   "id": "f808f0bf-7935-4dd7-acd5-d0ae8a2a80bf",
   "metadata": {},
   "outputs": [
    {
     "name": "stdout",
     "output_type": "stream",
     "text": [
      "+---------------+------------+-----------+---------------+---------------+----------------+----------------+\n",
      "| Test Accuracy |  Test F1   |  Test AUC | True Positive | True Negative | False Positive | False Negative |\n",
      "+---------------+------------+-----------+---------------+---------------+----------------+----------------+\n",
      "|   0.98080571  | 0.98002543 | 0.9700235 |      871      |     25496     |      162       |      354       |\n",
      "+---------------+------------+-----------+---------------+---------------+----------------+----------------+\n"
     ]
    }
   ],
   "source": [
    "model_metrics.model_stats(rf, \"Random Forest\", plot_auc=False)"
   ]
  },
  {
   "cell_type": "markdown",
   "id": "17c4d79b-a17f-4752-9aea-daaaef3712d1",
   "metadata": {},
   "source": [
    "## Logistic Regression"
   ]
  },
  {
   "cell_type": "markdown",
   "id": "a4ad5601-57f1-46ef-8ff9-29b1e9483f8d",
   "metadata": {},
   "source": [
    "### (Fail)"
   ]
  },
  {
   "cell_type": "code",
   "execution_count": 47,
   "id": "9c3ed526-391c-4031-bcef-ffce38e334c0",
   "metadata": {},
   "outputs": [],
   "source": [
    "from sklearn.linear_model import LogisticRegression"
   ]
  },
  {
   "cell_type": "code",
   "execution_count": 48,
   "id": "26e92371-1138-4a31-85cf-2fbc435ed559",
   "metadata": {},
   "outputs": [
    {
     "name": "stderr",
     "output_type": "stream",
     "text": [
      "/Users/dawn/git/vision/venv/lib/python3.11/site-packages/sklearn/linear_model/_logistic.py:460: ConvergenceWarning: lbfgs failed to converge (status=1):\n",
      "STOP: TOTAL NO. of ITERATIONS REACHED LIMIT.\n",
      "\n",
      "Increase the number of iterations (max_iter) or scale the data as shown in:\n",
      "    https://scikit-learn.org/stable/modules/preprocessing.html\n",
      "Please also refer to the documentation for alternative solver options:\n",
      "    https://scikit-learn.org/stable/modules/linear_model.html#logistic-regression\n",
      "  n_iter_i = _check_optimize_result(\n"
     ]
    },
    {
     "data": {
      "text/html": [
       "<style>#sk-container-id-3 {color: black;}#sk-container-id-3 pre{padding: 0;}#sk-container-id-3 div.sk-toggleable {background-color: white;}#sk-container-id-3 label.sk-toggleable__label {cursor: pointer;display: block;width: 100%;margin-bottom: 0;padding: 0.3em;box-sizing: border-box;text-align: center;}#sk-container-id-3 label.sk-toggleable__label-arrow:before {content: \"▸\";float: left;margin-right: 0.25em;color: #696969;}#sk-container-id-3 label.sk-toggleable__label-arrow:hover:before {color: black;}#sk-container-id-3 div.sk-estimator:hover label.sk-toggleable__label-arrow:before {color: black;}#sk-container-id-3 div.sk-toggleable__content {max-height: 0;max-width: 0;overflow: hidden;text-align: left;background-color: #f0f8ff;}#sk-container-id-3 div.sk-toggleable__content pre {margin: 0.2em;color: black;border-radius: 0.25em;background-color: #f0f8ff;}#sk-container-id-3 input.sk-toggleable__control:checked~div.sk-toggleable__content {max-height: 200px;max-width: 100%;overflow: auto;}#sk-container-id-3 input.sk-toggleable__control:checked~label.sk-toggleable__label-arrow:before {content: \"▾\";}#sk-container-id-3 div.sk-estimator input.sk-toggleable__control:checked~label.sk-toggleable__label {background-color: #d4ebff;}#sk-container-id-3 div.sk-label input.sk-toggleable__control:checked~label.sk-toggleable__label {background-color: #d4ebff;}#sk-container-id-3 input.sk-hidden--visually {border: 0;clip: rect(1px 1px 1px 1px);clip: rect(1px, 1px, 1px, 1px);height: 1px;margin: -1px;overflow: hidden;padding: 0;position: absolute;width: 1px;}#sk-container-id-3 div.sk-estimator {font-family: monospace;background-color: #f0f8ff;border: 1px dotted black;border-radius: 0.25em;box-sizing: border-box;margin-bottom: 0.5em;}#sk-container-id-3 div.sk-estimator:hover {background-color: #d4ebff;}#sk-container-id-3 div.sk-parallel-item::after {content: \"\";width: 100%;border-bottom: 1px solid gray;flex-grow: 1;}#sk-container-id-3 div.sk-label:hover label.sk-toggleable__label {background-color: #d4ebff;}#sk-container-id-3 div.sk-serial::before {content: \"\";position: absolute;border-left: 1px solid gray;box-sizing: border-box;top: 0;bottom: 0;left: 50%;z-index: 0;}#sk-container-id-3 div.sk-serial {display: flex;flex-direction: column;align-items: center;background-color: white;padding-right: 0.2em;padding-left: 0.2em;position: relative;}#sk-container-id-3 div.sk-item {position: relative;z-index: 1;}#sk-container-id-3 div.sk-parallel {display: flex;align-items: stretch;justify-content: center;background-color: white;position: relative;}#sk-container-id-3 div.sk-item::before, #sk-container-id-3 div.sk-parallel-item::before {content: \"\";position: absolute;border-left: 1px solid gray;box-sizing: border-box;top: 0;bottom: 0;left: 50%;z-index: -1;}#sk-container-id-3 div.sk-parallel-item {display: flex;flex-direction: column;z-index: 1;position: relative;background-color: white;}#sk-container-id-3 div.sk-parallel-item:first-child::after {align-self: flex-end;width: 50%;}#sk-container-id-3 div.sk-parallel-item:last-child::after {align-self: flex-start;width: 50%;}#sk-container-id-3 div.sk-parallel-item:only-child::after {width: 0;}#sk-container-id-3 div.sk-dashed-wrapped {border: 1px dashed gray;margin: 0 0.4em 0.5em 0.4em;box-sizing: border-box;padding-bottom: 0.4em;background-color: white;}#sk-container-id-3 div.sk-label label {font-family: monospace;font-weight: bold;display: inline-block;line-height: 1.2em;}#sk-container-id-3 div.sk-label-container {text-align: center;}#sk-container-id-3 div.sk-container {/* jupyter's `normalize.less` sets `[hidden] { display: none; }` but bootstrap.min.css set `[hidden] { display: none !important; }` so we also need the `!important` here to be able to override the default hidden behavior on the sphinx rendered scikit-learn.org. See: https://github.com/scikit-learn/scikit-learn/issues/21755 */display: inline-block !important;position: relative;}#sk-container-id-3 div.sk-text-repr-fallback {display: none;}</style><div id=\"sk-container-id-3\" class=\"sk-top-container\"><div class=\"sk-text-repr-fallback\"><pre>LogisticRegression(C=100)</pre><b>In a Jupyter environment, please rerun this cell to show the HTML representation or trust the notebook. <br />On GitHub, the HTML representation is unable to render, please try loading this page with nbviewer.org.</b></div><div class=\"sk-container\" hidden><div class=\"sk-item\"><div class=\"sk-estimator sk-toggleable\"><input class=\"sk-toggleable__control sk-hidden--visually\" id=\"sk-estimator-id-3\" type=\"checkbox\" checked><label for=\"sk-estimator-id-3\" class=\"sk-toggleable__label sk-toggleable__label-arrow\">LogisticRegression</label><div class=\"sk-toggleable__content\"><pre>LogisticRegression(C=100)</pre></div></div></div></div></div>"
      ],
      "text/plain": [
       "LogisticRegression(C=100)"
      ]
     },
     "execution_count": 48,
     "metadata": {},
     "output_type": "execute_result"
    }
   ],
   "source": [
    "lreg = LogisticRegression(C=100)\n",
    "lreg.fit(X_train, y_train)"
   ]
  },
  {
   "cell_type": "code",
   "execution_count": 49,
   "id": "2c991cb9-f76a-494e-8c6e-be7582ff5482",
   "metadata": {},
   "outputs": [
    {
     "name": "stdout",
     "output_type": "stream",
     "text": [
      "+---------------+------------+------------+---------------+---------------+----------------+----------------+\n",
      "| Test Accuracy |  Test F1   |  Test AUC  | True Positive | True Negative | False Positive | False Negative |\n",
      "+---------------+------------+------------+---------------+---------------+----------------+----------------+\n",
      "|   0.95432057  | 0.93248752 | 0.74023914 |       5       |     25650     |       8        |      1220      |\n",
      "+---------------+------------+------------+---------------+---------------+----------------+----------------+\n"
     ]
    }
   ],
   "source": [
    "model_metrics.model_stats(lreg, \"Logistic Regression\", plot_auc=False)"
   ]
  },
  {
   "cell_type": "markdown",
   "id": "3dca4678-6fb0-48b9-99c3-1e29eca94e0d",
   "metadata": {},
   "source": [
    "## MLP"
   ]
  },
  {
   "cell_type": "code",
   "execution_count": 51,
   "id": "d6b1a316-5311-4975-b38d-ec82bc2ccb59",
   "metadata": {},
   "outputs": [
    {
     "data": {
      "text/plain": [
       "<torch._C.Generator at 0x32405c3d0>"
      ]
     },
     "execution_count": 51,
     "metadata": {},
     "output_type": "execute_result"
    }
   ],
   "source": [
    "import os\n",
    "import math\n",
    "import warnings\n",
    "from tqdm import tqdm\n",
    "\n",
    "import torch\n",
    "import torch.nn as nn\n",
    "import torch.optim as optim\n",
    "import torch.nn.functional as F\n",
    "from torch.utils.data import Dataset\n",
    "\n",
    "warnings.filterwarnings(\"ignore\")\n",
    "torch.manual_seed(0)"
   ]
  },
  {
   "cell_type": "code",
   "execution_count": 52,
   "id": "5706707e-e86f-495d-a724-0332811107da",
   "metadata": {},
   "outputs": [],
   "source": [
    "import torch\n",
    "import numpy as np\n",
    "from torch.utils.data import Dataset, DataLoader\n",
    "\n",
    "\n",
    "# Define a custom dataset class named CDataset\n",
    "class CDataset(Dataset):\n",
    "    def __init__(self, x, y):\n",
    "        \"\"\"\n",
    "        Initialize a custom dataset.\n",
    "\n",
    "        Parameters:\n",
    "            - x (numpy.ndarray): Input features.\n",
    "            - y (numpy.ndarray): Target labels.\n",
    "        \"\"\"\n",
    "        self.x = x\n",
    "        self.y = y\n",
    "\n",
    "    def __len__(self):\n",
    "        \"\"\"\n",
    "        Get the number of samples in the dataset.\n",
    "\n",
    "        Returns:\n",
    "            - int: The number of samples.\n",
    "        \"\"\"\n",
    "        return len(self.x)\n",
    "\n",
    "    def __getitem__(self, idx):\n",
    "        \"\"\"\n",
    "        Get a single sample from the dataset.\n",
    "\n",
    "        Parameters:\n",
    "            - idx (int): Index of the sample to retrieve.\n",
    "\n",
    "        Returns:\n",
    "            - torch.Tensor: The input features as a torch tensor.\n",
    "            - torch.Tensor: The target label as a torch tensor.\n",
    "        \"\"\"\n",
    "        features = self.x[idx]\n",
    "        target = self.y[idx]\n",
    "\n",
    "        return torch.tensor(features, dtype=torch.float32), torch.LongTensor([target]).squeeze(-1)\n",
    "\n",
    "\n",
    "# Define batch size\n",
    "BATCH_SIZE = 64\n",
    "\n",
    "# Create CDataset instances for training and testing\n",
    "cdata_train = CDataset(X_train, np.array(y_train))\n",
    "cdata_test = CDataset(X_test, np.array(y_test))\n",
    "\n",
    "# Create DataLoader for training data\n",
    "train_dataloader_args = dict(shuffle=True, batch_size=BATCH_SIZE, num_workers=0)\n",
    "trainloader = DataLoader(cdata_train, pin_memory=True, **train_dataloader_args)\n",
    "\n",
    "# Create DataLoader for testing data\n",
    "test_dataloader_args = dict(shuffle=False, batch_size=5000, num_workers=0)\n",
    "testloader = DataLoader(cdata_test, pin_memory=True, **test_dataloader_args)"
   ]
  },
  {
   "cell_type": "code",
   "execution_count": 53,
   "id": "8d88f2ef-15bb-4a22-8aea-38c060ae0472",
   "metadata": {},
   "outputs": [
    {
     "data": {
      "text/plain": [
       "65"
      ]
     },
     "execution_count": 53,
     "metadata": {},
     "output_type": "execute_result"
    }
   ],
   "source": [
    "len(cdata_train[0][0])"
   ]
  },
  {
   "cell_type": "code",
   "execution_count": 54,
   "id": "092dccaa-43f0-4835-a68c-7a0365169f6d",
   "metadata": {},
   "outputs": [],
   "source": [
    "import torch\n",
    "import torch.nn as nn\n",
    "import numpy as np\n",
    "\n",
    "\n",
    "class FeedForwardNet(nn.Module):\n",
    "    def __init__(self, ndimension, ntarget, device, dropout=0.1):\n",
    "        \"\"\"\n",
    "        Initializes a FeedForwardNet instance.\n",
    "\n",
    "        Parameters:\n",
    "            - ndimension (int): The input dimension of the neural network.\n",
    "            - ntarget (int): The output dimension of the neural network.\n",
    "            - device (torch.device): The device (CPU or GPU or mps) on which the model will be run.\n",
    "            - dropout (float): Dropout probability for the network's dropout layers (default is 0.1).\n",
    "        \"\"\"\n",
    "        super().__init__()\n",
    "\n",
    "        # Create the layers of the neural network\n",
    "        layer1 = self._get_layer(ndimension, 128, dropout)\n",
    "        layer2 = self._get_layer(128, 64, dropout)\n",
    "        layer3 = nn.Linear(64, ntarget, bias=False)\n",
    "\n",
    "        # Define the neural network as a sequence of layers\n",
    "        self.layer = nn.Sequential(*[layer1, layer2, layer3])\n",
    "        self.device = device\n",
    "\n",
    "    def _get_layer(self, in_dim, out_dim, dropout=0.1):\n",
    "        \"\"\"\n",
    "        Creates a single layer of the neural network, consisting of a linear layer, \n",
    "        ReLU activation, LayerNorm and dropout.\n",
    "\n",
    "        Parameters:\n",
    "            - in_dim (int): The input dimension of the layer.\n",
    "            - out_dim (int): The output dimension of the layer.\n",
    "            - dropout (float): Dropout probability for the layer (default is 0.1).\n",
    "\n",
    "        Returns:\n",
    "            - nn.Sequential: A sequential container for the layer components.\n",
    "        \"\"\"\n",
    "        return nn.Sequential(\n",
    "            nn.Linear(in_dim, out_dim, bias=False),\n",
    "            nn.BatchNorm1d(out_dim),\n",
    "            nn.ReLU(),\n",
    "            nn.Dropout(dropout),\n",
    "        )\n",
    "\n",
    "    def forward(self, input_vec):\n",
    "        \"\"\"\n",
    "        Forward pass of the neural network.\n",
    "\n",
    "        Parameters:\n",
    "            - input_vec (torch.Tensor): The input data tensor.\n",
    "\n",
    "        Returns:\n",
    "            - torch.Tensor: The output tensor produced by the network.\n",
    "        \"\"\"\n",
    "        return self.layer(input_vec)\n",
    "\n",
    "    def predict(self, input_vec: np.array, proba=False):\n",
    "        \"\"\"\n",
    "        Make predictions using the neural network.\n",
    "\n",
    "        Parameters:\n",
    "            - input_vec (np.array): Input data for making predictions.\n",
    "            - proba (bool): If True, return class probabilities; otherwise, return class labels (default is False).\n",
    "\n",
    "        Returns:\n",
    "            - np.array: Predicted class labels or class probabilities.\n",
    "        \"\"\"\n",
    "        self.eval()\n",
    "\n",
    "        batch_size = 500\n",
    "        num_batches = len(input_vec) // batch_size + int(\n",
    "            len(input_vec) % batch_size > 0\n",
    "        )\n",
    "        batches = np.array_split(input_vec, num_batches, axis=0)\n",
    "\n",
    "        prediction = []\n",
    "\n",
    "        with torch.no_grad():\n",
    "            for i, src in enumerate(batches):\n",
    "                src = torch.tensor(src, dtype=torch.float32).to(self.device)\n",
    "\n",
    "                output = self(src.float())\n",
    "\n",
    "                if proba:\n",
    "                    prediction.extend(torch.softmax(output, dim=-1).tolist())\n",
    "                else:\n",
    "                    prediction.extend(output.argmax(-1).tolist())\n",
    "\n",
    "        return np.array(prediction)\n",
    "\n",
    "    def predict_proba(self, input_vec: np.array):\n",
    "        \"\"\"\n",
    "        Make probability predictions using the neural network.\n",
    "\n",
    "        Parameters:\n",
    "            - input_vec (np.array): Input data for making probability predictions.\n",
    "\n",
    "        Returns:\n",
    "            - np.array: Predicted class probabilities.\n",
    "        \"\"\"\n",
    "        return self.predict(input_vec, proba=True)"
   ]
  },
  {
   "cell_type": "code",
   "execution_count": 55,
   "id": "6dde7e6d-8408-4354-a4dc-20ef0dc0a9a9",
   "metadata": {},
   "outputs": [],
   "source": [
    "device = torch.device(\"mps\")\n",
    "model = FeedForwardNet(\n",
    "    ndimension=len(cdata_train[0][0]), ntarget=2, dropout=0.1, device=device\n",
    ").to(device)"
   ]
  },
  {
   "cell_type": "code",
   "execution_count": 56,
   "id": "d2202ba3-03a1-42c5-a415-7d4f0871d959",
   "metadata": {},
   "outputs": [],
   "source": [
    "from torch import optim\n",
    "\n",
    "optimizer = optim.Adam(model.parameters(), lr=0.001)\n",
    "criterion = nn.CrossEntropyLoss()"
   ]
  },
  {
   "cell_type": "code",
   "execution_count": 57,
   "id": "6531207c-eb56-4a34-8925-5f0ffbe52e29",
   "metadata": {},
   "outputs": [],
   "source": [
    "from tqdm import tqdm\n",
    "\n",
    "\n",
    "def train(epoch, model, device, trainloader, optimizer, scheduler):\n",
    "    \"\"\"\n",
    "    Train the neural network model for one epoch.\n",
    "\n",
    "    Parameters:\n",
    "        - epoch (int): The current epoch number.\n",
    "        - model (nn.Module): The neural network model to be trained.\n",
    "        - device (torch.device): The device (CPU or GPU or mps) to run the training on.\n",
    "        - trainloader (DataLoader): DataLoader for training data.\n",
    "        - optimizer (torch.optim.Optimizer): The optimizer for updating model parameters.\n",
    "    \"\"\"\n",
    "    model.train()\n",
    "\n",
    "    running_loss = 0\n",
    "    running_accuracy = 0\n",
    "\n",
    "    correct = 0\n",
    "    processed = 0\n",
    "    pbar = tqdm(trainloader)\n",
    "\n",
    "    for i, (src, trg) in enumerate(pbar, 0):\n",
    "        src, trg = src.to(device), trg.to(device)\n",
    "\n",
    "        optimizer.zero_grad()\n",
    "        output = model(src.float())\n",
    "\n",
    "        loss = criterion(output, trg)\n",
    "        loss.backward()\n",
    "\n",
    "        optimizer.step()\n",
    "        scheduler.step()\n",
    "\n",
    "        pred = output.argmax(-1)\n",
    "        correct += pred.eq(trg.view_as(pred)).sum().item()\n",
    "        processed += len(pred)\n",
    "\n",
    "        running_loss += loss.item()\n",
    "        \n",
    "\n",
    "    # Print training statistics for the epoch\n",
    "    print(\n",
    "        f\"Train Epoch - {epoch + 1}, Mini Batch - {i + 1}, \"\n",
    "        f\"Train Loss - {round(running_loss / (i+1), 4)}, \"\n",
    "        f\"Train Accuracy - {round(100 * correct / processed, 4)}\"\n",
    "    )\n",
    "    return running_loss / len(trainloader)"
   ]
  },
  {
   "cell_type": "code",
   "execution_count": 58,
   "id": "c16d266b-da11-4e7f-b6ca-180c4a39ca8c",
   "metadata": {},
   "outputs": [],
   "source": [
    "def test(model, device, testloader):\n",
    "    \"\"\"\n",
    "    Evaluate the neural network model on the test data.\n",
    "\n",
    "    Parameters:\n",
    "        - model: The trained neural network model.\n",
    "        - device (torch.device): The device (CPU or GPU or mps) to run the evaluation on.\n",
    "        - testloader (DataLoader): DataLoader for test data.\n",
    "\n",
    "    Returns:\n",
    "        - None\n",
    "    \"\"\"\n",
    "    model.eval()\n",
    "\n",
    "    iterator = 0\n",
    "    test_loss = 0\n",
    "    correct = 0\n",
    "    processed = 0\n",
    "    pbar = tqdm(testloader, disable=True)\n",
    "\n",
    "    with torch.no_grad():\n",
    "        for i, (src, trg) in enumerate(pbar, 0):\n",
    "            src, trg = src.to(device), trg.to(device)\n",
    "\n",
    "            output = model(src.float())\n",
    "\n",
    "            loss = criterion(output, trg)\n",
    "            test_loss += loss.item()\n",
    "\n",
    "            pred = output.argmax(-1)\n",
    "            correct += pred.eq(trg.view_as(pred)).sum().item()\n",
    "            processed += len(pred)\n",
    "\n",
    "        print(\n",
    "            f\"Test Loss - {round(test_loss / (i+1), 4)}, \",\n",
    "            f\"Test Accuracy - {round(100 * correct / processed, 4)}\",\n",
    "        )\n",
    "        return test_loss / len(testloader)"
   ]
  },
  {
   "cell_type": "code",
   "execution_count": 59,
   "id": "83ead43f-9efb-4264-bae2-5455484ae26b",
   "metadata": {},
   "outputs": [
    {
     "name": "stderr",
     "output_type": "stream",
     "text": [
      "100%|████████████████████████████████████████████████████████████| 100/100 [00:00<00:00, 130.43it/s]\n"
     ]
    },
    {
     "name": "stdout",
     "output_type": "stream",
     "text": [
      "Learning rate search finished. See the graph with {finder_name}.plot()\n",
      "LR suggestion: steepest gradient\n",
      "Suggested LR: 2.92E-03\n"
     ]
    },
    {
     "data": {
      "image/png": "[encoded data removed]",
      "text/plain": [
       "<Figure size 640x480 with 1 Axes>"
      ]
     },
     "metadata": {},
     "output_type": "display_data"
    }
   ],
   "source": [
    "from torch_lr_finder import LRFinder\n",
    "\n",
    "EPOCHS = 10\n",
    "\n",
    "def find_lr():\n",
    "    lr_finder = LRFinder(model, optimizer, criterion, device=device)\n",
    "    lr_finder.range_test(trainloader, end_lr=0.1, num_iter=100, step_mode='exp')\n",
    "    \n",
    "    _, best_lr = lr_finder.plot()\n",
    "    lr_finder.reset()\n",
    "    \n",
    "    return best_lr \n",
    "\n",
    "\n",
    "scheduler = optim.lr_scheduler.OneCycleLR(\n",
    "            optimizer,\n",
    "            max_lr=find_lr(),\n",
    "            steps_per_epoch=len(trainloader),\n",
    "            epochs=EPOCHS,\n",
    "            pct_start=5 / EPOCHS,\n",
    "            div_factor=100,\n",
    "            three_phase=False,\n",
    "            final_div_factor=100,\n",
    "            anneal_strategy='linear'\n",
    "        )"
   ]
  },
  {
   "cell_type": "code",
   "execution_count": 60,
   "id": "f63d7eec-f288-4cd4-8665-5ad224202321",
   "metadata": {},
   "outputs": [
    {
     "name": "stderr",
     "output_type": "stream",
     "text": [
      "100%|██████████████████████████████████████████████████████████| 5003/5003 [00:27<00:00, 178.81it/s]\n"
     ]
    },
    {
     "name": "stdout",
     "output_type": "stream",
     "text": [
      "Train Epoch - 1, Mini Batch - 5003, Train Loss - 0.2185, Train Accuracy - 92.4281\n",
      "Test Loss - 0.1025,  Test Accuracy - 96.6187\n"
     ]
    },
    {
     "name": "stderr",
     "output_type": "stream",
     "text": [
      "100%|██████████████████████████████████████████████████████████| 5003/5003 [00:28<00:00, 178.29it/s]\n"
     ]
    },
    {
     "name": "stdout",
     "output_type": "stream",
     "text": [
      "Train Epoch - 2, Mini Batch - 5003, Train Loss - 0.1431, Train Accuracy - 95.0136\n",
      "Test Loss - 0.1143,  Test Accuracy - 97.132\n"
     ]
    },
    {
     "name": "stderr",
     "output_type": "stream",
     "text": [
      "100%|██████████████████████████████████████████████████████████| 5003/5003 [00:28<00:00, 178.15it/s]\n"
     ]
    },
    {
     "name": "stdout",
     "output_type": "stream",
     "text": [
      "Train Epoch - 3, Mini Batch - 5003, Train Loss - 0.1353, Train Accuracy - 95.2354\n",
      "Test Loss - 0.0857,  Test Accuracy - 96.5703\n"
     ]
    },
    {
     "name": "stderr",
     "output_type": "stream",
     "text": [
      "100%|██████████████████████████████████████████████████████████| 5003/5003 [00:27<00:00, 179.54it/s]\n"
     ]
    },
    {
     "name": "stdout",
     "output_type": "stream",
     "text": [
      "Train Epoch - 4, Mini Batch - 5003, Train Loss - 0.13, Train Accuracy - 95.4402\n",
      "Test Loss - 0.085,  Test Accuracy - 96.1314\n"
     ]
    },
    {
     "name": "stderr",
     "output_type": "stream",
     "text": [
      "100%|██████████████████████████████████████████████████████████| 5003/5003 [00:27<00:00, 179.15it/s]\n"
     ]
    },
    {
     "name": "stdout",
     "output_type": "stream",
     "text": [
      "Train Epoch - 5, Mini Batch - 5003, Train Loss - 0.1249, Train Accuracy - 95.6342\n",
      "Test Loss - 0.0958,  Test Accuracy - 96.5629\n"
     ]
    },
    {
     "name": "stderr",
     "output_type": "stream",
     "text": [
      "100%|██████████████████████████████████████████████████████████| 5003/5003 [00:28<00:00, 178.57it/s]\n"
     ]
    },
    {
     "name": "stdout",
     "output_type": "stream",
     "text": [
      "Train Epoch - 6, Mini Batch - 5003, Train Loss - 0.1171, Train Accuracy - 95.8894\n",
      "Test Loss - 0.092,  Test Accuracy - 97.0093\n"
     ]
    },
    {
     "name": "stderr",
     "output_type": "stream",
     "text": [
      "100%|██████████████████████████████████████████████████████████| 5003/5003 [00:27<00:00, 178.70it/s]\n"
     ]
    },
    {
     "name": "stdout",
     "output_type": "stream",
     "text": [
      "Train Epoch - 7, Mini Batch - 5003, Train Loss - 0.1066, Train Accuracy - 96.2889\n",
      "Test Loss - 0.0694,  Test Accuracy - 97.2622\n"
     ]
    },
    {
     "name": "stderr",
     "output_type": "stream",
     "text": [
      "100%|██████████████████████████████████████████████████████████| 5003/5003 [00:28<00:00, 178.03it/s]\n"
     ]
    },
    {
     "name": "stdout",
     "output_type": "stream",
     "text": [
      "Train Epoch - 8, Mini Batch - 5003, Train Loss - 0.0985, Train Accuracy - 96.6021\n",
      "Test Loss - 0.0734,  Test Accuracy - 97.0018\n"
     ]
    },
    {
     "name": "stderr",
     "output_type": "stream",
     "text": [
      "100%|██████████████████████████████████████████████████████████| 5003/5003 [00:28<00:00, 178.14it/s]\n"
     ]
    },
    {
     "name": "stdout",
     "output_type": "stream",
     "text": [
      "Train Epoch - 9, Mini Batch - 5003, Train Loss - 0.0918, Train Accuracy - 96.8576\n",
      "Test Loss - 0.0679,  Test Accuracy - 97.8499\n"
     ]
    },
    {
     "name": "stderr",
     "output_type": "stream",
     "text": [
      "100%|██████████████████████████████████████████████████████████| 5003/5003 [00:28<00:00, 177.82it/s]\n"
     ]
    },
    {
     "name": "stdout",
     "output_type": "stream",
     "text": [
      "Train Epoch - 10, Mini Batch - 5003, Train Loss - 0.0843, Train Accuracy - 97.1381\n",
      "Test Loss - 0.0596,  Test Accuracy - 98.0471\n"
     ]
    }
   ],
   "source": [
    "for epoch in range(EPOCHS):\n",
    "    train_loss = train(epoch, model, device, trainloader, optimizer, scheduler)\n",
    "    test_loss = test(model, device, testloader)"
   ]
  },
  {
   "cell_type": "code",
   "execution_count": 61,
   "id": "e3d11c2c-4f15-48ed-b7f3-2a144d5b8b3f",
   "metadata": {},
   "outputs": [
    {
     "name": "stdout",
     "output_type": "stream",
     "text": [
      "+---------------+-----------+------------+---------------+---------------+----------------+----------------+\n",
      "| Test Accuracy |  Test F1  |  Test AUC  | True Positive | True Negative | False Positive | False Negative |\n",
      "+---------------+-----------+------------+---------------+---------------+----------------+----------------+\n",
      "|   0.98047093  | 0.9797707 | 0.97517542 |      877      |     25481     |      177       |      348       |\n",
      "+---------------+-----------+------------+---------------+---------------+----------------+----------------+\n"
     ]
    }
   ],
   "source": [
    "model_metrics.model_stats(model, \"MLP\", plot_auc=False)"
   ]
  },
  {
   "cell_type": "markdown",
   "id": "8dae2b93-35e3-4827-9c4c-2efda5fa5574",
   "metadata": {},
   "source": [
    "## Ensemble"
   ]
  },
  {
   "cell_type": "code",
   "execution_count": 67,
   "id": "43deab67-aa81-48cd-9b57-7cb025b51502",
   "metadata": {},
   "outputs": [],
   "source": [
    "from typing import List\n",
    "from scipy import stats\n",
    "\n",
    "\n",
    "class Ensemble:\n",
    "    def __init__(self, models: List):\n",
    "        \"\"\"\n",
    "        Initialize an ensemble of models.\n",
    "\n",
    "        Parameters:\n",
    "            - models (List): A list of models to be used in the ensemble.\n",
    "        \"\"\"\n",
    "        self.models = models\n",
    "\n",
    "    def predict(self, X_test, mode=\"max\"):\n",
    "        \"\"\"\n",
    "        Make predictions on input data using the ensemble.\n",
    "\n",
    "        Parameters:\n",
    "            - X_test: The input data to be used for making predictions.\n",
    "\n",
    "        Returns:\n",
    "            - np.ndarray: The ensemble predictions for the input data.\n",
    "        \"\"\"\n",
    "        # Make predictions with each model and stack them vertically\n",
    "        ensemble_predictions = np.vstack(\n",
    "            [model.predict(X_test) for model in self.models]\n",
    "        ).T\n",
    "\n",
    "        # Use the mode function to determine the most common prediction for each sample\n",
    "        if mode == \"mode\":\n",
    "            ensemble_predictions, _ = stats.mode(ensemble_predictions, axis=1)\n",
    "        else:\n",
    "            ensemble_predictions = np.max(ensemble_predictions, axis=1)\n",
    "        return ensemble_predictions\n",
    "\n",
    "    def predict_proba(self, X_test):\n",
    "        \"\"\"\n",
    "        Compute class probabilities for input data using the ensemble.\n",
    "\n",
    "        Parameters:\n",
    "            - X_test: The input data for which class probabilities will be computed.\n",
    "\n",
    "        Returns:\n",
    "            - np.ndarray: The ensemble's class probability estimates for the input data.\n",
    "        \"\"\"\n",
    "        # Calculate class probabilities for each model and compute the mean\n",
    "        return np.mean([model.predict_proba(X_test) for model in self.models], axis=0)"
   ]
  },
  {
   "cell_type": "code",
   "execution_count": 68,
   "id": "d0f2bc7e-c926-4718-97cc-0e6223fe3f1b",
   "metadata": {},
   "outputs": [],
   "source": [
    "ensemble = Ensemble([x_clf, rf, model])"
   ]
  },
  {
   "cell_type": "code",
   "execution_count": 69,
   "id": "29165f3b-0d79-4be8-9e66-faa1116698e2",
   "metadata": {},
   "outputs": [
    {
     "name": "stdout",
     "output_type": "stream",
     "text": [
      "+---------------+-----------+-----------+---------------+---------------+----------------+----------------+\n",
      "| Test Accuracy |  Test F1  |  Test AUC | True Positive | True Negative | False Positive | False Negative |\n",
      "+---------------+-----------+-----------+---------------+---------------+----------------+----------------+\n",
      "|   0.98225644  | 0.9824153 | 0.9796579 |      1010     |     25396     |      262       |      215       |\n",
      "+---------------+-----------+-----------+---------------+---------------+----------------+----------------+\n"
     ]
    }
   ],
   "source": [
    "model_metrics.model_stats(ensemble, \"Ensemble\", plot_auc=False)"
   ]
  },
  {
   "cell_type": "markdown",
   "id": "a73f6670-5e89-4656-a221-666d057b5689",
   "metadata": {},
   "source": [
    "# Conclusion\n",
    "__________"
   ]
  },
  {
   "cell_type": "code",
   "execution_count": 70,
   "id": "909d3281-12f6-4669-8f62-8ca32fcef547",
   "metadata": {},
   "outputs": [
    {
     "data": {
      "text/html": [
       "<div>\n",
       "<style scoped>\n",
       "    .dataframe tbody tr th:only-of-type {\n",
       "        vertical-align: middle;\n",
       "    }\n",
       "\n",
       "    .dataframe tbody tr th {\n",
       "        vertical-align: top;\n",
       "    }\n",
       "\n",
       "    .dataframe thead th {\n",
       "        text-align: right;\n",
       "    }\n",
       "</style>\n",
       "<table border=\"1\" class=\"dataframe\">\n",
       "  <thead>\n",
       "    <tr style=\"text-align: right;\">\n",
       "      <th></th>\n",
       "      <th>Model Name</th>\n",
       "      <th>Test Accuracy</th>\n",
       "      <th>Test F1</th>\n",
       "      <th>Test AUC</th>\n",
       "      <th>True Positive</th>\n",
       "      <th>True Negative</th>\n",
       "      <th>False Positive</th>\n",
       "      <th>False Negative</th>\n",
       "    </tr>\n",
       "  </thead>\n",
       "  <tbody>\n",
       "    <tr>\n",
       "      <th>2</th>\n",
       "      <td>Logistic Regression</td>\n",
       "      <td>95.43 %</td>\n",
       "      <td>0.93249</td>\n",
       "      <td>0.74024</td>\n",
       "      <td>5</td>\n",
       "      <td>25650</td>\n",
       "      <td>8</td>\n",
       "      <td>1220</td>\n",
       "    </tr>\n",
       "    <tr>\n",
       "      <th>0</th>\n",
       "      <td>XGBoost</td>\n",
       "      <td>97.73 %</td>\n",
       "      <td>0.97497</td>\n",
       "      <td>0.95564</td>\n",
       "      <td>701</td>\n",
       "      <td>25573</td>\n",
       "      <td>85</td>\n",
       "      <td>524</td>\n",
       "    </tr>\n",
       "    <tr>\n",
       "      <th>3</th>\n",
       "      <td>MLP</td>\n",
       "      <td>98.05 %</td>\n",
       "      <td>0.97977</td>\n",
       "      <td>0.97518</td>\n",
       "      <td>877</td>\n",
       "      <td>25481</td>\n",
       "      <td>177</td>\n",
       "      <td>348</td>\n",
       "    </tr>\n",
       "    <tr>\n",
       "      <th>1</th>\n",
       "      <td>Random Forest</td>\n",
       "      <td>98.08 %</td>\n",
       "      <td>0.98003</td>\n",
       "      <td>0.97002</td>\n",
       "      <td>871</td>\n",
       "      <td>25496</td>\n",
       "      <td>162</td>\n",
       "      <td>354</td>\n",
       "    </tr>\n",
       "    <tr>\n",
       "      <th>4</th>\n",
       "      <td>Ensemble</td>\n",
       "      <td>98.23 %</td>\n",
       "      <td>0.98242</td>\n",
       "      <td>0.97966</td>\n",
       "      <td>1010</td>\n",
       "      <td>25396</td>\n",
       "      <td>262</td>\n",
       "      <td>215</td>\n",
       "    </tr>\n",
       "  </tbody>\n",
       "</table>\n",
       "</div>"
      ],
      "text/plain": [
       "            Model Name Test Accuracy  Test F1  Test AUC  True Positive  \\\n",
       "2  Logistic Regression       95.43 %  0.93249   0.74024              5   \n",
       "0              XGBoost       97.73 %  0.97497   0.95564            701   \n",
       "3                  MLP       98.05 %  0.97977   0.97518            877   \n",
       "1        Random Forest       98.08 %  0.98003   0.97002            871   \n",
       "4             Ensemble       98.23 %  0.98242   0.97966           1010   \n",
       "\n",
       "   True Negative  False Positive  False Negative  \n",
       "2          25650               8            1220  \n",
       "0          25573              85             524  \n",
       "3          25481             177             348  \n",
       "1          25496             162             354  \n",
       "4          25396             262             215  "
      ]
     },
     "execution_count": 70,
     "metadata": {},
     "output_type": "execute_result"
    }
   ],
   "source": [
    "columns = [\"Model Name\"] + list(list(model_metrics.results.values())[0].keys())\n",
    "output = []\n",
    "\n",
    "for model_name, values in model_metrics.results.items():\n",
    "    output.append(\n",
    "        [model_name]\n",
    "        + list(\n",
    "            [\n",
    "                f\"{str(round(value * 100, 2))} %\" if idx == 0 else round(value, 5)\n",
    "                for idx, value in enumerate(values.values())\n",
    "            ]\n",
    "        )\n",
    "    )\n",
    "\n",
    "output = pd.DataFrame(data=output, columns=columns)\n",
    "output.sort_values(by=[\"Test F1\"], ascending=True, inplace=True)\n",
    "output"
   ]
  },
  {
   "cell_type": "markdown",
   "id": "80c695ed-34ae-4986-8cd0-8964c294bc34",
   "metadata": {},
   "source": [
    "## Remarks\n",
    "__________\n",
    "\n",
    "Since the problem at hand is Fraud Detection, we would want to keep False Positives in check.\n",
    "\n",
    "The True Positives should be fairly high for the model to qualify and the False Positives should be low for the model to be practically useful.\n",
    "\n",
    "* We can see Logistic Regression fails all metrics\n",
    "* XGBoost, Random Forest, MLP perform very well\n",
    "* Ensemble using the three best performing models also performs well and has the **best F1 Score** of 98.24\n",
    "* The ratio of True Positives to False Positives indicates practical utility\n",
    "\n",
    "Overall, Ensemble seems to be the best solution for our problem."
   ]
  }
 ],
 "metadata": {
  "kernelspec": {
   "display_name": "venv",
   "language": "python",
   "name": "venv"
  },
  "language_info": {
   "codemirror_mode": {
    "name": "ipython",
    "version": 3
   },
   "file_extension": ".py",
   "mimetype": "text/x-python",
   "name": "python",
   "nbconvert_exporter": "python",
   "pygments_lexer": "ipython3",
   "version": "3.11.5"
  }
 },
 "nbformat": 4,
 "nbformat_minor": 5
}
