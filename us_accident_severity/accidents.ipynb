{
 "cells": [
  {
   "cell_type": "code",
   "execution_count": 1,
   "id": "36175f0b-011d-4060-be82-dceb5ef364e7",
   "metadata": {},
   "outputs": [],
   "source": [
    "import pandas as pd\n",
    "import numpy as np\n",
    "import matplotlib.pyplot as plt\n",
    "import seaborn as sns\n",
    "import plotly.graph_objs as go"
   ]
  },
  {
   "cell_type": "code",
   "execution_count": 2,
   "id": "d0b80f0a-b94b-4f42-a067-4be69f478295",
   "metadata": {},
   "outputs": [
    {
     "data": {
      "text/html": [
       "<div>\n",
       "<style scoped>\n",
       "    .dataframe tbody tr th:only-of-type {\n",
       "        vertical-align: middle;\n",
       "    }\n",
       "\n",
       "    .dataframe tbody tr th {\n",
       "        vertical-align: top;\n",
       "    }\n",
       "\n",
       "    .dataframe thead th {\n",
       "        text-align: right;\n",
       "    }\n",
       "</style>\n",
       "<table border=\"1\" class=\"dataframe\">\n",
       "  <thead>\n",
       "    <tr style=\"text-align: right;\">\n",
       "      <th></th>\n",
       "      <th>ID</th>\n",
       "      <th>Source</th>\n",
       "      <th>TMC</th>\n",
       "      <th>Severity</th>\n",
       "      <th>Start_Time</th>\n",
       "      <th>End_Time</th>\n",
       "      <th>Start_Lat</th>\n",
       "      <th>Start_Lng</th>\n",
       "      <th>End_Lat</th>\n",
       "      <th>End_Lng</th>\n",
       "      <th>...</th>\n",
       "      <th>Roundabout</th>\n",
       "      <th>Station</th>\n",
       "      <th>Stop</th>\n",
       "      <th>Traffic_Calming</th>\n",
       "      <th>Traffic_Signal</th>\n",
       "      <th>Turning_Loop</th>\n",
       "      <th>Sunrise_Sunset</th>\n",
       "      <th>Civil_Twilight</th>\n",
       "      <th>Nautical_Twilight</th>\n",
       "      <th>Astronomical_Twilight</th>\n",
       "    </tr>\n",
       "  </thead>\n",
       "  <tbody>\n",
       "    <tr>\n",
       "      <th>0</th>\n",
       "      <td>A-1</td>\n",
       "      <td>MapQuest</td>\n",
       "      <td>201.0</td>\n",
       "      <td>3</td>\n",
       "      <td>2016-02-08 05:46:00</td>\n",
       "      <td>2016-02-08 11:00:00</td>\n",
       "      <td>39.865147</td>\n",
       "      <td>-84.058723</td>\n",
       "      <td>NaN</td>\n",
       "      <td>NaN</td>\n",
       "      <td>...</td>\n",
       "      <td>False</td>\n",
       "      <td>False</td>\n",
       "      <td>False</td>\n",
       "      <td>False</td>\n",
       "      <td>False</td>\n",
       "      <td>False</td>\n",
       "      <td>Night</td>\n",
       "      <td>Night</td>\n",
       "      <td>Night</td>\n",
       "      <td>Night</td>\n",
       "    </tr>\n",
       "    <tr>\n",
       "      <th>1</th>\n",
       "      <td>A-2</td>\n",
       "      <td>MapQuest</td>\n",
       "      <td>201.0</td>\n",
       "      <td>2</td>\n",
       "      <td>2016-02-08 06:07:59</td>\n",
       "      <td>2016-02-08 06:37:59</td>\n",
       "      <td>39.928059</td>\n",
       "      <td>-82.831184</td>\n",
       "      <td>NaN</td>\n",
       "      <td>NaN</td>\n",
       "      <td>...</td>\n",
       "      <td>False</td>\n",
       "      <td>False</td>\n",
       "      <td>False</td>\n",
       "      <td>False</td>\n",
       "      <td>False</td>\n",
       "      <td>False</td>\n",
       "      <td>Night</td>\n",
       "      <td>Night</td>\n",
       "      <td>Night</td>\n",
       "      <td>Day</td>\n",
       "    </tr>\n",
       "    <tr>\n",
       "      <th>2</th>\n",
       "      <td>A-3</td>\n",
       "      <td>MapQuest</td>\n",
       "      <td>201.0</td>\n",
       "      <td>2</td>\n",
       "      <td>2016-02-08 06:49:27</td>\n",
       "      <td>2016-02-08 07:19:27</td>\n",
       "      <td>39.063148</td>\n",
       "      <td>-84.032608</td>\n",
       "      <td>NaN</td>\n",
       "      <td>NaN</td>\n",
       "      <td>...</td>\n",
       "      <td>False</td>\n",
       "      <td>False</td>\n",
       "      <td>False</td>\n",
       "      <td>False</td>\n",
       "      <td>True</td>\n",
       "      <td>False</td>\n",
       "      <td>Night</td>\n",
       "      <td>Night</td>\n",
       "      <td>Day</td>\n",
       "      <td>Day</td>\n",
       "    </tr>\n",
       "    <tr>\n",
       "      <th>3</th>\n",
       "      <td>A-4</td>\n",
       "      <td>MapQuest</td>\n",
       "      <td>201.0</td>\n",
       "      <td>3</td>\n",
       "      <td>2016-02-08 07:23:34</td>\n",
       "      <td>2016-02-08 07:53:34</td>\n",
       "      <td>39.747753</td>\n",
       "      <td>-84.205582</td>\n",
       "      <td>NaN</td>\n",
       "      <td>NaN</td>\n",
       "      <td>...</td>\n",
       "      <td>False</td>\n",
       "      <td>False</td>\n",
       "      <td>False</td>\n",
       "      <td>False</td>\n",
       "      <td>False</td>\n",
       "      <td>False</td>\n",
       "      <td>Night</td>\n",
       "      <td>Day</td>\n",
       "      <td>Day</td>\n",
       "      <td>Day</td>\n",
       "    </tr>\n",
       "    <tr>\n",
       "      <th>4</th>\n",
       "      <td>A-5</td>\n",
       "      <td>MapQuest</td>\n",
       "      <td>201.0</td>\n",
       "      <td>2</td>\n",
       "      <td>2016-02-08 07:39:07</td>\n",
       "      <td>2016-02-08 08:09:07</td>\n",
       "      <td>39.627781</td>\n",
       "      <td>-84.188354</td>\n",
       "      <td>NaN</td>\n",
       "      <td>NaN</td>\n",
       "      <td>...</td>\n",
       "      <td>False</td>\n",
       "      <td>False</td>\n",
       "      <td>False</td>\n",
       "      <td>False</td>\n",
       "      <td>True</td>\n",
       "      <td>False</td>\n",
       "      <td>Day</td>\n",
       "      <td>Day</td>\n",
       "      <td>Day</td>\n",
       "      <td>Day</td>\n",
       "    </tr>\n",
       "    <tr>\n",
       "      <th>...</th>\n",
       "      <td>...</td>\n",
       "      <td>...</td>\n",
       "      <td>...</td>\n",
       "      <td>...</td>\n",
       "      <td>...</td>\n",
       "      <td>...</td>\n",
       "      <td>...</td>\n",
       "      <td>...</td>\n",
       "      <td>...</td>\n",
       "      <td>...</td>\n",
       "      <td>...</td>\n",
       "      <td>...</td>\n",
       "      <td>...</td>\n",
       "      <td>...</td>\n",
       "      <td>...</td>\n",
       "      <td>...</td>\n",
       "      <td>...</td>\n",
       "      <td>...</td>\n",
       "      <td>...</td>\n",
       "      <td>...</td>\n",
       "      <td>...</td>\n",
       "    </tr>\n",
       "    <tr>\n",
       "      <th>3513612</th>\n",
       "      <td>A-3513776</td>\n",
       "      <td>Bing</td>\n",
       "      <td>NaN</td>\n",
       "      <td>2</td>\n",
       "      <td>2019-08-23 18:03:25</td>\n",
       "      <td>2019-08-23 18:32:01</td>\n",
       "      <td>34.002480</td>\n",
       "      <td>-117.379360</td>\n",
       "      <td>33.99888</td>\n",
       "      <td>-117.37094</td>\n",
       "      <td>...</td>\n",
       "      <td>False</td>\n",
       "      <td>False</td>\n",
       "      <td>False</td>\n",
       "      <td>False</td>\n",
       "      <td>False</td>\n",
       "      <td>False</td>\n",
       "      <td>Day</td>\n",
       "      <td>Day</td>\n",
       "      <td>Day</td>\n",
       "      <td>Day</td>\n",
       "    </tr>\n",
       "    <tr>\n",
       "      <th>3513613</th>\n",
       "      <td>A-3513777</td>\n",
       "      <td>Bing</td>\n",
       "      <td>NaN</td>\n",
       "      <td>2</td>\n",
       "      <td>2019-08-23 19:11:30</td>\n",
       "      <td>2019-08-23 19:38:23</td>\n",
       "      <td>32.766960</td>\n",
       "      <td>-117.148060</td>\n",
       "      <td>32.76555</td>\n",
       "      <td>-117.15363</td>\n",
       "      <td>...</td>\n",
       "      <td>False</td>\n",
       "      <td>False</td>\n",
       "      <td>False</td>\n",
       "      <td>False</td>\n",
       "      <td>False</td>\n",
       "      <td>False</td>\n",
       "      <td>Day</td>\n",
       "      <td>Day</td>\n",
       "      <td>Day</td>\n",
       "      <td>Day</td>\n",
       "    </tr>\n",
       "    <tr>\n",
       "      <th>3513614</th>\n",
       "      <td>A-3513778</td>\n",
       "      <td>Bing</td>\n",
       "      <td>NaN</td>\n",
       "      <td>2</td>\n",
       "      <td>2019-08-23 19:00:21</td>\n",
       "      <td>2019-08-23 19:28:49</td>\n",
       "      <td>33.775450</td>\n",
       "      <td>-117.847790</td>\n",
       "      <td>33.77740</td>\n",
       "      <td>-117.85727</td>\n",
       "      <td>...</td>\n",
       "      <td>False</td>\n",
       "      <td>False</td>\n",
       "      <td>False</td>\n",
       "      <td>False</td>\n",
       "      <td>False</td>\n",
       "      <td>False</td>\n",
       "      <td>Day</td>\n",
       "      <td>Day</td>\n",
       "      <td>Day</td>\n",
       "      <td>Day</td>\n",
       "    </tr>\n",
       "    <tr>\n",
       "      <th>3513615</th>\n",
       "      <td>A-3513779</td>\n",
       "      <td>Bing</td>\n",
       "      <td>NaN</td>\n",
       "      <td>2</td>\n",
       "      <td>2019-08-23 19:00:21</td>\n",
       "      <td>2019-08-23 19:29:42</td>\n",
       "      <td>33.992460</td>\n",
       "      <td>-118.403020</td>\n",
       "      <td>33.98311</td>\n",
       "      <td>-118.39565</td>\n",
       "      <td>...</td>\n",
       "      <td>False</td>\n",
       "      <td>False</td>\n",
       "      <td>False</td>\n",
       "      <td>False</td>\n",
       "      <td>False</td>\n",
       "      <td>False</td>\n",
       "      <td>Day</td>\n",
       "      <td>Day</td>\n",
       "      <td>Day</td>\n",
       "      <td>Day</td>\n",
       "    </tr>\n",
       "    <tr>\n",
       "      <th>3513616</th>\n",
       "      <td>A-3513780</td>\n",
       "      <td>Bing</td>\n",
       "      <td>NaN</td>\n",
       "      <td>2</td>\n",
       "      <td>2019-08-23 18:52:06</td>\n",
       "      <td>2019-08-23 19:21:31</td>\n",
       "      <td>34.133930</td>\n",
       "      <td>-117.230920</td>\n",
       "      <td>34.13736</td>\n",
       "      <td>-117.23934</td>\n",
       "      <td>...</td>\n",
       "      <td>False</td>\n",
       "      <td>False</td>\n",
       "      <td>False</td>\n",
       "      <td>False</td>\n",
       "      <td>False</td>\n",
       "      <td>False</td>\n",
       "      <td>Day</td>\n",
       "      <td>Day</td>\n",
       "      <td>Day</td>\n",
       "      <td>Day</td>\n",
       "    </tr>\n",
       "  </tbody>\n",
       "</table>\n",
       "<p>3513617 rows × 49 columns</p>\n",
       "</div>"
      ],
      "text/plain": [
       "                ID    Source    TMC  Severity           Start_Time  \\\n",
       "0              A-1  MapQuest  201.0         3  2016-02-08 05:46:00   \n",
       "1              A-2  MapQuest  201.0         2  2016-02-08 06:07:59   \n",
       "2              A-3  MapQuest  201.0         2  2016-02-08 06:49:27   \n",
       "3              A-4  MapQuest  201.0         3  2016-02-08 07:23:34   \n",
       "4              A-5  MapQuest  201.0         2  2016-02-08 07:39:07   \n",
       "...            ...       ...    ...       ...                  ...   \n",
       "3513612  A-3513776      Bing    NaN         2  2019-08-23 18:03:25   \n",
       "3513613  A-3513777      Bing    NaN         2  2019-08-23 19:11:30   \n",
       "3513614  A-3513778      Bing    NaN         2  2019-08-23 19:00:21   \n",
       "3513615  A-3513779      Bing    NaN         2  2019-08-23 19:00:21   \n",
       "3513616  A-3513780      Bing    NaN         2  2019-08-23 18:52:06   \n",
       "\n",
       "                    End_Time  Start_Lat   Start_Lng   End_Lat    End_Lng  ...  \\\n",
       "0        2016-02-08 11:00:00  39.865147  -84.058723       NaN        NaN  ...   \n",
       "1        2016-02-08 06:37:59  39.928059  -82.831184       NaN        NaN  ...   \n",
       "2        2016-02-08 07:19:27  39.063148  -84.032608       NaN        NaN  ...   \n",
       "3        2016-02-08 07:53:34  39.747753  -84.205582       NaN        NaN  ...   \n",
       "4        2016-02-08 08:09:07  39.627781  -84.188354       NaN        NaN  ...   \n",
       "...                      ...        ...         ...       ...        ...  ...   \n",
       "3513612  2019-08-23 18:32:01  34.002480 -117.379360  33.99888 -117.37094  ...   \n",
       "3513613  2019-08-23 19:38:23  32.766960 -117.148060  32.76555 -117.15363  ...   \n",
       "3513614  2019-08-23 19:28:49  33.775450 -117.847790  33.77740 -117.85727  ...   \n",
       "3513615  2019-08-23 19:29:42  33.992460 -118.403020  33.98311 -118.39565  ...   \n",
       "3513616  2019-08-23 19:21:31  34.133930 -117.230920  34.13736 -117.23934  ...   \n",
       "\n",
       "         Roundabout Station   Stop Traffic_Calming Traffic_Signal  \\\n",
       "0             False   False  False           False          False   \n",
       "1             False   False  False           False          False   \n",
       "2             False   False  False           False           True   \n",
       "3             False   False  False           False          False   \n",
       "4             False   False  False           False           True   \n",
       "...             ...     ...    ...             ...            ...   \n",
       "3513612       False   False  False           False          False   \n",
       "3513613       False   False  False           False          False   \n",
       "3513614       False   False  False           False          False   \n",
       "3513615       False   False  False           False          False   \n",
       "3513616       False   False  False           False          False   \n",
       "\n",
       "        Turning_Loop Sunrise_Sunset Civil_Twilight Nautical_Twilight  \\\n",
       "0              False          Night          Night             Night   \n",
       "1              False          Night          Night             Night   \n",
       "2              False          Night          Night               Day   \n",
       "3              False          Night            Day               Day   \n",
       "4              False            Day            Day               Day   \n",
       "...              ...            ...            ...               ...   \n",
       "3513612        False            Day            Day               Day   \n",
       "3513613        False            Day            Day               Day   \n",
       "3513614        False            Day            Day               Day   \n",
       "3513615        False            Day            Day               Day   \n",
       "3513616        False            Day            Day               Day   \n",
       "\n",
       "        Astronomical_Twilight  \n",
       "0                       Night  \n",
       "1                         Day  \n",
       "2                         Day  \n",
       "3                         Day  \n",
       "4                         Day  \n",
       "...                       ...  \n",
       "3513612                   Day  \n",
       "3513613                   Day  \n",
       "3513614                   Day  \n",
       "3513615                   Day  \n",
       "3513616                   Day  \n",
       "\n",
       "[3513617 rows x 49 columns]"
      ]
     },
     "execution_count": 2,
     "metadata": {},
     "output_type": "execute_result"
    }
   ],
   "source": [
    "data = pd.read_csv(\"./accidents.csv\")\n",
    "data"
   ]
  },
  {
   "cell_type": "code",
   "execution_count": 3,
   "id": "f3561c51-3f46-47ee-81bb-82aab34a9403",
   "metadata": {},
   "outputs": [],
   "source": [
    "target_map = {1: 0, 2:1, 3:2, 4:3}\n",
    "data[\"Severity\"] = data[\"Severity\"].map(target_map)"
   ]
  },
  {
   "cell_type": "code",
   "execution_count": 4,
   "id": "d1350734-4a35-47a4-93f9-2d98b713fc7c",
   "metadata": {},
   "outputs": [
    {
     "data": {
      "text/plain": [
       "Index(['ID', 'Source', 'TMC', 'Severity', 'Start_Time', 'End_Time',\n",
       "       'Start_Lat', 'Start_Lng', 'End_Lat', 'End_Lng', 'Distance(mi)',\n",
       "       'Description', 'Number', 'Street', 'Side', 'City', 'County', 'State',\n",
       "       'Zipcode', 'Country', 'Timezone', 'Airport_Code', 'Weather_Timestamp',\n",
       "       'Temperature(F)', 'Wind_Chill(F)', 'Humidity(%)', 'Pressure(in)',\n",
       "       'Visibility(mi)', 'Wind_Direction', 'Wind_Speed(mph)',\n",
       "       'Precipitation(in)', 'Weather_Condition', 'Amenity', 'Bump', 'Crossing',\n",
       "       'Give_Way', 'Junction', 'No_Exit', 'Railway', 'Roundabout', 'Station',\n",
       "       'Stop', 'Traffic_Calming', 'Traffic_Signal', 'Turning_Loop',\n",
       "       'Sunrise_Sunset', 'Civil_Twilight', 'Nautical_Twilight',\n",
       "       'Astronomical_Twilight'],\n",
       "      dtype='object')"
      ]
     },
     "execution_count": 4,
     "metadata": {},
     "output_type": "execute_result"
    }
   ],
   "source": [
    "data.columns"
   ]
  },
  {
   "cell_type": "code",
   "execution_count": 5,
   "id": "8a2e295f-727f-4b84-8685-bf5dd155446e",
   "metadata": {},
   "outputs": [
    {
     "name": "stdout",
     "output_type": "stream",
     "text": [
      "<class 'pandas.core.frame.DataFrame'>\n",
      "RangeIndex: 3513617 entries, 0 to 3513616\n",
      "Data columns (total 49 columns):\n",
      " #   Column                 Dtype  \n",
      "---  ------                 -----  \n",
      " 0   ID                     object \n",
      " 1   Source                 object \n",
      " 2   TMC                    float64\n",
      " 3   Severity               int64  \n",
      " 4   Start_Time             object \n",
      " 5   End_Time               object \n",
      " 6   Start_Lat              float64\n",
      " 7   Start_Lng              float64\n",
      " 8   End_Lat                float64\n",
      " 9   End_Lng                float64\n",
      " 10  Distance(mi)           float64\n",
      " 11  Description            object \n",
      " 12  Number                 float64\n",
      " 13  Street                 object \n",
      " 14  Side                   object \n",
      " 15  City                   object \n",
      " 16  County                 object \n",
      " 17  State                  object \n",
      " 18  Zipcode                object \n",
      " 19  Country                object \n",
      " 20  Timezone               object \n",
      " 21  Airport_Code           object \n",
      " 22  Weather_Timestamp      object \n",
      " 23  Temperature(F)         float64\n",
      " 24  Wind_Chill(F)          float64\n",
      " 25  Humidity(%)            float64\n",
      " 26  Pressure(in)           float64\n",
      " 27  Visibility(mi)         float64\n",
      " 28  Wind_Direction         object \n",
      " 29  Wind_Speed(mph)        float64\n",
      " 30  Precipitation(in)      float64\n",
      " 31  Weather_Condition      object \n",
      " 32  Amenity                bool   \n",
      " 33  Bump                   bool   \n",
      " 34  Crossing               bool   \n",
      " 35  Give_Way               bool   \n",
      " 36  Junction               bool   \n",
      " 37  No_Exit                bool   \n",
      " 38  Railway                bool   \n",
      " 39  Roundabout             bool   \n",
      " 40  Station                bool   \n",
      " 41  Stop                   bool   \n",
      " 42  Traffic_Calming        bool   \n",
      " 43  Traffic_Signal         bool   \n",
      " 44  Turning_Loop           bool   \n",
      " 45  Sunrise_Sunset         object \n",
      " 46  Civil_Twilight         object \n",
      " 47  Nautical_Twilight      object \n",
      " 48  Astronomical_Twilight  object \n",
      "dtypes: bool(13), float64(14), int64(1), object(21)\n",
      "memory usage: 1008.6+ MB\n"
     ]
    }
   ],
   "source": [
    "data.info()"
   ]
  },
  {
   "cell_type": "markdown",
   "id": "53031dc2-c5ae-42e7-a548-a178cf3b87a2",
   "metadata": {},
   "source": [
    "# Correlation"
   ]
  },
  {
   "cell_type": "code",
   "execution_count": 6,
   "id": "f59d3cda-863f-41b9-b75e-d4042edd292a",
   "metadata": {},
   "outputs": [
    {
     "data": {
      "text/plain": [
       "Index(['TMC', 'Severity', 'Start_Lat', 'Start_Lng', 'End_Lat', 'End_Lng',\n",
       "       'Distance(mi)', 'Number', 'Temperature(F)', 'Wind_Chill(F)',\n",
       "       'Humidity(%)', 'Pressure(in)', 'Visibility(mi)', 'Wind_Speed(mph)',\n",
       "       'Precipitation(in)'],\n",
       "      dtype='object')"
      ]
     },
     "execution_count": 6,
     "metadata": {},
     "output_type": "execute_result"
    }
   ],
   "source": [
    "numerical_columns = data.select_dtypes(include=['float64', 'int64']).columns\n",
    "numerical_columns"
   ]
  },
  {
   "cell_type": "code",
   "execution_count": 7,
   "id": "9102b9f8-8bd4-4849-9744-70587a638417",
   "metadata": {},
   "outputs": [
    {
     "data": {
      "image/png": "[encoded data removed]",
      "text/plain": [
       "<Figure size 1080x720 with 2 Axes>"
      ]
     },
     "metadata": {
      "needs_background": "light"
     },
     "output_type": "display_data"
    }
   ],
   "source": [
    "corr_columns = [\"Distance(mi)\", \"Severity\", \"Temperature(F)\", \"Wind_Chill(F)\", 'Humidity(%)', 'Pressure(in)', 'Visibility(mi)', 'Wind_Speed(mph)', 'Precipitation(in)']\n",
    "\n",
    "fig=sns.heatmap(data[corr_columns].corr(), annot=True, cmap='RdYlGn', annot_kws={'size':10}, linecolor='black', linewidths=1)\n",
    "fig=plt.gcf()\n",
    "fig.set_size_inches(15, 10)\n",
    "\n",
    "plt.xticks(fontsize=10)\n",
    "plt.yticks(fontsize=10)\n",
    "\n",
    "plt.show()"
   ]
  },
  {
   "cell_type": "markdown",
   "id": "4210a794-c35a-485e-a95f-96a29aa81762",
   "metadata": {},
   "source": [
    "1. Wind_Chill(F) and Temperature(F) are highly correlated \n",
    "2. Temperature(F) and Humidity(%) are moderately correlated"
   ]
  },
  {
   "cell_type": "code",
   "execution_count": 8,
   "id": "6dc0e474-b264-418d-ae3f-a4be9345a3d7",
   "metadata": {},
   "outputs": [],
   "source": [
    "def bar_plot(data, X, Y, mode=\"count\"):\n",
    "    \"\"\"\n",
    "    Count of Y for every X\n",
    "    \"\"\"\n",
    "    group = data.groupby(X)[Y]\n",
    "    group = group.mean() if mode == \"mean\" else group.count()\n",
    "    group = group.reset_index()\n",
    "    \n",
    "    x_axis = group[X]\n",
    "    x_axis = [\"\\n\".join(str(x).split(\" \")) for x in x_axis]\n",
    "    y_axis = group[Y]\n",
    "\n",
    "    plt.figure(figsize=(30, 15))\n",
    "    plt.xticks(fontsize=10, rotation=90)\n",
    "    \n",
    "    sns.barplot(x=x_axis, y=y_axis)\n",
    "    plt.grid(color='black', linestyle='-', linewidth=1, alpha=0.3)\n",
    "    plt.title(f'{Y} for every {X}')\n",
    "\n",
    "\n",
    "def stacked_bar_plot(data, X, Y):\n",
    "    \"\"\"\n",
    "    # stacked bar plot\n",
    "    # count of all possible values of Y for all possible X\n",
    "    # Example - Count of each Severity (Y) for each Weather Condition (X)\n",
    "    \"\"\"\n",
    "    # count of all possible values of Y for all possible X\n",
    "    value_counts = data.groupby(X)[Y].value_counts().reset_index(name=\"count\")\n",
    "    \n",
    "    # fill in 0 for missing values of X-Y pair\n",
    "    x = value_counts[[X]].drop_duplicates()\n",
    "    y = value_counts[[Y]].drop_duplicates()\n",
    "\n",
    "    x[\"temp\"] = 0\n",
    "    y[\"temp\"] = 0\n",
    "\n",
    "    temp = pd.merge(x, y, on=[\"temp\"])\n",
    "    temp.drop(columns=[\"temp\"], inplace=True)\n",
    "    temp.sort_values(by=[X, Y], ascending=True, inplace=True)\n",
    "\n",
    "    value_counts = temp.merge(value_counts, how=\"left\")\n",
    "    value_counts.fillna(0, inplace=True)\n",
    "    del temp\n",
    "    \n",
    "    # get numerical count values for X-Y pairs as list\n",
    "    x_axis = value_counts[X].unique()\n",
    "    x_axis = [\"\\n\".join(str(x).split(\" \")) for x in x_axis]\n",
    "    \n",
    "    y_axis = [value_counts[value_counts[Y] == value][\"count\"].tolist() for value in value_counts[Y].unique()]\n",
    "\n",
    "    # plot the stacked bar graph\n",
    "    plt.figure(figsize=(30,15))\n",
    "    plt.xticks(fontsize=10, rotation=0)\n",
    "\n",
    "    for i, severity in enumerate(value_counts[Y].unique()):\n",
    "        plt.bar(x_axis, y_axis[i], label=f'{Y} {severity}')\n",
    "\n",
    "    plt.legend()"
   ]
  },
  {
   "cell_type": "markdown",
   "id": "2932d859-5168-4bc9-a276-c67ccc9a2a34",
   "metadata": {},
   "source": [
    "# Correlation of all columns with Severity column"
   ]
  },
  {
   "cell_type": "code",
   "execution_count": 9,
   "id": "1c0df871-ddd8-4204-96f5-6d1c0efd27ae",
   "metadata": {},
   "outputs": [
    {
     "data": {
      "text/plain": [
       "TMC                  0.181005\n",
       "Severity             1.000000\n",
       "Start_Lat            0.047617\n",
       "Start_Lng            0.083705\n",
       "End_Lat              0.036787\n",
       "End_Lng              0.263622\n",
       "Distance(mi)         0.150326\n",
       "Number               0.019658\n",
       "Temperature(F)      -0.027275\n",
       "Wind_Chill(F)       -0.082260\n",
       "Humidity(%)          0.034319\n",
       "Pressure(in)         0.038380\n",
       "Visibility(mi)      -0.006433\n",
       "Wind_Speed(mph)      0.034959\n",
       "Precipitation(in)    0.017840\n",
       "Amenity             -0.044494\n",
       "Bump                -0.004671\n",
       "Crossing            -0.138368\n",
       "Give_Way            -0.007747\n",
       "Junction             0.060086\n",
       "No_Exit             -0.006705\n",
       "Railway             -0.023492\n",
       "Roundabout          -0.003956\n",
       "Station             -0.048260\n",
       "Stop                -0.053500\n",
       "Traffic_Calming     -0.006073\n",
       "Traffic_Signal      -0.191531\n",
       "Turning_Loop              NaN\n",
       "Name: Severity, dtype: float64"
      ]
     },
     "execution_count": 9,
     "metadata": {},
     "output_type": "execute_result"
    }
   ],
   "source": [
    "# check for overfitting\n",
    "data.corr()[\"Severity\"]"
   ]
  },
  {
   "cell_type": "code",
   "execution_count": 10,
   "id": "2fe3ac68-494d-457d-a863-00e818faa6e8",
   "metadata": {},
   "outputs": [
    {
     "data": {
      "image/png": "[encoded data removed]",
      "text/plain": [
       "<Figure size 2160x1080 with 1 Axes>"
      ]
     },
     "metadata": {
      "needs_background": "light"
     },
     "output_type": "display_data"
    }
   ],
   "source": [
    "corr_data = data.corr()[[\"Severity\"]].reset_index().rename(columns={\"index\": \"Column\", \"Severity\": \"Severity Correlation\"})\n",
    "bar_plot(data=corr_data, X=\"Column\", Y=\"Severity Correlation\", mode=\"mean\")"
   ]
  },
  {
   "cell_type": "markdown",
   "id": "f7033847-d183-4a9b-bb53-62116c6f1704",
   "metadata": {},
   "source": [
    "# NaN Handling"
   ]
  },
  {
   "cell_type": "code",
   "execution_count": 11,
   "id": "c1abed43-44ca-4b71-a66b-37dfc2fd907e",
   "metadata": {},
   "outputs": [
    {
     "data": {
      "text/plain": [
       "ID                        0\n",
       "Source                    0\n",
       "TMC                      29\n",
       "Severity                  0\n",
       "Start_Time                0\n",
       "End_Time                  0\n",
       "Start_Lat                 0\n",
       "Start_Lng                 0\n",
       "End_Lat                  70\n",
       "End_Lng                  70\n",
       "Distance(mi)              0\n",
       "Description               0\n",
       "Number                   64\n",
       "Street                    0\n",
       "Side                      0\n",
       "City                      0\n",
       "County                    0\n",
       "State                     0\n",
       "Zipcode                   0\n",
       "Country                   0\n",
       "Timezone                  0\n",
       "Airport_Code              0\n",
       "Weather_Timestamp         1\n",
       "Temperature(F)            1\n",
       "Wind_Chill(F)            53\n",
       "Humidity(%)               1\n",
       "Pressure(in)              1\n",
       "Visibility(mi)            2\n",
       "Wind_Direction            1\n",
       "Wind_Speed(mph)          12\n",
       "Precipitation(in)        57\n",
       "Weather_Condition         2\n",
       "Amenity                   0\n",
       "Bump                      0\n",
       "Crossing                  0\n",
       "Give_Way                  0\n",
       "Junction                  0\n",
       "No_Exit                   0\n",
       "Railway                   0\n",
       "Roundabout                0\n",
       "Station                   0\n",
       "Stop                      0\n",
       "Traffic_Calming           0\n",
       "Traffic_Signal            0\n",
       "Turning_Loop              0\n",
       "Sunrise_Sunset            0\n",
       "Civil_Twilight            0\n",
       "Nautical_Twilight         0\n",
       "Astronomical_Twilight     0\n",
       "dtype: int64"
      ]
     },
     "execution_count": 11,
     "metadata": {},
     "output_type": "execute_result"
    }
   ],
   "source": [
    "# percentage nans \n",
    "nan = lambda data: (data.isna().sum() / len(data) * 100).astype(int)\n",
    "nan(data)"
   ]
  },
  {
   "cell_type": "code",
   "execution_count": 12,
   "id": "94b16668-1dea-4a47-b6e8-9f2c39c5b073",
   "metadata": {},
   "outputs": [
    {
     "data": {
      "text/plain": [
       "ID                        0\n",
       "Source                    0\n",
       "TMC                      29\n",
       "Severity                  0\n",
       "Start_Time                0\n",
       "End_Time                  0\n",
       "Start_Lat                 0\n",
       "Start_Lng                 0\n",
       "End_Lat                  70\n",
       "End_Lng                  70\n",
       "Distance(mi)              0\n",
       "Description               0\n",
       "Number                   64\n",
       "Street                    0\n",
       "Side                      0\n",
       "City                      0\n",
       "County                    0\n",
       "State                     0\n",
       "Zipcode                   0\n",
       "Country                   0\n",
       "Timezone                  0\n",
       "Airport_Code              0\n",
       "Weather_Timestamp         1\n",
       "Temperature(F)            1\n",
       "Wind_Chill(F)            53\n",
       "Humidity(%)               1\n",
       "Pressure(in)              1\n",
       "Visibility(mi)            2\n",
       "Wind_Direction            1\n",
       "Wind_Speed(mph)           3\n",
       "Precipitation(in)        57\n",
       "Weather_Condition         2\n",
       "Amenity                   0\n",
       "Bump                      0\n",
       "Crossing                  0\n",
       "Give_Way                  0\n",
       "Junction                  0\n",
       "No_Exit                   0\n",
       "Railway                   0\n",
       "Roundabout                0\n",
       "Station                   0\n",
       "Stop                      0\n",
       "Traffic_Calming           0\n",
       "Traffic_Signal            0\n",
       "Turning_Loop              0\n",
       "Sunrise_Sunset            0\n",
       "Civil_Twilight            0\n",
       "Nautical_Twilight         0\n",
       "Astronomical_Twilight     0\n",
       "dtype: int64"
      ]
     },
     "execution_count": 12,
     "metadata": {},
     "output_type": "execute_result"
    }
   ],
   "source": [
    "# Fill NaN Wind_Speed(mph)\n",
    "data['Start_Time'] = pd.to_datetime(data['Start_Time'], errors='coerce')\n",
    "data['Month'] = data['Start_Time'].dt.month\n",
    "\n",
    "nan_fill = data.groupby([\"Zipcode\", \"Month\"])[\"Wind_Speed(mph)\"].mean().reset_index(name=\"Wind_Speed_NaN_Fill\")\n",
    "data = data.merge(nan_fill, how=\"left\")\n",
    "\n",
    "data[\"Wind_Speed(mph)\"] = np.where(data[\"Wind_Speed(mph)\"].isnull(), data[\"Wind_Speed_NaN_Fill\"], data[\"Wind_Speed(mph)\"])\n",
    "data.drop(columns=[\"Wind_Speed_NaN_Fill\", \"Month\"], inplace=True)\n",
    "\n",
    "nan(data)"
   ]
  },
  {
   "cell_type": "code",
   "execution_count": 13,
   "id": "5671df8a-aa97-4a7f-9c78-a868a2997888",
   "metadata": {},
   "outputs": [
    {
     "data": {
      "text/plain": [
       "ID                       0\n",
       "Source                   0\n",
       "Severity                 0\n",
       "Start_Time               0\n",
       "End_Time                 0\n",
       "Start_Lat                0\n",
       "Start_Lng                0\n",
       "Distance(mi)             0\n",
       "Description              0\n",
       "Street                   0\n",
       "Side                     0\n",
       "City                     0\n",
       "County                   0\n",
       "State                    0\n",
       "Zipcode                  0\n",
       "Country                  0\n",
       "Timezone                 0\n",
       "Airport_Code             0\n",
       "Temperature(F)           1\n",
       "Humidity(%)              1\n",
       "Pressure(in)             1\n",
       "Visibility(mi)           2\n",
       "Wind_Direction           1\n",
       "Wind_Speed(mph)          3\n",
       "Weather_Condition        2\n",
       "Amenity                  0\n",
       "Bump                     0\n",
       "Crossing                 0\n",
       "Give_Way                 0\n",
       "Junction                 0\n",
       "No_Exit                  0\n",
       "Railway                  0\n",
       "Roundabout               0\n",
       "Station                  0\n",
       "Stop                     0\n",
       "Traffic_Calming          0\n",
       "Traffic_Signal           0\n",
       "Turning_Loop             0\n",
       "Sunrise_Sunset           0\n",
       "Civil_Twilight           0\n",
       "Nautical_Twilight        0\n",
       "Astronomical_Twilight    0\n",
       "dtype: int64"
      ]
     },
     "execution_count": 13,
     "metadata": {},
     "output_type": "execute_result"
    }
   ],
   "source": [
    "# remove majority NaN columns\n",
    "majority_nan_columns = [\"Wind_Chill(F)\", \"Precipitation(in)\", \"End_Lat\", \"End_Lng\", \"TMC\", \"Number\", \"Weather_Timestamp\"]\n",
    "data.drop(columns=majority_nan_columns, inplace=True)\n",
    "nan(data)"
   ]
  },
  {
   "cell_type": "code",
   "execution_count": 14,
   "id": "2d4c995c-0e5e-4944-8c43-bb9813e7ab67",
   "metadata": {},
   "outputs": [
    {
     "data": {
      "text/html": [
       "<div>\n",
       "<style scoped>\n",
       "    .dataframe tbody tr th:only-of-type {\n",
       "        vertical-align: middle;\n",
       "    }\n",
       "\n",
       "    .dataframe tbody tr th {\n",
       "        vertical-align: top;\n",
       "    }\n",
       "\n",
       "    .dataframe thead th {\n",
       "        text-align: right;\n",
       "    }\n",
       "</style>\n",
       "<table border=\"1\" class=\"dataframe\">\n",
       "  <thead>\n",
       "    <tr style=\"text-align: right;\">\n",
       "      <th></th>\n",
       "      <th>ID</th>\n",
       "      <th>Source</th>\n",
       "      <th>Severity</th>\n",
       "      <th>Start_Time</th>\n",
       "      <th>End_Time</th>\n",
       "      <th>Start_Lat</th>\n",
       "      <th>Start_Lng</th>\n",
       "      <th>Distance(mi)</th>\n",
       "      <th>Description</th>\n",
       "      <th>Street</th>\n",
       "      <th>...</th>\n",
       "      <th>Roundabout</th>\n",
       "      <th>Station</th>\n",
       "      <th>Stop</th>\n",
       "      <th>Traffic_Calming</th>\n",
       "      <th>Traffic_Signal</th>\n",
       "      <th>Turning_Loop</th>\n",
       "      <th>Sunrise_Sunset</th>\n",
       "      <th>Civil_Twilight</th>\n",
       "      <th>Nautical_Twilight</th>\n",
       "      <th>Astronomical_Twilight</th>\n",
       "    </tr>\n",
       "  </thead>\n",
       "  <tbody>\n",
       "    <tr>\n",
       "      <th>0</th>\n",
       "      <td>A-1</td>\n",
       "      <td>MapQuest</td>\n",
       "      <td>2</td>\n",
       "      <td>2016-02-08 05:46:00</td>\n",
       "      <td>2016-02-08 11:00:00</td>\n",
       "      <td>39.865147</td>\n",
       "      <td>-84.058723</td>\n",
       "      <td>0.010</td>\n",
       "      <td>Right lane blocked due to accident on I-70 Eas...</td>\n",
       "      <td>I-70 E</td>\n",
       "      <td>...</td>\n",
       "      <td>False</td>\n",
       "      <td>False</td>\n",
       "      <td>False</td>\n",
       "      <td>False</td>\n",
       "      <td>False</td>\n",
       "      <td>False</td>\n",
       "      <td>Night</td>\n",
       "      <td>Night</td>\n",
       "      <td>Night</td>\n",
       "      <td>Night</td>\n",
       "    </tr>\n",
       "    <tr>\n",
       "      <th>2</th>\n",
       "      <td>A-3</td>\n",
       "      <td>MapQuest</td>\n",
       "      <td>1</td>\n",
       "      <td>2016-02-08 06:49:27</td>\n",
       "      <td>2016-02-08 07:19:27</td>\n",
       "      <td>39.063148</td>\n",
       "      <td>-84.032608</td>\n",
       "      <td>0.010</td>\n",
       "      <td>Accident on OH-32 State Route 32 Westbound at ...</td>\n",
       "      <td>State Route 32</td>\n",
       "      <td>...</td>\n",
       "      <td>False</td>\n",
       "      <td>False</td>\n",
       "      <td>False</td>\n",
       "      <td>False</td>\n",
       "      <td>True</td>\n",
       "      <td>False</td>\n",
       "      <td>Night</td>\n",
       "      <td>Night</td>\n",
       "      <td>Day</td>\n",
       "      <td>Day</td>\n",
       "    </tr>\n",
       "    <tr>\n",
       "      <th>3</th>\n",
       "      <td>A-4</td>\n",
       "      <td>MapQuest</td>\n",
       "      <td>2</td>\n",
       "      <td>2016-02-08 07:23:34</td>\n",
       "      <td>2016-02-08 07:53:34</td>\n",
       "      <td>39.747753</td>\n",
       "      <td>-84.205582</td>\n",
       "      <td>0.010</td>\n",
       "      <td>Accident on I-75 Southbound at Exits 52 52B US...</td>\n",
       "      <td>I-75 S</td>\n",
       "      <td>...</td>\n",
       "      <td>False</td>\n",
       "      <td>False</td>\n",
       "      <td>False</td>\n",
       "      <td>False</td>\n",
       "      <td>False</td>\n",
       "      <td>False</td>\n",
       "      <td>Night</td>\n",
       "      <td>Day</td>\n",
       "      <td>Day</td>\n",
       "      <td>Day</td>\n",
       "    </tr>\n",
       "    <tr>\n",
       "      <th>4</th>\n",
       "      <td>A-5</td>\n",
       "      <td>MapQuest</td>\n",
       "      <td>1</td>\n",
       "      <td>2016-02-08 07:39:07</td>\n",
       "      <td>2016-02-08 08:09:07</td>\n",
       "      <td>39.627781</td>\n",
       "      <td>-84.188354</td>\n",
       "      <td>0.010</td>\n",
       "      <td>Accident on McEwen Rd at OH-725 Miamisburg Cen...</td>\n",
       "      <td>Miamisburg Centerville Rd</td>\n",
       "      <td>...</td>\n",
       "      <td>False</td>\n",
       "      <td>False</td>\n",
       "      <td>False</td>\n",
       "      <td>False</td>\n",
       "      <td>True</td>\n",
       "      <td>False</td>\n",
       "      <td>Day</td>\n",
       "      <td>Day</td>\n",
       "      <td>Day</td>\n",
       "      <td>Day</td>\n",
       "    </tr>\n",
       "    <tr>\n",
       "      <th>5</th>\n",
       "      <td>A-6</td>\n",
       "      <td>MapQuest</td>\n",
       "      <td>2</td>\n",
       "      <td>2016-02-08 07:44:26</td>\n",
       "      <td>2016-02-08 08:14:26</td>\n",
       "      <td>40.100590</td>\n",
       "      <td>-82.925194</td>\n",
       "      <td>0.010</td>\n",
       "      <td>Accident on I-270 Outerbelt Northbound near Ex...</td>\n",
       "      <td>Westerville Rd</td>\n",
       "      <td>...</td>\n",
       "      <td>False</td>\n",
       "      <td>False</td>\n",
       "      <td>False</td>\n",
       "      <td>False</td>\n",
       "      <td>False</td>\n",
       "      <td>False</td>\n",
       "      <td>Day</td>\n",
       "      <td>Day</td>\n",
       "      <td>Day</td>\n",
       "      <td>Day</td>\n",
       "    </tr>\n",
       "    <tr>\n",
       "      <th>...</th>\n",
       "      <td>...</td>\n",
       "      <td>...</td>\n",
       "      <td>...</td>\n",
       "      <td>...</td>\n",
       "      <td>...</td>\n",
       "      <td>...</td>\n",
       "      <td>...</td>\n",
       "      <td>...</td>\n",
       "      <td>...</td>\n",
       "      <td>...</td>\n",
       "      <td>...</td>\n",
       "      <td>...</td>\n",
       "      <td>...</td>\n",
       "      <td>...</td>\n",
       "      <td>...</td>\n",
       "      <td>...</td>\n",
       "      <td>...</td>\n",
       "      <td>...</td>\n",
       "      <td>...</td>\n",
       "      <td>...</td>\n",
       "      <td>...</td>\n",
       "    </tr>\n",
       "    <tr>\n",
       "      <th>3513612</th>\n",
       "      <td>A-3513776</td>\n",
       "      <td>Bing</td>\n",
       "      <td>1</td>\n",
       "      <td>2019-08-23 18:03:25</td>\n",
       "      <td>2019-08-23 18:32:01</td>\n",
       "      <td>34.002480</td>\n",
       "      <td>-117.379360</td>\n",
       "      <td>0.543</td>\n",
       "      <td>At Market St - Accident.</td>\n",
       "      <td>Pomona Fwy E</td>\n",
       "      <td>...</td>\n",
       "      <td>False</td>\n",
       "      <td>False</td>\n",
       "      <td>False</td>\n",
       "      <td>False</td>\n",
       "      <td>False</td>\n",
       "      <td>False</td>\n",
       "      <td>Day</td>\n",
       "      <td>Day</td>\n",
       "      <td>Day</td>\n",
       "      <td>Day</td>\n",
       "    </tr>\n",
       "    <tr>\n",
       "      <th>3513613</th>\n",
       "      <td>A-3513777</td>\n",
       "      <td>Bing</td>\n",
       "      <td>1</td>\n",
       "      <td>2019-08-23 19:11:30</td>\n",
       "      <td>2019-08-23 19:38:23</td>\n",
       "      <td>32.766960</td>\n",
       "      <td>-117.148060</td>\n",
       "      <td>0.338</td>\n",
       "      <td>At Camino Del Rio/Mission Center Rd - Accident.</td>\n",
       "      <td>I-8 W</td>\n",
       "      <td>...</td>\n",
       "      <td>False</td>\n",
       "      <td>False</td>\n",
       "      <td>False</td>\n",
       "      <td>False</td>\n",
       "      <td>False</td>\n",
       "      <td>False</td>\n",
       "      <td>Day</td>\n",
       "      <td>Day</td>\n",
       "      <td>Day</td>\n",
       "      <td>Day</td>\n",
       "    </tr>\n",
       "    <tr>\n",
       "      <th>3513614</th>\n",
       "      <td>A-3513778</td>\n",
       "      <td>Bing</td>\n",
       "      <td>1</td>\n",
       "      <td>2019-08-23 19:00:21</td>\n",
       "      <td>2019-08-23 19:28:49</td>\n",
       "      <td>33.775450</td>\n",
       "      <td>-117.847790</td>\n",
       "      <td>0.561</td>\n",
       "      <td>At Glassell St/Grand Ave - Accident. in the ri...</td>\n",
       "      <td>Garden Grove Fwy</td>\n",
       "      <td>...</td>\n",
       "      <td>False</td>\n",
       "      <td>False</td>\n",
       "      <td>False</td>\n",
       "      <td>False</td>\n",
       "      <td>False</td>\n",
       "      <td>False</td>\n",
       "      <td>Day</td>\n",
       "      <td>Day</td>\n",
       "      <td>Day</td>\n",
       "      <td>Day</td>\n",
       "    </tr>\n",
       "    <tr>\n",
       "      <th>3513615</th>\n",
       "      <td>A-3513779</td>\n",
       "      <td>Bing</td>\n",
       "      <td>1</td>\n",
       "      <td>2019-08-23 19:00:21</td>\n",
       "      <td>2019-08-23 19:29:42</td>\n",
       "      <td>33.992460</td>\n",
       "      <td>-118.403020</td>\n",
       "      <td>0.772</td>\n",
       "      <td>At CA-90/Marina Fwy/Jefferson Blvd - Accident.</td>\n",
       "      <td>San Diego Fwy S</td>\n",
       "      <td>...</td>\n",
       "      <td>False</td>\n",
       "      <td>False</td>\n",
       "      <td>False</td>\n",
       "      <td>False</td>\n",
       "      <td>False</td>\n",
       "      <td>False</td>\n",
       "      <td>Day</td>\n",
       "      <td>Day</td>\n",
       "      <td>Day</td>\n",
       "      <td>Day</td>\n",
       "    </tr>\n",
       "    <tr>\n",
       "      <th>3513616</th>\n",
       "      <td>A-3513780</td>\n",
       "      <td>Bing</td>\n",
       "      <td>1</td>\n",
       "      <td>2019-08-23 18:52:06</td>\n",
       "      <td>2019-08-23 19:21:31</td>\n",
       "      <td>34.133930</td>\n",
       "      <td>-117.230920</td>\n",
       "      <td>0.537</td>\n",
       "      <td>At Highland Ave/Arden Ave - Accident.</td>\n",
       "      <td>CA-210 W</td>\n",
       "      <td>...</td>\n",
       "      <td>False</td>\n",
       "      <td>False</td>\n",
       "      <td>False</td>\n",
       "      <td>False</td>\n",
       "      <td>False</td>\n",
       "      <td>False</td>\n",
       "      <td>Day</td>\n",
       "      <td>Day</td>\n",
       "      <td>Day</td>\n",
       "      <td>Day</td>\n",
       "    </tr>\n",
       "  </tbody>\n",
       "</table>\n",
       "<p>3325099 rows × 42 columns</p>\n",
       "</div>"
      ],
      "text/plain": [
       "                ID    Source  Severity          Start_Time  \\\n",
       "0              A-1  MapQuest         2 2016-02-08 05:46:00   \n",
       "2              A-3  MapQuest         1 2016-02-08 06:49:27   \n",
       "3              A-4  MapQuest         2 2016-02-08 07:23:34   \n",
       "4              A-5  MapQuest         1 2016-02-08 07:39:07   \n",
       "5              A-6  MapQuest         2 2016-02-08 07:44:26   \n",
       "...            ...       ...       ...                 ...   \n",
       "3513612  A-3513776      Bing         1 2019-08-23 18:03:25   \n",
       "3513613  A-3513777      Bing         1 2019-08-23 19:11:30   \n",
       "3513614  A-3513778      Bing         1 2019-08-23 19:00:21   \n",
       "3513615  A-3513779      Bing         1 2019-08-23 19:00:21   \n",
       "3513616  A-3513780      Bing         1 2019-08-23 18:52:06   \n",
       "\n",
       "                    End_Time  Start_Lat   Start_Lng  Distance(mi)  \\\n",
       "0        2016-02-08 11:00:00  39.865147  -84.058723         0.010   \n",
       "2        2016-02-08 07:19:27  39.063148  -84.032608         0.010   \n",
       "3        2016-02-08 07:53:34  39.747753  -84.205582         0.010   \n",
       "4        2016-02-08 08:09:07  39.627781  -84.188354         0.010   \n",
       "5        2016-02-08 08:14:26  40.100590  -82.925194         0.010   \n",
       "...                      ...        ...         ...           ...   \n",
       "3513612  2019-08-23 18:32:01  34.002480 -117.379360         0.543   \n",
       "3513613  2019-08-23 19:38:23  32.766960 -117.148060         0.338   \n",
       "3513614  2019-08-23 19:28:49  33.775450 -117.847790         0.561   \n",
       "3513615  2019-08-23 19:29:42  33.992460 -118.403020         0.772   \n",
       "3513616  2019-08-23 19:21:31  34.133930 -117.230920         0.537   \n",
       "\n",
       "                                               Description  \\\n",
       "0        Right lane blocked due to accident on I-70 Eas...   \n",
       "2        Accident on OH-32 State Route 32 Westbound at ...   \n",
       "3        Accident on I-75 Southbound at Exits 52 52B US...   \n",
       "4        Accident on McEwen Rd at OH-725 Miamisburg Cen...   \n",
       "5        Accident on I-270 Outerbelt Northbound near Ex...   \n",
       "...                                                    ...   \n",
       "3513612                           At Market St - Accident.   \n",
       "3513613    At Camino Del Rio/Mission Center Rd - Accident.   \n",
       "3513614  At Glassell St/Grand Ave - Accident. in the ri...   \n",
       "3513615     At CA-90/Marina Fwy/Jefferson Blvd - Accident.   \n",
       "3513616              At Highland Ave/Arden Ave - Accident.   \n",
       "\n",
       "                            Street  ... Roundabout Station   Stop  \\\n",
       "0                           I-70 E  ...      False   False  False   \n",
       "2                   State Route 32  ...      False   False  False   \n",
       "3                           I-75 S  ...      False   False  False   \n",
       "4        Miamisburg Centerville Rd  ...      False   False  False   \n",
       "5                   Westerville Rd  ...      False   False  False   \n",
       "...                            ...  ...        ...     ...    ...   \n",
       "3513612               Pomona Fwy E  ...      False   False  False   \n",
       "3513613                      I-8 W  ...      False   False  False   \n",
       "3513614           Garden Grove Fwy  ...      False   False  False   \n",
       "3513615            San Diego Fwy S  ...      False   False  False   \n",
       "3513616                   CA-210 W  ...      False   False  False   \n",
       "\n",
       "        Traffic_Calming Traffic_Signal Turning_Loop Sunrise_Sunset  \\\n",
       "0                 False          False        False          Night   \n",
       "2                 False           True        False          Night   \n",
       "3                 False          False        False          Night   \n",
       "4                 False           True        False            Day   \n",
       "5                 False          False        False            Day   \n",
       "...                 ...            ...          ...            ...   \n",
       "3513612           False          False        False            Day   \n",
       "3513613           False          False        False            Day   \n",
       "3513614           False          False        False            Day   \n",
       "3513615           False          False        False            Day   \n",
       "3513616           False          False        False            Day   \n",
       "\n",
       "        Civil_Twilight  Nautical_Twilight  Astronomical_Twilight  \n",
       "0                Night              Night                  Night  \n",
       "2                Night                Day                    Day  \n",
       "3                  Day                Day                    Day  \n",
       "4                  Day                Day                    Day  \n",
       "5                  Day                Day                    Day  \n",
       "...                ...                ...                    ...  \n",
       "3513612            Day                Day                    Day  \n",
       "3513613            Day                Day                    Day  \n",
       "3513614            Day                Day                    Day  \n",
       "3513615            Day                Day                    Day  \n",
       "3513616            Day                Day                    Day  \n",
       "\n",
       "[3325099 rows x 42 columns]"
      ]
     },
     "execution_count": 14,
     "metadata": {},
     "output_type": "execute_result"
    }
   ],
   "source": [
    "data.dropna(inplace=True)\n",
    "data"
   ]
  },
  {
   "cell_type": "code",
   "execution_count": 15,
   "id": "ed6fa367-1e34-42f0-9668-355eaae90ef3",
   "metadata": {},
   "outputs": [
    {
     "data": {
      "text/plain": [
       "1    2233333\n",
       "2     960979\n",
       "3     102305\n",
       "0      28482\n",
       "Name: Severity, dtype: int64"
      ]
     },
     "execution_count": 15,
     "metadata": {},
     "output_type": "execute_result"
    }
   ],
   "source": [
    "# Check Label Balancing\n",
    "data[\"Severity\"].value_counts()"
   ]
  },
  {
   "cell_type": "markdown",
   "id": "2433d5f7-b32a-496f-a769-54685de9b7de",
   "metadata": {},
   "source": [
    "# Boolean Columns Value Counts"
   ]
  },
  {
   "cell_type": "code",
   "execution_count": 16,
   "id": "1acdeb57-ffc8-4a7a-92d0-4f971360b6a2",
   "metadata": {},
   "outputs": [
    {
     "data": {
      "image/png": "[encoded data removed]",
      "text/plain": [
       "<Figure size 1440x720 with 1 Axes>"
      ]
     },
     "metadata": {
      "needs_background": "light"
     },
     "output_type": "display_data"
    }
   ],
   "source": [
    "# Select boolean columns from the dataset\n",
    "boolean_columns = data.select_dtypes(include='bool').columns\n",
    "\n",
    "# Compute value counts for each boolean column\n",
    "value_counts = data[boolean_columns].apply(pd.Series.value_counts)\n",
    "value_counts = value_counts.reset_index().melt('index')\n",
    "\n",
    "# Plotting\n",
    "plt.figure(figsize=(20, 10))  # Set the figure size\n",
    "\n",
    "# Create a bar plot using Seaborn\n",
    "sns.barplot(data=value_counts, x='variable', y='value', hue='index')\n",
    "\n",
    "plt.xlabel('Columns')  # Set x-axis label\n",
    "plt.ylabel('Count')  # Set y-axis label\n",
    "plt.title('Value Counts of Boolean Columns')  # Set plot title\n",
    "plt.legend(['False', 'True'])  # Show legend\n",
    "\n",
    "# Rotate x-axis labels for better readability\n",
    "plt.xticks(rotation=45)\n",
    "\n",
    "# Display the plot\n",
    "plt.show()"
   ]
  },
  {
   "cell_type": "markdown",
   "id": "38ded7f9-eb8b-47cf-af7d-b48f313ecf33",
   "metadata": {},
   "source": [
    "# Number of Accidents (Percentage) Per State"
   ]
  },
  {
   "cell_type": "code",
   "execution_count": 17,
   "id": "ce9801f2-6ed7-4d1a-a8a3-fbc4f243a327",
   "metadata": {},
   "outputs": [
    {
     "data": {
      "text/plain": [
       "CA    23.327757\n",
       "TX     9.440411\n",
       "FL     7.480559\n",
       "SC     4.792128\n",
       "NC     4.754926\n",
       "NY     4.632584\n",
       "PA     2.952423\n",
       "IL     2.944273\n",
       "MI     2.832728\n",
       "GA     2.680161\n",
       "Name: State, dtype: float64"
      ]
     },
     "execution_count": 17,
     "metadata": {},
     "output_type": "execute_result"
    }
   ],
   "source": [
    "n = 10\n",
    "100 * data[\"State\"].value_counts()[:n] / len(data)"
   ]
  },
  {
   "cell_type": "code",
   "execution_count": 18,
   "id": "2a2eba85-4b6c-416a-9d01-f0ea9711a7c5",
   "metadata": {},
   "outputs": [
    {
     "data": {
      "text/html": [
       "<div>\n",
       "<style scoped>\n",
       "    .dataframe tbody tr th:only-of-type {\n",
       "        vertical-align: middle;\n",
       "    }\n",
       "\n",
       "    .dataframe tbody tr th {\n",
       "        vertical-align: top;\n",
       "    }\n",
       "\n",
       "    .dataframe thead th {\n",
       "        text-align: right;\n",
       "    }\n",
       "</style>\n",
       "<table border=\"1\" class=\"dataframe\">\n",
       "  <thead>\n",
       "    <tr style=\"text-align: right;\">\n",
       "      <th></th>\n",
       "      <th>State</th>\n",
       "      <th>Severity</th>\n",
       "      <th>Count</th>\n",
       "    </tr>\n",
       "  </thead>\n",
       "  <tbody>\n",
       "    <tr>\n",
       "      <th>0</th>\n",
       "      <td>AL</td>\n",
       "      <td>1</td>\n",
       "      <td>28561</td>\n",
       "    </tr>\n",
       "    <tr>\n",
       "      <th>1</th>\n",
       "      <td>AL</td>\n",
       "      <td>2</td>\n",
       "      <td>13569</td>\n",
       "    </tr>\n",
       "    <tr>\n",
       "      <th>2</th>\n",
       "      <td>AL</td>\n",
       "      <td>3</td>\n",
       "      <td>551</td>\n",
       "    </tr>\n",
       "    <tr>\n",
       "      <th>3</th>\n",
       "      <td>AL</td>\n",
       "      <td>0</td>\n",
       "      <td>132</td>\n",
       "    </tr>\n",
       "    <tr>\n",
       "      <th>4</th>\n",
       "      <td>AR</td>\n",
       "      <td>1</td>\n",
       "      <td>913</td>\n",
       "    </tr>\n",
       "    <tr>\n",
       "      <th>...</th>\n",
       "      <td>...</td>\n",
       "      <td>...</td>\n",
       "      <td>...</td>\n",
       "    </tr>\n",
       "    <tr>\n",
       "      <th>186</th>\n",
       "      <td>WV</td>\n",
       "      <td>3</td>\n",
       "      <td>418</td>\n",
       "    </tr>\n",
       "    <tr>\n",
       "      <th>187</th>\n",
       "      <td>WV</td>\n",
       "      <td>0</td>\n",
       "      <td>2</td>\n",
       "    </tr>\n",
       "    <tr>\n",
       "      <th>188</th>\n",
       "      <td>WY</td>\n",
       "      <td>3</td>\n",
       "      <td>180</td>\n",
       "    </tr>\n",
       "    <tr>\n",
       "      <th>189</th>\n",
       "      <td>WY</td>\n",
       "      <td>2</td>\n",
       "      <td>153</td>\n",
       "    </tr>\n",
       "    <tr>\n",
       "      <th>190</th>\n",
       "      <td>WY</td>\n",
       "      <td>1</td>\n",
       "      <td>120</td>\n",
       "    </tr>\n",
       "  </tbody>\n",
       "</table>\n",
       "<p>191 rows × 3 columns</p>\n",
       "</div>"
      ],
      "text/plain": [
       "    State  Severity  Count\n",
       "0      AL         1  28561\n",
       "1      AL         2  13569\n",
       "2      AL         3    551\n",
       "3      AL         0    132\n",
       "4      AR         1    913\n",
       "..    ...       ...    ...\n",
       "186    WV         3    418\n",
       "187    WV         0      2\n",
       "188    WY         3    180\n",
       "189    WY         2    153\n",
       "190    WY         1    120\n",
       "\n",
       "[191 rows x 3 columns]"
      ]
     },
     "execution_count": 18,
     "metadata": {},
     "output_type": "execute_result"
    }
   ],
   "source": [
    "data.groupby(\"State\")[\"Severity\"].value_counts().reset_index(name=\"Count\")"
   ]
  },
  {
   "cell_type": "markdown",
   "id": "a9dfd2a5-4320-4a20-af2a-dbb6c97884d8",
   "metadata": {},
   "source": [
    "# Weather wise Severity Count"
   ]
  },
  {
   "cell_type": "code",
   "execution_count": 19,
   "id": "f86ba269-befd-4092-9af5-3de190282306",
   "metadata": {},
   "outputs": [
    {
     "data": {
      "text/plain": [
       "Clear                      761780\n",
       "Fair                       538444\n",
       "Mostly Cloudy              477499\n",
       "Overcast                   366551\n",
       "Partly Cloudy              336984\n",
       "                            ...  \n",
       "Snow and Thunder                1\n",
       "Partial Fog / Windy             1\n",
       "Heavy Smoke                     1\n",
       "Widespread Dust / Windy         1\n",
       "Freezing Drizzle                1\n",
       "Name: Weather_Condition, Length: 126, dtype: int64"
      ]
     },
     "execution_count": 19,
     "metadata": {},
     "output_type": "execute_result"
    }
   ],
   "source": [
    "# weather wise accident count\n",
    "data.Weather_Condition.value_counts()"
   ]
  },
  {
   "cell_type": "code",
   "execution_count": 20,
   "id": "c531c441-d0c2-401c-aa55-c61e1fc6a0cf",
   "metadata": {},
   "outputs": [
    {
     "data": {
      "image/png": "[encoded data removed]",
      "text/plain": [
       "<Figure size 2160x1080 with 1 Axes>"
      ]
     },
     "metadata": {
      "needs_background": "light"
     },
     "output_type": "display_data"
    }
   ],
   "source": [
    "stacked_bar_plot(data, X=\"Weather_Condition\", Y=\"Severity\")"
   ]
  },
  {
   "cell_type": "code",
   "execution_count": 21,
   "id": "b0d95ec1-7b6d-4bbe-8f9f-078135f9a027",
   "metadata": {},
   "outputs": [
    {
     "data": {
      "image/png": "[encoded data removed]",
      "text/plain": [
       "<Figure size 2160x1080 with 1 Axes>"
      ]
     },
     "metadata": {
      "needs_background": "light"
     },
     "output_type": "display_data"
    }
   ],
   "source": [
    "bar_plot(data, X=\"Weather_Condition\", Y=\"Severity\")"
   ]
  },
  {
   "cell_type": "markdown",
   "id": "b9264aea-99b7-4249-b318-fe5858feaa9b",
   "metadata": {},
   "source": [
    "# State wise Severity Count + Count"
   ]
  },
  {
   "cell_type": "code",
   "execution_count": 22,
   "id": "1d1c117f-0986-4076-84de-052d6459853b",
   "metadata": {},
   "outputs": [
    {
     "data": {
      "image/png": "[encoded data removed]",
      "text/plain": [
       "<Figure size 2160x1080 with 1 Axes>"
      ]
     },
     "metadata": {
      "needs_background": "light"
     },
     "output_type": "display_data"
    }
   ],
   "source": [
    "stacked_bar_plot(data, X=\"State\", Y=\"Severity\")"
   ]
  },
  {
   "cell_type": "code",
   "execution_count": 23,
   "id": "62919acf-0d4b-4e92-bb7d-2dd55e22b72c",
   "metadata": {},
   "outputs": [
    {
     "data": {
      "image/png": "[encoded data removed]",
      "text/plain": [
       "<Figure size 2160x1080 with 1 Axes>"
      ]
     },
     "metadata": {
      "needs_background": "light"
     },
     "output_type": "display_data"
    }
   ],
   "source": [
    "bar_plot(data, X=\"State\", Y=\"Severity\")"
   ]
  },
  {
   "cell_type": "markdown",
   "id": "e96b991b-b7e2-4349-81d2-bb83e43f67e5",
   "metadata": {},
   "source": [
    "# Hour wise Count + Severity Count"
   ]
  },
  {
   "cell_type": "code",
   "execution_count": 24,
   "id": "296fafb9-ca91-4a60-96b8-fee7135ae79c",
   "metadata": {},
   "outputs": [],
   "source": [
    "data['hour'] = pd.to_datetime(data['Start_Time']).dt.hour"
   ]
  },
  {
   "cell_type": "code",
   "execution_count": 25,
   "id": "96bd3090-ddc3-42ef-80dd-16063cffefee",
   "metadata": {},
   "outputs": [
    {
     "data": {
      "image/png": "[encoded data removed]",
      "text/plain": [
       "<Figure size 2160x1080 with 1 Axes>"
      ]
     },
     "metadata": {
      "needs_background": "light"
     },
     "output_type": "display_data"
    }
   ],
   "source": [
    "# severity count\n",
    "stacked_bar_plot(data, X=\"hour\", Y=\"Severity\")"
   ]
  },
  {
   "cell_type": "code",
   "execution_count": 26,
   "id": "51f15ae2-7aac-4736-91d7-81b1d79b2d20",
   "metadata": {},
   "outputs": [
    {
     "data": {
      "image/png": "[encoded data removed]",
      "text/plain": [
       "<Figure size 2160x1080 with 1 Axes>"
      ]
     },
     "metadata": {
      "needs_background": "light"
     },
     "output_type": "display_data"
    }
   ],
   "source": [
    "bar_plot(data, \"hour\", \"Severity\")"
   ]
  },
  {
   "cell_type": "markdown",
   "id": "7bf14ce8-e30f-4041-82fe-8c45d1e63755",
   "metadata": {},
   "source": [
    "# Severity wise Mean Temperature"
   ]
  },
  {
   "cell_type": "code",
   "execution_count": 27,
   "id": "858321fd-032b-44fa-92f3-59351bfb333c",
   "metadata": {},
   "outputs": [
    {
     "data": {
      "image/png": "[encoded data removed]",
      "text/plain": [
       "<Figure size 2160x1080 with 1 Axes>"
      ]
     },
     "metadata": {
      "needs_background": "light"
     },
     "output_type": "display_data"
    }
   ],
   "source": [
    "bar_plot(data, \"Severity\", \"Temperature(F)\", \"mean\")"
   ]
  },
  {
   "cell_type": "markdown",
   "id": "0d7ed8d8-1aed-4d30-a7a6-1c9fee5c0842",
   "metadata": {},
   "source": [
    "# Extracting x, y and z Features from Start Latitude and Longitude"
   ]
  },
  {
   "cell_type": "code",
   "execution_count": 28,
   "id": "6baaf887-fe66-42e2-ab3c-1333e2f610ca",
   "metadata": {},
   "outputs": [],
   "source": [
    "data['loc_x'] = np.cos(data['Start_Lat']) * np.cos(data['Start_Lng'])\n",
    "data['loc_y'] = np.cos(data['Start_Lat']) * np.sin(data['Start_Lng'])\n",
    "data['loc_z'] = np.sin(data['Start_Lat'])\n",
    "\n",
    "data.drop(columns=[\"Start_Lat\", \"Start_Lng\"], inplace=True)"
   ]
  },
  {
   "cell_type": "markdown",
   "id": "8f1281e6-bb4a-4a02-973d-51a21d89ebc9",
   "metadata": {},
   "source": [
    "# Cyclic Feature Engineering"
   ]
  },
  {
   "cell_type": "code",
   "execution_count": 29,
   "id": "39cd52eb-246b-4dd3-9522-71f39ee10616",
   "metadata": {},
   "outputs": [
    {
     "data": {
      "text/html": [
       "<div>\n",
       "<style scoped>\n",
       "    .dataframe tbody tr th:only-of-type {\n",
       "        vertical-align: middle;\n",
       "    }\n",
       "\n",
       "    .dataframe tbody tr th {\n",
       "        vertical-align: top;\n",
       "    }\n",
       "\n",
       "    .dataframe thead th {\n",
       "        text-align: right;\n",
       "    }\n",
       "</style>\n",
       "<table border=\"1\" class=\"dataframe\">\n",
       "  <thead>\n",
       "    <tr style=\"text-align: right;\">\n",
       "      <th></th>\n",
       "      <th>ID</th>\n",
       "      <th>Source</th>\n",
       "      <th>Severity</th>\n",
       "      <th>Start_Time</th>\n",
       "      <th>End_Time</th>\n",
       "      <th>Distance(mi)</th>\n",
       "      <th>Description</th>\n",
       "      <th>Street</th>\n",
       "      <th>Side</th>\n",
       "      <th>City</th>\n",
       "      <th>...</th>\n",
       "      <th>Year</th>\n",
       "      <th>Duration</th>\n",
       "      <th>Hour_sin</th>\n",
       "      <th>Hour_cos</th>\n",
       "      <th>Month_sin</th>\n",
       "      <th>Month_cos</th>\n",
       "      <th>Day_sin</th>\n",
       "      <th>Day_cos</th>\n",
       "      <th>Weekday_sin</th>\n",
       "      <th>Weekday_cos</th>\n",
       "    </tr>\n",
       "  </thead>\n",
       "  <tbody>\n",
       "    <tr>\n",
       "      <th>0</th>\n",
       "      <td>A-1</td>\n",
       "      <td>MapQuest</td>\n",
       "      <td>2</td>\n",
       "      <td>2016-02-08 05:46:00</td>\n",
       "      <td>2016-02-08 11:00:00</td>\n",
       "      <td>0.010</td>\n",
       "      <td>Right lane blocked due to accident on I-70 Eas...</td>\n",
       "      <td>I-70 E</td>\n",
       "      <td>R</td>\n",
       "      <td>Dayton</td>\n",
       "      <td>...</td>\n",
       "      <td>2016</td>\n",
       "      <td>314.0</td>\n",
       "      <td>0.965926</td>\n",
       "      <td>2.588190e-01</td>\n",
       "      <td>0.866025</td>\n",
       "      <td>0.5</td>\n",
       "      <td>0.998717</td>\n",
       "      <td>-0.050649</td>\n",
       "      <td>0.000000</td>\n",
       "      <td>1.000000</td>\n",
       "    </tr>\n",
       "    <tr>\n",
       "      <th>2</th>\n",
       "      <td>A-3</td>\n",
       "      <td>MapQuest</td>\n",
       "      <td>1</td>\n",
       "      <td>2016-02-08 06:49:27</td>\n",
       "      <td>2016-02-08 07:19:27</td>\n",
       "      <td>0.010</td>\n",
       "      <td>Accident on OH-32 State Route 32 Westbound at ...</td>\n",
       "      <td>State Route 32</td>\n",
       "      <td>R</td>\n",
       "      <td>Williamsburg</td>\n",
       "      <td>...</td>\n",
       "      <td>2016</td>\n",
       "      <td>30.0</td>\n",
       "      <td>1.000000</td>\n",
       "      <td>6.123234e-17</td>\n",
       "      <td>0.866025</td>\n",
       "      <td>0.5</td>\n",
       "      <td>0.998717</td>\n",
       "      <td>-0.050649</td>\n",
       "      <td>0.000000</td>\n",
       "      <td>1.000000</td>\n",
       "    </tr>\n",
       "    <tr>\n",
       "      <th>3</th>\n",
       "      <td>A-4</td>\n",
       "      <td>MapQuest</td>\n",
       "      <td>2</td>\n",
       "      <td>2016-02-08 07:23:34</td>\n",
       "      <td>2016-02-08 07:53:34</td>\n",
       "      <td>0.010</td>\n",
       "      <td>Accident on I-75 Southbound at Exits 52 52B US...</td>\n",
       "      <td>I-75 S</td>\n",
       "      <td>R</td>\n",
       "      <td>Dayton</td>\n",
       "      <td>...</td>\n",
       "      <td>2016</td>\n",
       "      <td>30.0</td>\n",
       "      <td>0.965926</td>\n",
       "      <td>-2.588190e-01</td>\n",
       "      <td>0.866025</td>\n",
       "      <td>0.5</td>\n",
       "      <td>0.998717</td>\n",
       "      <td>-0.050649</td>\n",
       "      <td>0.000000</td>\n",
       "      <td>1.000000</td>\n",
       "    </tr>\n",
       "    <tr>\n",
       "      <th>4</th>\n",
       "      <td>A-5</td>\n",
       "      <td>MapQuest</td>\n",
       "      <td>1</td>\n",
       "      <td>2016-02-08 07:39:07</td>\n",
       "      <td>2016-02-08 08:09:07</td>\n",
       "      <td>0.010</td>\n",
       "      <td>Accident on McEwen Rd at OH-725 Miamisburg Cen...</td>\n",
       "      <td>Miamisburg Centerville Rd</td>\n",
       "      <td>R</td>\n",
       "      <td>Dayton</td>\n",
       "      <td>...</td>\n",
       "      <td>2016</td>\n",
       "      <td>30.0</td>\n",
       "      <td>0.965926</td>\n",
       "      <td>-2.588190e-01</td>\n",
       "      <td>0.866025</td>\n",
       "      <td>0.5</td>\n",
       "      <td>0.998717</td>\n",
       "      <td>-0.050649</td>\n",
       "      <td>0.000000</td>\n",
       "      <td>1.000000</td>\n",
       "    </tr>\n",
       "    <tr>\n",
       "      <th>5</th>\n",
       "      <td>A-6</td>\n",
       "      <td>MapQuest</td>\n",
       "      <td>2</td>\n",
       "      <td>2016-02-08 07:44:26</td>\n",
       "      <td>2016-02-08 08:14:26</td>\n",
       "      <td>0.010</td>\n",
       "      <td>Accident on I-270 Outerbelt Northbound near Ex...</td>\n",
       "      <td>Westerville Rd</td>\n",
       "      <td>R</td>\n",
       "      <td>Westerville</td>\n",
       "      <td>...</td>\n",
       "      <td>2016</td>\n",
       "      <td>30.0</td>\n",
       "      <td>0.965926</td>\n",
       "      <td>-2.588190e-01</td>\n",
       "      <td>0.866025</td>\n",
       "      <td>0.5</td>\n",
       "      <td>0.998717</td>\n",
       "      <td>-0.050649</td>\n",
       "      <td>0.000000</td>\n",
       "      <td>1.000000</td>\n",
       "    </tr>\n",
       "    <tr>\n",
       "      <th>...</th>\n",
       "      <td>...</td>\n",
       "      <td>...</td>\n",
       "      <td>...</td>\n",
       "      <td>...</td>\n",
       "      <td>...</td>\n",
       "      <td>...</td>\n",
       "      <td>...</td>\n",
       "      <td>...</td>\n",
       "      <td>...</td>\n",
       "      <td>...</td>\n",
       "      <td>...</td>\n",
       "      <td>...</td>\n",
       "      <td>...</td>\n",
       "      <td>...</td>\n",
       "      <td>...</td>\n",
       "      <td>...</td>\n",
       "      <td>...</td>\n",
       "      <td>...</td>\n",
       "      <td>...</td>\n",
       "      <td>...</td>\n",
       "      <td>...</td>\n",
       "    </tr>\n",
       "    <tr>\n",
       "      <th>3513612</th>\n",
       "      <td>A-3513776</td>\n",
       "      <td>Bing</td>\n",
       "      <td>1</td>\n",
       "      <td>2019-08-23 18:03:25</td>\n",
       "      <td>2019-08-23 18:32:01</td>\n",
       "      <td>0.543</td>\n",
       "      <td>At Market St - Accident.</td>\n",
       "      <td>Pomona Fwy E</td>\n",
       "      <td>R</td>\n",
       "      <td>Riverside</td>\n",
       "      <td>...</td>\n",
       "      <td>2019</td>\n",
       "      <td>29.0</td>\n",
       "      <td>-1.000000</td>\n",
       "      <td>-1.836970e-16</td>\n",
       "      <td>-0.866025</td>\n",
       "      <td>-0.5</td>\n",
       "      <td>-0.998717</td>\n",
       "      <td>-0.050649</td>\n",
       "      <td>-0.433884</td>\n",
       "      <td>-0.900969</td>\n",
       "    </tr>\n",
       "    <tr>\n",
       "      <th>3513613</th>\n",
       "      <td>A-3513777</td>\n",
       "      <td>Bing</td>\n",
       "      <td>1</td>\n",
       "      <td>2019-08-23 19:11:30</td>\n",
       "      <td>2019-08-23 19:38:23</td>\n",
       "      <td>0.338</td>\n",
       "      <td>At Camino Del Rio/Mission Center Rd - Accident.</td>\n",
       "      <td>I-8 W</td>\n",
       "      <td>R</td>\n",
       "      <td>San Diego</td>\n",
       "      <td>...</td>\n",
       "      <td>2019</td>\n",
       "      <td>27.0</td>\n",
       "      <td>-0.965926</td>\n",
       "      <td>2.588190e-01</td>\n",
       "      <td>-0.866025</td>\n",
       "      <td>-0.5</td>\n",
       "      <td>-0.998717</td>\n",
       "      <td>-0.050649</td>\n",
       "      <td>-0.433884</td>\n",
       "      <td>-0.900969</td>\n",
       "    </tr>\n",
       "    <tr>\n",
       "      <th>3513614</th>\n",
       "      <td>A-3513778</td>\n",
       "      <td>Bing</td>\n",
       "      <td>1</td>\n",
       "      <td>2019-08-23 19:00:21</td>\n",
       "      <td>2019-08-23 19:28:49</td>\n",
       "      <td>0.561</td>\n",
       "      <td>At Glassell St/Grand Ave - Accident. in the ri...</td>\n",
       "      <td>Garden Grove Fwy</td>\n",
       "      <td>R</td>\n",
       "      <td>Orange</td>\n",
       "      <td>...</td>\n",
       "      <td>2019</td>\n",
       "      <td>28.0</td>\n",
       "      <td>-0.965926</td>\n",
       "      <td>2.588190e-01</td>\n",
       "      <td>-0.866025</td>\n",
       "      <td>-0.5</td>\n",
       "      <td>-0.998717</td>\n",
       "      <td>-0.050649</td>\n",
       "      <td>-0.433884</td>\n",
       "      <td>-0.900969</td>\n",
       "    </tr>\n",
       "    <tr>\n",
       "      <th>3513615</th>\n",
       "      <td>A-3513779</td>\n",
       "      <td>Bing</td>\n",
       "      <td>1</td>\n",
       "      <td>2019-08-23 19:00:21</td>\n",
       "      <td>2019-08-23 19:29:42</td>\n",
       "      <td>0.772</td>\n",
       "      <td>At CA-90/Marina Fwy/Jefferson Blvd - Accident.</td>\n",
       "      <td>San Diego Fwy S</td>\n",
       "      <td>R</td>\n",
       "      <td>Culver City</td>\n",
       "      <td>...</td>\n",
       "      <td>2019</td>\n",
       "      <td>29.0</td>\n",
       "      <td>-0.965926</td>\n",
       "      <td>2.588190e-01</td>\n",
       "      <td>-0.866025</td>\n",
       "      <td>-0.5</td>\n",
       "      <td>-0.998717</td>\n",
       "      <td>-0.050649</td>\n",
       "      <td>-0.433884</td>\n",
       "      <td>-0.900969</td>\n",
       "    </tr>\n",
       "    <tr>\n",
       "      <th>3513616</th>\n",
       "      <td>A-3513780</td>\n",
       "      <td>Bing</td>\n",
       "      <td>1</td>\n",
       "      <td>2019-08-23 18:52:06</td>\n",
       "      <td>2019-08-23 19:21:31</td>\n",
       "      <td>0.537</td>\n",
       "      <td>At Highland Ave/Arden Ave - Accident.</td>\n",
       "      <td>CA-210 W</td>\n",
       "      <td>R</td>\n",
       "      <td>Highland</td>\n",
       "      <td>...</td>\n",
       "      <td>2019</td>\n",
       "      <td>29.0</td>\n",
       "      <td>-1.000000</td>\n",
       "      <td>-1.836970e-16</td>\n",
       "      <td>-0.866025</td>\n",
       "      <td>-0.5</td>\n",
       "      <td>-0.998717</td>\n",
       "      <td>-0.050649</td>\n",
       "      <td>-0.433884</td>\n",
       "      <td>-0.900969</td>\n",
       "    </tr>\n",
       "  </tbody>\n",
       "</table>\n",
       "<p>3325099 rows × 54 columns</p>\n",
       "</div>"
      ],
      "text/plain": [
       "                ID    Source  Severity          Start_Time  \\\n",
       "0              A-1  MapQuest         2 2016-02-08 05:46:00   \n",
       "2              A-3  MapQuest         1 2016-02-08 06:49:27   \n",
       "3              A-4  MapQuest         2 2016-02-08 07:23:34   \n",
       "4              A-5  MapQuest         1 2016-02-08 07:39:07   \n",
       "5              A-6  MapQuest         2 2016-02-08 07:44:26   \n",
       "...            ...       ...       ...                 ...   \n",
       "3513612  A-3513776      Bing         1 2019-08-23 18:03:25   \n",
       "3513613  A-3513777      Bing         1 2019-08-23 19:11:30   \n",
       "3513614  A-3513778      Bing         1 2019-08-23 19:00:21   \n",
       "3513615  A-3513779      Bing         1 2019-08-23 19:00:21   \n",
       "3513616  A-3513780      Bing         1 2019-08-23 18:52:06   \n",
       "\n",
       "                   End_Time  Distance(mi)  \\\n",
       "0       2016-02-08 11:00:00         0.010   \n",
       "2       2016-02-08 07:19:27         0.010   \n",
       "3       2016-02-08 07:53:34         0.010   \n",
       "4       2016-02-08 08:09:07         0.010   \n",
       "5       2016-02-08 08:14:26         0.010   \n",
       "...                     ...           ...   \n",
       "3513612 2019-08-23 18:32:01         0.543   \n",
       "3513613 2019-08-23 19:38:23         0.338   \n",
       "3513614 2019-08-23 19:28:49         0.561   \n",
       "3513615 2019-08-23 19:29:42         0.772   \n",
       "3513616 2019-08-23 19:21:31         0.537   \n",
       "\n",
       "                                               Description  \\\n",
       "0        Right lane blocked due to accident on I-70 Eas...   \n",
       "2        Accident on OH-32 State Route 32 Westbound at ...   \n",
       "3        Accident on I-75 Southbound at Exits 52 52B US...   \n",
       "4        Accident on McEwen Rd at OH-725 Miamisburg Cen...   \n",
       "5        Accident on I-270 Outerbelt Northbound near Ex...   \n",
       "...                                                    ...   \n",
       "3513612                           At Market St - Accident.   \n",
       "3513613    At Camino Del Rio/Mission Center Rd - Accident.   \n",
       "3513614  At Glassell St/Grand Ave - Accident. in the ri...   \n",
       "3513615     At CA-90/Marina Fwy/Jefferson Blvd - Accident.   \n",
       "3513616              At Highland Ave/Arden Ave - Accident.   \n",
       "\n",
       "                            Street Side          City  ...  Year Duration  \\\n",
       "0                           I-70 E    R        Dayton  ...  2016    314.0   \n",
       "2                   State Route 32    R  Williamsburg  ...  2016     30.0   \n",
       "3                           I-75 S    R        Dayton  ...  2016     30.0   \n",
       "4        Miamisburg Centerville Rd    R        Dayton  ...  2016     30.0   \n",
       "5                   Westerville Rd    R   Westerville  ...  2016     30.0   \n",
       "...                            ...  ...           ...  ...   ...      ...   \n",
       "3513612               Pomona Fwy E    R     Riverside  ...  2019     29.0   \n",
       "3513613                      I-8 W    R     San Diego  ...  2019     27.0   \n",
       "3513614           Garden Grove Fwy    R        Orange  ...  2019     28.0   \n",
       "3513615            San Diego Fwy S    R   Culver City  ...  2019     29.0   \n",
       "3513616                   CA-210 W    R      Highland  ...  2019     29.0   \n",
       "\n",
       "         Hour_sin      Hour_cos Month_sin Month_cos   Day_sin   Day_cos  \\\n",
       "0        0.965926  2.588190e-01  0.866025       0.5  0.998717 -0.050649   \n",
       "2        1.000000  6.123234e-17  0.866025       0.5  0.998717 -0.050649   \n",
       "3        0.965926 -2.588190e-01  0.866025       0.5  0.998717 -0.050649   \n",
       "4        0.965926 -2.588190e-01  0.866025       0.5  0.998717 -0.050649   \n",
       "5        0.965926 -2.588190e-01  0.866025       0.5  0.998717 -0.050649   \n",
       "...           ...           ...       ...       ...       ...       ...   \n",
       "3513612 -1.000000 -1.836970e-16 -0.866025      -0.5 -0.998717 -0.050649   \n",
       "3513613 -0.965926  2.588190e-01 -0.866025      -0.5 -0.998717 -0.050649   \n",
       "3513614 -0.965926  2.588190e-01 -0.866025      -0.5 -0.998717 -0.050649   \n",
       "3513615 -0.965926  2.588190e-01 -0.866025      -0.5 -0.998717 -0.050649   \n",
       "3513616 -1.000000 -1.836970e-16 -0.866025      -0.5 -0.998717 -0.050649   \n",
       "\n",
       "         Weekday_sin  Weekday_cos  \n",
       "0           0.000000     1.000000  \n",
       "2           0.000000     1.000000  \n",
       "3           0.000000     1.000000  \n",
       "4           0.000000     1.000000  \n",
       "5           0.000000     1.000000  \n",
       "...              ...          ...  \n",
       "3513612    -0.433884    -0.900969  \n",
       "3513613    -0.433884    -0.900969  \n",
       "3513614    -0.433884    -0.900969  \n",
       "3513615    -0.433884    -0.900969  \n",
       "3513616    -0.433884    -0.900969  \n",
       "\n",
       "[3325099 rows x 54 columns]"
      ]
     },
     "execution_count": 29,
     "metadata": {},
     "output_type": "execute_result"
    }
   ],
   "source": [
    "# duration feature using start and end time\n",
    "data['Start_Time'] = pd.to_datetime(data['Start_Time'], errors='coerce')\n",
    "data['End_Time'] = pd.to_datetime(data['End_Time'], errors='coerce')\n",
    "\n",
    "# Extract year, month, day, hour, weekday and Duration\n",
    "data['Year'] = data['Start_Time'].dt.year\n",
    "data['Month'] = data['Start_Time'].dt.month\n",
    "\n",
    "data['Day'] = data['Start_Time'].dt.day\n",
    "data['Hour'] = data['Start_Time'].dt.hour\n",
    "\n",
    "data['Weekday'] = data['Start_Time'].dt.dayofweek\n",
    "data['Duration'] = round((data['End_Time'] - data['Start_Time']) / np.timedelta64(1, 'm'))\n",
    "\n",
    "# encoding cyclic features\n",
    "def cyclic_encoding(data, col, max_val):    \n",
    "    data[col + '_sin'] = np.sin(2 * np.pi * data[col] / max_val)\n",
    "    data[col + '_cos'] = np.cos(2 * np.pi * data[col] / max_val)\n",
    "    return data.drop(col, axis=1)\n",
    "\n",
    "# encode cyclic features\n",
    "columns = [(\"Hour\", 24), (\"Month\", 12), (\"Day\", 31), (\"Weekday\", 7)]\n",
    "\n",
    "for column, period in columns:\n",
    "    data = cyclic_encoding(data, column, period)\n",
    "    \n",
    "data"
   ]
  },
  {
   "cell_type": "markdown",
   "id": "3d52b8ad-370e-41de-8e6c-deb3d95ce7b8",
   "metadata": {},
   "source": [
    "# Train Test Split"
   ]
  },
  {
   "cell_type": "code",
   "execution_count": 30,
   "id": "bd89e750-376c-48dc-b05f-ca8fcc892138",
   "metadata": {},
   "outputs": [
    {
     "name": "stdout",
     "output_type": "stream",
     "text": [
      "2659115 665984\n"
     ]
    }
   ],
   "source": [
    "# Train-Test Split\n",
    "split_ratio = 0.7\n",
    "msk = np.random.rand(len(data)) < split_ratio\n",
    "\n",
    "train = data[msk]\n",
    "test = data[~msk]\n",
    "\n",
    "print(len(train), len(test))"
   ]
  },
  {
   "cell_type": "markdown",
   "id": "2680986e-ce5f-4018-9743-a2a13a550efc",
   "metadata": {},
   "source": [
    "# Response Encoding"
   ]
  },
  {
   "cell_type": "code",
   "execution_count": 31,
   "id": "179f1750-35ea-4e63-b562-d08d7ffa00aa",
   "metadata": {},
   "outputs": [],
   "source": [
    "# Response Encoding\n",
    "def response_encoding(data, column, label=\"Severity\"):\n",
    "    value_counts = data.groupby(column)[label].value_counts().reset_index(name=\"count\")\n",
    "\n",
    "    x = data[[column]].drop_duplicates()\n",
    "    y = data[[label]].drop_duplicates()\n",
    "\n",
    "    x[\"temp\"] = 0\n",
    "    y[\"temp\"] = 0\n",
    "\n",
    "    temp = pd.merge(x, y, on=[\"temp\"])\n",
    "    temp.drop(columns=[\"temp\"], inplace=True)\n",
    "    temp.sort_values(by=[column, label], ascending=True, inplace=True)\n",
    "\n",
    "    value_counts = temp.merge(value_counts, how=\"left\")\n",
    "    value_counts.fillna(0, inplace=True)\n",
    "\n",
    "    numerator = value_counts.groupby(column, sort=False)[\"count\"].apply(np.array)\n",
    "    denominator = value_counts.groupby(column, sort=False)[\"count\"].sum()\n",
    "    \n",
    "    value_counts = (numerator / denominator).apply(lambda x: x.tolist())\n",
    "    return value_counts.to_dict()\n",
    "\n",
    "\n",
    "# categorical columns\n",
    "categorical_columns = [\"Street\", \"Side\", \"City\", \"County\", \"State\", \"Zipcode\", \"Timezone\", \"Airport_Code\", \n",
    "                       \"Wind_Direction\", \"Weather_Condition\", \"Year\", \"Sunrise_Sunset\", \"Civil_Twilight\", \n",
    "                       \"Astronomical_Twilight\", \"Nautical_Twilight\"]\n",
    "\n",
    "categorical_encoding = {column: response_encoding(train, column) for column in categorical_columns}"
   ]
  },
  {
   "cell_type": "markdown",
   "id": "e9904d1a-95d2-42e2-9fc8-cba98dd2e93c",
   "metadata": {},
   "source": [
    "# Feature Aggregation"
   ]
  },
  {
   "cell_type": "code",
   "execution_count": 32,
   "id": "02ace217-b1e6-4ba6-bb95-bd6b5e3b6802",
   "metadata": {},
   "outputs": [
    {
     "data": {
      "text/plain": [
       "5          [0.0, 0.5294117647058824, 0.47058823529411764,...\n",
       "18         [0.0, 1.0, 0.0, 0.0, 0.010618848672752096, 0.8...\n",
       "24         [0.0, 0.9866666666666667, 0.0, 0.0133333333333...\n",
       "26         [0.0, 1.0, 0.0, 0.0, 0.008192389607800386, 0.6...\n",
       "34         [0.0, 0.8205128205128205, 0.1623931623931624, ...\n",
       "                                 ...                        \n",
       "3513596    [0.0028537940172246854, 0.38842174998725987, 0...\n",
       "3513606    [0.0, 0.9050535987748851, 0.08728943338437979,...\n",
       "3513608    [0.0002941176470588235, 0.9308823529411765, 0....\n",
       "3513609    [0.003770739064856712, 0.9668174962292609, 0.0...\n",
       "3513615    [0.0, 0.3715353472438493, 0.6182912903560677, ...\n",
       "Name: Street, Length: 665984, dtype: object"
      ]
     },
     "execution_count": 32,
     "metadata": {},
     "output_type": "execute_result"
    }
   ],
   "source": [
    "# aggregate features for all categorical columns\n",
    "def aggregate_categorical_features(data):\n",
    "    func = lambda column: data[column].map(lambda x: categorical_encoding[column].get(x, [1/4] * 4))\n",
    "\n",
    "    categorical_features = func(categorical_columns[0])\n",
    "\n",
    "    for cat_col in categorical_columns[1:]:\n",
    "        categorical_features += func(cat_col)\n",
    "\n",
    "    return categorical_features\n",
    "\n",
    "train_categorical_features = aggregate_categorical_features(train).reset_index(drop=True)\n",
    "test_categorical_features = aggregate_categorical_features(test).reset_index(drop=True)\n",
    "\n",
    "test_categorical_features"
   ]
  },
  {
   "cell_type": "code",
   "execution_count": 33,
   "id": "79d14d85-efb7-4acf-b0ac-3f84f0a122c4",
   "metadata": {},
   "outputs": [],
   "source": [
    "boolean_columns = list(data.select_dtypes(include='bool').columns)\n",
    "coordinate_columns = [\"loc_x\", \"loc_y\", \"loc_z\"]\n",
    "cyclic_columns = ['Hour_sin', 'Hour_cos', 'Month_sin', 'Month_cos', 'Day_sin', 'Day_cos', 'Weekday_sin', 'Weekday_cos']\n",
    "numerical_columns = ['Distance(mi)', 'Temperature(F)', 'Humidity(%)', 'Pressure(in)', 'Visibility(mi)',  'Wind_Speed(mph)', 'Duration']\n",
    "\n",
    "feature_columns = coordinate_columns + numerical_columns + boolean_columns + cyclic_columns"
   ]
  },
  {
   "cell_type": "code",
   "execution_count": 34,
   "id": "c960bb9c-7714-4014-8f87-3e1253ac46d3",
   "metadata": {},
   "outputs": [],
   "source": [
    "from sklearn.model_selection import train_test_split\n",
    "\n",
    "y_train = train[\"Severity\"]\n",
    "X_train = pd.Series(train[feature_columns].values.tolist()) + train_categorical_features\n",
    "\n",
    "y_test = test[\"Severity\"]\n",
    "X_test = pd.Series(test[feature_columns].values.tolist()) + test_categorical_features"
   ]
  },
  {
   "cell_type": "code",
   "execution_count": 35,
   "id": "fca7660e-7a5e-4f36-830d-1c7bcf8f9099",
   "metadata": {},
   "outputs": [],
   "source": [
    "X_train = np.array(X_train.tolist())\n",
    "X_test = np.array(X_test.tolist())"
   ]
  },
  {
   "cell_type": "code",
   "execution_count": 36,
   "id": "a1c2c30b-f099-4635-b74c-ebd14c5468f8",
   "metadata": {},
   "outputs": [
    {
     "data": {
      "text/plain": [
       "(array([[ 0.4047638 ,  0.38801814,  0.82801461, ...,  0.60766837,\n",
       "          0.32899134,  0.0575622 ],\n",
       "        [-0.1444351 , -0.1458854 ,  0.97870116, ...,  0.68381315,\n",
       "          0.28139056,  0.02564229],\n",
       "        [ 0.37496364,  0.26623194,  0.88798807, ...,  0.68381315,\n",
       "          0.28139056,  0.02564229],\n",
       "        ...,\n",
       "        [-0.13394484,  0.17199417,  0.97594917, ...,  0.68381315,\n",
       "          0.28139056,  0.02564229],\n",
       "        [-0.0269993 , -0.70894287,  0.70474893, ...,  0.68381315,\n",
       "          0.28139056,  0.02564229],\n",
       "        [ 0.49867736, -0.7631324 ,  0.41103507, ...,  0.68381315,\n",
       "          0.28139056,  0.02564229]]),\n",
       " 0          2\n",
       " 2          1\n",
       " 3          2\n",
       " 4          1\n",
       " 6          1\n",
       "           ..\n",
       " 3513611    1\n",
       " 3513612    1\n",
       " 3513613    1\n",
       " 3513614    1\n",
       " 3513616    1\n",
       " Name: Severity, Length: 2659115, dtype: int64)"
      ]
     },
     "execution_count": 36,
     "metadata": {},
     "output_type": "execute_result"
    }
   ],
   "source": [
    "X_train, y_train"
   ]
  },
  {
   "cell_type": "code",
   "execution_count": 37,
   "id": "8ebe18ee-7ab2-4a3c-aed0-8473d1665145",
   "metadata": {},
   "outputs": [
    {
     "data": {
      "text/plain": [
       "(array([[-0.23718176,  0.69926147,  0.67437246, ...,  0.68381315,\n",
       "          0.28139056,  0.02564229],\n",
       "        [ 0.3641089 ,  0.27045415,  0.89122346, ...,  0.68381315,\n",
       "          0.28139056,  0.02564229],\n",
       "        [ 0.39888745,  0.25219091,  0.88163969, ...,  0.68381315,\n",
       "          0.28139056,  0.02564229],\n",
       "        ...,\n",
       "        [ 0.54621912, -0.60809609,  0.57607623, ...,  0.68381315,\n",
       "          0.28139056,  0.02564229],\n",
       "        [-0.94526586, -0.14530118,  0.29216439, ...,  0.68381315,\n",
       "          0.28139056,  0.02564229],\n",
       "        [-0.47218869, -0.7002244 ,  0.53546581, ...,  0.68381315,\n",
       "          0.28139056,  0.02564229]]),\n",
       " 5          2\n",
       " 18         1\n",
       " 24         1\n",
       " 26         1\n",
       " 34         1\n",
       "           ..\n",
       " 3513596    1\n",
       " 3513606    1\n",
       " 3513608    1\n",
       " 3513609    1\n",
       " 3513615    1\n",
       " Name: Severity, Length: 665984, dtype: int64)"
      ]
     },
     "execution_count": 37,
     "metadata": {},
     "output_type": "execute_result"
    }
   ],
   "source": [
    "X_test, y_test"
   ]
  },
  {
   "cell_type": "markdown",
   "id": "e81d6c44-acec-4329-abfa-ebbfa2d11797",
   "metadata": {},
   "source": [
    "# Sampling for class imbalance (SMOTE)"
   ]
  },
  {
   "cell_type": "code",
   "execution_count": 38,
   "id": "1fd25588-d48f-40c0-9a32-e484870ec312",
   "metadata": {},
   "outputs": [],
   "source": [
    "# Oversample with SMOTE and random undersample for imbalanced dataset\n",
    "from collections import Counter\n",
    "from sklearn.datasets import make_classification\n",
    "from imblearn.over_sampling import SMOTE\n",
    "from imblearn.under_sampling import RandomUnderSampler\n",
    "from imblearn.pipeline import Pipeline\n",
    "from matplotlib import pyplot\n",
    "from numpy import where"
   ]
  },
  {
   "cell_type": "code",
   "execution_count": 39,
   "id": "78807d2e-c3bd-4c44-83f7-b498f9eda075",
   "metadata": {},
   "outputs": [
    {
     "data": {
      "text/plain": [
       "Counter({2: 768491, 1: 1785959, 0: 22906, 3: 81759})"
      ]
     },
     "execution_count": 39,
     "metadata": {},
     "output_type": "execute_result"
    }
   ],
   "source": [
    "# summarize class distribution\n",
    "counter = Counter(y_train)\n",
    "counter"
   ]
  },
  {
   "cell_type": "code",
   "execution_count": 40,
   "id": "6914cb53-6e31-4452-b251-c9a0af99dbb7",
   "metadata": {},
   "outputs": [
    {
     "data": {
      "text/plain": [
       "Counter({0: 50000, 1: 1000000, 2: 500000, 3: 100000})"
      ]
     },
     "execution_count": 40,
     "metadata": {},
     "output_type": "execute_result"
    }
   ],
   "source": [
    "under = RandomUnderSampler(sampling_strategy={2: 500000, 1: 1000000})\n",
    "over = SMOTE(sampling_strategy={0: 50000, 3:100000})\n",
    "\n",
    "steps = [('o', over), ('u', under)]\n",
    "pipeline = Pipeline(steps=steps)\n",
    "\n",
    "X_train, y_train = pipeline.fit_resample(X_train, y_train)\n",
    "counter = Counter(y_train)\n",
    "counter"
   ]
  },
  {
   "cell_type": "markdown",
   "id": "3d9a5b8c-14e6-411a-9636-227d8956ac3c",
   "metadata": {},
   "source": [
    "# XGBoost"
   ]
  },
  {
   "cell_type": "code",
   "execution_count": 150,
   "id": "3fa4c80b-81d6-49c2-abf8-7edb86e963d2",
   "metadata": {},
   "outputs": [],
   "source": [
    "import xgboost as xgb\n",
    "from xgboost.sklearn import XGBClassifier\n",
    "\n",
    "from sklearn import metrics\n",
    "from sklearn.metrics import f1_score"
   ]
  },
  {
   "cell_type": "code",
   "execution_count": 43,
   "id": "475685e5-4b95-4597-8405-c72b69379f5c",
   "metadata": {},
   "outputs": [],
   "source": [
    "\"\"\"\n",
    "from sklearn.model_selection import RandomizedSearchCV\n",
    "\n",
    "\n",
    "x_cfl = XGBClassifier(objective='multi:softmax', num_class=4, n_jobs=-1)\n",
    "\n",
    "prams={\n",
    "'learning_rate': [0.01, 0.03, 0.05, 0.1, 0.15, 0.2],\n",
    "'n_estimators': [100, 200, 500, 1000, 2000],\n",
    "'max_depth': [3, 5, 10],\n",
    "'colsample_bytree': [0.1, 0.3, 0.5, 1],\n",
    "'subsample': [0.1, 0.3, 0.5, 1],\n",
    "}\n",
    "\n",
    "random_cfl = RandomizedSearchCV(x_cfl,param_distributions=prams)\n",
    "random_cfl.fit(X_train, y_train)\n",
    "\n",
    "random_cfl.best_params_\n",
    "\"\"\""
   ]
  },
  {
   "cell_type": "code",
   "execution_count": 129,
   "id": "b3e37b90-8508-4710-9f40-7b165987716b",
   "metadata": {},
   "outputs": [
    {
     "name": "stdout",
     "output_type": "stream",
     "text": [
      "[12:12:24] WARNING: ../src/learner.cc:767: \n",
      "Parameters: { \"n_fold\" } are not used.\n",
      "\n"
     ]
    },
    {
     "data": {
      "text/html": [
       "<style>#sk-container-id-2 {color: black;background-color: white;}#sk-container-id-2 pre{padding: 0;}#sk-container-id-2 div.sk-toggleable {background-color: white;}#sk-container-id-2 label.sk-toggleable__label {cursor: pointer;display: block;width: 100%;margin-bottom: 0;padding: 0.3em;box-sizing: border-box;text-align: center;}#sk-container-id-2 label.sk-toggleable__label-arrow:before {content: \"▸\";float: left;margin-right: 0.25em;color: #696969;}#sk-container-id-2 label.sk-toggleable__label-arrow:hover:before {color: black;}#sk-container-id-2 div.sk-estimator:hover label.sk-toggleable__label-arrow:before {color: black;}#sk-container-id-2 div.sk-toggleable__content {max-height: 0;max-width: 0;overflow: hidden;text-align: left;background-color: #f0f8ff;}#sk-container-id-2 div.sk-toggleable__content pre {margin: 0.2em;color: black;border-radius: 0.25em;background-color: #f0f8ff;}#sk-container-id-2 input.sk-toggleable__control:checked~div.sk-toggleable__content {max-height: 200px;max-width: 100%;overflow: auto;}#sk-container-id-2 input.sk-toggleable__control:checked~label.sk-toggleable__label-arrow:before {content: \"▾\";}#sk-container-id-2 div.sk-estimator input.sk-toggleable__control:checked~label.sk-toggleable__label {background-color: #d4ebff;}#sk-container-id-2 div.sk-label input.sk-toggleable__control:checked~label.sk-toggleable__label {background-color: #d4ebff;}#sk-container-id-2 input.sk-hidden--visually {border: 0;clip: rect(1px 1px 1px 1px);clip: rect(1px, 1px, 1px, 1px);height: 1px;margin: -1px;overflow: hidden;padding: 0;position: absolute;width: 1px;}#sk-container-id-2 div.sk-estimator {font-family: monospace;background-color: #f0f8ff;border: 1px dotted black;border-radius: 0.25em;box-sizing: border-box;margin-bottom: 0.5em;}#sk-container-id-2 div.sk-estimator:hover {background-color: #d4ebff;}#sk-container-id-2 div.sk-parallel-item::after {content: \"\";width: 100%;border-bottom: 1px solid gray;flex-grow: 1;}#sk-container-id-2 div.sk-label:hover label.sk-toggleable__label {background-color: #d4ebff;}#sk-container-id-2 div.sk-serial::before {content: \"\";position: absolute;border-left: 1px solid gray;box-sizing: border-box;top: 0;bottom: 0;left: 50%;z-index: 0;}#sk-container-id-2 div.sk-serial {display: flex;flex-direction: column;align-items: center;background-color: white;padding-right: 0.2em;padding-left: 0.2em;position: relative;}#sk-container-id-2 div.sk-item {position: relative;z-index: 1;}#sk-container-id-2 div.sk-parallel {display: flex;align-items: stretch;justify-content: center;background-color: white;position: relative;}#sk-container-id-2 div.sk-item::before, #sk-container-id-2 div.sk-parallel-item::before {content: \"\";position: absolute;border-left: 1px solid gray;box-sizing: border-box;top: 0;bottom: 0;left: 50%;z-index: -1;}#sk-container-id-2 div.sk-parallel-item {display: flex;flex-direction: column;z-index: 1;position: relative;background-color: white;}#sk-container-id-2 div.sk-parallel-item:first-child::after {align-self: flex-end;width: 50%;}#sk-container-id-2 div.sk-parallel-item:last-child::after {align-self: flex-start;width: 50%;}#sk-container-id-2 div.sk-parallel-item:only-child::after {width: 0;}#sk-container-id-2 div.sk-dashed-wrapped {border: 1px dashed gray;margin: 0 0.4em 0.5em 0.4em;box-sizing: border-box;padding-bottom: 0.4em;background-color: white;}#sk-container-id-2 div.sk-label label {font-family: monospace;font-weight: bold;display: inline-block;line-height: 1.2em;}#sk-container-id-2 div.sk-label-container {text-align: center;}#sk-container-id-2 div.sk-container {/* jupyter's `normalize.less` sets `[hidden] { display: none; }` but bootstrap.min.css set `[hidden] { display: none !important; }` so we also need the `!important` here to be able to override the default hidden behavior on the sphinx rendered scikit-learn.org. See: https://github.com/scikit-learn/scikit-learn/issues/21755 */display: inline-block !important;position: relative;}#sk-container-id-2 div.sk-text-repr-fallback {display: none;}</style><div id=\"sk-container-id-2\" class=\"sk-top-container\"><div class=\"sk-text-repr-fallback\"><pre>XGBClassifier(base_score=None, booster=None, callbacks=None,\n",
       "              colsample_bylevel=None, colsample_bynode=None, colsample_bytree=1,\n",
       "              early_stopping_rounds=None, enable_categorical=False,\n",
       "              eval_metric=None, feature_types=None, gamma=None, gpu_id=None,\n",
       "              grow_policy=None, importance_type=None,\n",
       "              interaction_constraints=None, learning_rate=0.15, max_bin=None,\n",
       "              max_cat_threshold=None, max_cat_to_onehot=None,\n",
       "              max_delta_step=None, max_depth=8, max_leaves=None,\n",
       "              min_child_weight=None, missing=nan, monotone_constraints=None,\n",
       "              n_estimators=1000, n_fold=4, n_jobs=None, num_class=4,\n",
       "              num_parallel_tree=None, ...)</pre><b>In a Jupyter environment, please rerun this cell to show the HTML representation or trust the notebook. <br />On GitHub, the HTML representation is unable to render, please try loading this page with nbviewer.org.</b></div><div class=\"sk-container\" hidden><div class=\"sk-item\"><div class=\"sk-estimator sk-toggleable\"><input class=\"sk-toggleable__control sk-hidden--visually\" id=\"sk-estimator-id-2\" type=\"checkbox\" checked><label for=\"sk-estimator-id-2\" class=\"sk-toggleable__label sk-toggleable__label-arrow\">XGBClassifier</label><div class=\"sk-toggleable__content\"><pre>XGBClassifier(base_score=None, booster=None, callbacks=None,\n",
       "              colsample_bylevel=None, colsample_bynode=None, colsample_bytree=1,\n",
       "              early_stopping_rounds=None, enable_categorical=False,\n",
       "              eval_metric=None, feature_types=None, gamma=None, gpu_id=None,\n",
       "              grow_policy=None, importance_type=None,\n",
       "              interaction_constraints=None, learning_rate=0.15, max_bin=None,\n",
       "              max_cat_threshold=None, max_cat_to_onehot=None,\n",
       "              max_delta_step=None, max_depth=8, max_leaves=None,\n",
       "              min_child_weight=None, missing=nan, monotone_constraints=None,\n",
       "              n_estimators=1000, n_fold=4, n_jobs=None, num_class=4,\n",
       "              num_parallel_tree=None, ...)</pre></div></div></div></div></div>"
      ],
      "text/plain": [
       "XGBClassifier(base_score=None, booster=None, callbacks=None,\n",
       "              colsample_bylevel=None, colsample_bynode=None, colsample_bytree=1,\n",
       "              early_stopping_rounds=None, enable_categorical=False,\n",
       "              eval_metric=None, feature_types=None, gamma=None, gpu_id=None,\n",
       "              grow_policy=None, importance_type=None,\n",
       "              interaction_constraints=None, learning_rate=0.15, max_bin=None,\n",
       "              max_cat_threshold=None, max_cat_to_onehot=None,\n",
       "              max_delta_step=None, max_depth=8, max_leaves=None,\n",
       "              min_child_weight=None, missing=nan, monotone_constraints=None,\n",
       "              n_estimators=1000, n_fold=4, n_jobs=None, num_class=4,\n",
       "              num_parallel_tree=None, ...)"
      ]
     },
     "execution_count": 129,
     "metadata": {},
     "output_type": "execute_result"
    }
   ],
   "source": [
    "# Training with best parameters\n",
    "x_cfl = XGBClassifier(objective='multi:softmax',\n",
    "                      num_class=4,\n",
    "                      n_fold=4,\n",
    "                      colsample_bytree=1,\n",
    "                      learning_rate=0.15,\n",
    "                      max_depth=20,\n",
    "                      n_estimators=1000,\n",
    "                      subsample=0.3,\n",
    "                      tree_method=\"gpu_hist\")\n",
    "\n",
    "x_cfl.fit(X_train, y_train)"
   ]
  },
  {
   "cell_type": "code",
   "execution_count": 130,
   "id": "5b5668b6-414e-4f59-8d0d-2f6b2a65d935",
   "metadata": {},
   "outputs": [
    {
     "name": "stdout",
     "output_type": "stream",
     "text": [
      "\n",
      "Model Report\n",
      "Accuracy : 0.9419\n"
     ]
    },
    {
     "data": {
      "text/plain": [
       "Text(0, 0.5, 'Feature Importance Score')"
      ]
     },
     "execution_count": 130,
     "metadata": {},
     "output_type": "execute_result"
    },
    {
     "data": {
      "image/png": "[encoded data removed]",
      "text/plain": [
       "<Figure size 1440x720 with 1 Axes>"
      ]
     },
     "metadata": {
      "needs_background": "light"
     },
     "output_type": "display_data"
    }
   ],
   "source": [
    "# Predict training set:\n",
    "dtrain_predictions = x_cfl.predict(X_train)\n",
    "    \n",
    "#Print model report:\n",
    "print(\"\\nModel Report\")\n",
    "print(\"Accuracy : %.4g\" % metrics.accuracy_score(y_train, dtrain_predictions))\n",
    "\n",
    "plt.figure(figsize=(20, 10))\n",
    "\n",
    "feat_imp = pd.Series(x_cfl.get_booster().get_fscore()).sort_values(ascending=False)\n",
    "feat_imp.plot(kind='bar', title='Feature Importances')\n",
    "plt.ylabel('Feature Importance Score')"
   ]
  },
  {
   "cell_type": "code",
   "execution_count": 131,
   "id": "e5488bd2-8310-45f2-9319-076008b566d4",
   "metadata": {},
   "outputs": [
    {
     "name": "stdout",
     "output_type": "stream",
     "text": [
      "\n",
      "Model Report\n",
      "Accuracy : 0.8575\n"
     ]
    },
    {
     "data": {
      "text/plain": [
       "Text(0, 0.5, 'Feature Importance Score')"
      ]
     },
     "execution_count": 131,
     "metadata": {},
     "output_type": "execute_result"
    },
    {
     "data": {
      "image/png": "[encoded data removed]",
      "text/plain": [
       "<Figure size 1440x720 with 1 Axes>"
      ]
     },
     "metadata": {
      "needs_background": "light"
     },
     "output_type": "display_data"
    }
   ],
   "source": [
    "#Predict testing set:\n",
    "dtest_predictions = x_cfl.predict(X_test)\n",
    "    \n",
    "#Print model report:\n",
    "print(\"\\nModel Report\")\n",
    "print(\"Accuracy : %.4g\" % metrics.accuracy_score(y_test, dtest_predictions))\n",
    "\n",
    "plt.figure(figsize=(20, 10)) \n",
    "\n",
    "feat_imp = pd.Series(x_cfl.get_booster().get_fscore()).sort_values(ascending=False)\n",
    "feat_imp.plot(kind='bar', title='Feature Importances')\n",
    "plt.ylabel('Feature Importance Score')"
   ]
  },
  {
   "cell_type": "code",
   "execution_count": 132,
   "id": "665ffad1-61a4-4b7b-9c79-f8f0f09d1585",
   "metadata": {},
   "outputs": [
    {
     "name": "stdout",
     "output_type": "stream",
     "text": [
      "The train f1 score is: 0.9419509249141585\n",
      "The test f1 score is: 0.859173574881648\n"
     ]
    }
   ],
   "source": [
    "print (\"The train f1 score is:\", f1_score(y_train, dtrain_predictions, average='weighted'))\n",
    "print(\"The test f1 score is:\", f1_score(y_test, dtest_predictions, average='weighted'))"
   ]
  },
  {
   "cell_type": "markdown",
   "id": "2103f665-b68f-49ad-a71c-e3dbad3761fd",
   "metadata": {},
   "source": [
    "# Random Forest Classifier"
   ]
  },
  {
   "cell_type": "code",
   "execution_count": 143,
   "id": "d5a2aa1e-27fd-4110-b128-14313d5da330",
   "metadata": {},
   "outputs": [],
   "source": [
    "from sklearn.ensemble import RandomForestClassifier"
   ]
  },
  {
   "cell_type": "code",
   "execution_count": 144,
   "id": "00866cda-194f-45b1-8718-fa6c7059250e",
   "metadata": {},
   "outputs": [
    {
     "data": {
      "text/html": [
       "<style>#sk-container-id-3 {color: black;background-color: white;}#sk-container-id-3 pre{padding: 0;}#sk-container-id-3 div.sk-toggleable {background-color: white;}#sk-container-id-3 label.sk-toggleable__label {cursor: pointer;display: block;width: 100%;margin-bottom: 0;padding: 0.3em;box-sizing: border-box;text-align: center;}#sk-container-id-3 label.sk-toggleable__label-arrow:before {content: \"▸\";float: left;margin-right: 0.25em;color: #696969;}#sk-container-id-3 label.sk-toggleable__label-arrow:hover:before {color: black;}#sk-container-id-3 div.sk-estimator:hover label.sk-toggleable__label-arrow:before {color: black;}#sk-container-id-3 div.sk-toggleable__content {max-height: 0;max-width: 0;overflow: hidden;text-align: left;background-color: #f0f8ff;}#sk-container-id-3 div.sk-toggleable__content pre {margin: 0.2em;color: black;border-radius: 0.25em;background-color: #f0f8ff;}#sk-container-id-3 input.sk-toggleable__control:checked~div.sk-toggleable__content {max-height: 200px;max-width: 100%;overflow: auto;}#sk-container-id-3 input.sk-toggleable__control:checked~label.sk-toggleable__label-arrow:before {content: \"▾\";}#sk-container-id-3 div.sk-estimator input.sk-toggleable__control:checked~label.sk-toggleable__label {background-color: #d4ebff;}#sk-container-id-3 div.sk-label input.sk-toggleable__control:checked~label.sk-toggleable__label {background-color: #d4ebff;}#sk-container-id-3 input.sk-hidden--visually {border: 0;clip: rect(1px 1px 1px 1px);clip: rect(1px, 1px, 1px, 1px);height: 1px;margin: -1px;overflow: hidden;padding: 0;position: absolute;width: 1px;}#sk-container-id-3 div.sk-estimator {font-family: monospace;background-color: #f0f8ff;border: 1px dotted black;border-radius: 0.25em;box-sizing: border-box;margin-bottom: 0.5em;}#sk-container-id-3 div.sk-estimator:hover {background-color: #d4ebff;}#sk-container-id-3 div.sk-parallel-item::after {content: \"\";width: 100%;border-bottom: 1px solid gray;flex-grow: 1;}#sk-container-id-3 div.sk-label:hover label.sk-toggleable__label {background-color: #d4ebff;}#sk-container-id-3 div.sk-serial::before {content: \"\";position: absolute;border-left: 1px solid gray;box-sizing: border-box;top: 0;bottom: 0;left: 50%;z-index: 0;}#sk-container-id-3 div.sk-serial {display: flex;flex-direction: column;align-items: center;background-color: white;padding-right: 0.2em;padding-left: 0.2em;position: relative;}#sk-container-id-3 div.sk-item {position: relative;z-index: 1;}#sk-container-id-3 div.sk-parallel {display: flex;align-items: stretch;justify-content: center;background-color: white;position: relative;}#sk-container-id-3 div.sk-item::before, #sk-container-id-3 div.sk-parallel-item::before {content: \"\";position: absolute;border-left: 1px solid gray;box-sizing: border-box;top: 0;bottom: 0;left: 50%;z-index: -1;}#sk-container-id-3 div.sk-parallel-item {display: flex;flex-direction: column;z-index: 1;position: relative;background-color: white;}#sk-container-id-3 div.sk-parallel-item:first-child::after {align-self: flex-end;width: 50%;}#sk-container-id-3 div.sk-parallel-item:last-child::after {align-self: flex-start;width: 50%;}#sk-container-id-3 div.sk-parallel-item:only-child::after {width: 0;}#sk-container-id-3 div.sk-dashed-wrapped {border: 1px dashed gray;margin: 0 0.4em 0.5em 0.4em;box-sizing: border-box;padding-bottom: 0.4em;background-color: white;}#sk-container-id-3 div.sk-label label {font-family: monospace;font-weight: bold;display: inline-block;line-height: 1.2em;}#sk-container-id-3 div.sk-label-container {text-align: center;}#sk-container-id-3 div.sk-container {/* jupyter's `normalize.less` sets `[hidden] { display: none; }` but bootstrap.min.css set `[hidden] { display: none !important; }` so we also need the `!important` here to be able to override the default hidden behavior on the sphinx rendered scikit-learn.org. See: https://github.com/scikit-learn/scikit-learn/issues/21755 */display: inline-block !important;position: relative;}#sk-container-id-3 div.sk-text-repr-fallback {display: none;}</style><div id=\"sk-container-id-3\" class=\"sk-top-container\"><div class=\"sk-text-repr-fallback\"><pre>RandomForestClassifier(class_weight=&#x27;balanced&#x27;, max_depth=20,\n",
       "                       max_features=&#x27;auto&#x27;, n_estimators=1000, n_jobs=-1)</pre><b>In a Jupyter environment, please rerun this cell to show the HTML representation or trust the notebook. <br />On GitHub, the HTML representation is unable to render, please try loading this page with nbviewer.org.</b></div><div class=\"sk-container\" hidden><div class=\"sk-item\"><div class=\"sk-estimator sk-toggleable\"><input class=\"sk-toggleable__control sk-hidden--visually\" id=\"sk-estimator-id-3\" type=\"checkbox\" checked><label for=\"sk-estimator-id-3\" class=\"sk-toggleable__label sk-toggleable__label-arrow\">RandomForestClassifier</label><div class=\"sk-toggleable__content\"><pre>RandomForestClassifier(class_weight=&#x27;balanced&#x27;, max_depth=20,\n",
       "                       max_features=&#x27;auto&#x27;, n_estimators=1000, n_jobs=-1)</pre></div></div></div></div></div>"
      ],
      "text/plain": [
       "RandomForestClassifier(class_weight='balanced', max_depth=20,\n",
       "                       max_features='auto', n_estimators=1000, n_jobs=-1)"
      ]
     },
     "execution_count": 144,
     "metadata": {},
     "output_type": "execute_result"
    }
   ],
   "source": [
    "# training the model with same params as above XGBoost model as hyperparmater tuning is taking too long due to lack of computing power\n",
    "rf = RandomForestClassifier(n_jobs=-1,\n",
    "                            bootstrap=True,\n",
    "                            max_features='auto',\n",
    "                            n_estimators=1000,\n",
    "                            max_depth=20,\n",
    "                            class_weight='balanced')\n",
    "\n",
    "rf.fit(X_train, y_train)"
   ]
  },
  {
   "cell_type": "code",
   "execution_count": 151,
   "id": "39b1a565-283d-4f62-a442-4b7eafc1bda6",
   "metadata": {},
   "outputs": [],
   "source": [
    "def model_stats(model):\n",
    "    # Training Accuracy\n",
    "    dtrain_predictions = model.predict(X_train)\n",
    "\n",
    "    print(\"\\nModel Report\")\n",
    "    print(\"Train Accuracy : %.4g\" % metrics.accuracy_score(y_train, dtrain_predictions))\n",
    "\n",
    "    # Testing Accuracy\n",
    "    dtest_predictions = model.predict(X_test)\n",
    "\n",
    "    print(\"\\nModel Report\")\n",
    "    print(\"Test Accuracy : %.4g\" % metrics.accuracy_score(y_test, dtest_predictions))\n",
    "\n",
    "    # F1 Score\n",
    "    print(\"\\n\")\n",
    "    print (\"The train f1 score is:\", f1_score(y_train, dtrain_predictions, average='weighted'))\n",
    "    print(\"The test f1 score is:\", f1_score(y_test, dtest_predictions, average='weighted'))"
   ]
  },
  {
   "cell_type": "code",
   "execution_count": 153,
   "id": "960e8ade-d904-4960-ab4c-cac3aaa3a8af",
   "metadata": {},
   "outputs": [
    {
     "name": "stdout",
     "output_type": "stream",
     "text": [
      "\n",
      "Model Report\n",
      "Train Accuracy : 0.9034\n",
      "\n",
      "Model Report\n",
      "Test Accuracy : 0.8404\n",
      "\n",
      "\n",
      "The train f1 score is: 0.9052557129461568\n",
      "The test f1 score is: 0.8496101012824462\n"
     ]
    }
   ],
   "source": [
    "model_stats(rf)"
   ]
  },
  {
   "cell_type": "markdown",
   "id": "4980b84d-9065-4df9-baa4-fd792bc939b7",
   "metadata": {},
   "source": [
    "# Logistic Regression"
   ]
  },
  {
   "cell_type": "code",
   "execution_count": 154,
   "id": "32eba035-69ba-4e6a-b8ca-1ecc108c4357",
   "metadata": {},
   "outputs": [],
   "source": [
    "from sklearn.linear_model import LogisticRegression"
   ]
  },
  {
   "cell_type": "code",
   "execution_count": 155,
   "id": "1e8dc4de-de65-4eaf-bca1-5b55eb768849",
   "metadata": {},
   "outputs": [
    {
     "data": {
      "text/html": [
       "<style>#sk-container-id-4 {color: black;background-color: white;}#sk-container-id-4 pre{padding: 0;}#sk-container-id-4 div.sk-toggleable {background-color: white;}#sk-container-id-4 label.sk-toggleable__label {cursor: pointer;display: block;width: 100%;margin-bottom: 0;padding: 0.3em;box-sizing: border-box;text-align: center;}#sk-container-id-4 label.sk-toggleable__label-arrow:before {content: \"▸\";float: left;margin-right: 0.25em;color: #696969;}#sk-container-id-4 label.sk-toggleable__label-arrow:hover:before {color: black;}#sk-container-id-4 div.sk-estimator:hover label.sk-toggleable__label-arrow:before {color: black;}#sk-container-id-4 div.sk-toggleable__content {max-height: 0;max-width: 0;overflow: hidden;text-align: left;background-color: #f0f8ff;}#sk-container-id-4 div.sk-toggleable__content pre {margin: 0.2em;color: black;border-radius: 0.25em;background-color: #f0f8ff;}#sk-container-id-4 input.sk-toggleable__control:checked~div.sk-toggleable__content {max-height: 200px;max-width: 100%;overflow: auto;}#sk-container-id-4 input.sk-toggleable__control:checked~label.sk-toggleable__label-arrow:before {content: \"▾\";}#sk-container-id-4 div.sk-estimator input.sk-toggleable__control:checked~label.sk-toggleable__label {background-color: #d4ebff;}#sk-container-id-4 div.sk-label input.sk-toggleable__control:checked~label.sk-toggleable__label {background-color: #d4ebff;}#sk-container-id-4 input.sk-hidden--visually {border: 0;clip: rect(1px 1px 1px 1px);clip: rect(1px, 1px, 1px, 1px);height: 1px;margin: -1px;overflow: hidden;padding: 0;position: absolute;width: 1px;}#sk-container-id-4 div.sk-estimator {font-family: monospace;background-color: #f0f8ff;border: 1px dotted black;border-radius: 0.25em;box-sizing: border-box;margin-bottom: 0.5em;}#sk-container-id-4 div.sk-estimator:hover {background-color: #d4ebff;}#sk-container-id-4 div.sk-parallel-item::after {content: \"\";width: 100%;border-bottom: 1px solid gray;flex-grow: 1;}#sk-container-id-4 div.sk-label:hover label.sk-toggleable__label {background-color: #d4ebff;}#sk-container-id-4 div.sk-serial::before {content: \"\";position: absolute;border-left: 1px solid gray;box-sizing: border-box;top: 0;bottom: 0;left: 50%;z-index: 0;}#sk-container-id-4 div.sk-serial {display: flex;flex-direction: column;align-items: center;background-color: white;padding-right: 0.2em;padding-left: 0.2em;position: relative;}#sk-container-id-4 div.sk-item {position: relative;z-index: 1;}#sk-container-id-4 div.sk-parallel {display: flex;align-items: stretch;justify-content: center;background-color: white;position: relative;}#sk-container-id-4 div.sk-item::before, #sk-container-id-4 div.sk-parallel-item::before {content: \"\";position: absolute;border-left: 1px solid gray;box-sizing: border-box;top: 0;bottom: 0;left: 50%;z-index: -1;}#sk-container-id-4 div.sk-parallel-item {display: flex;flex-direction: column;z-index: 1;position: relative;background-color: white;}#sk-container-id-4 div.sk-parallel-item:first-child::after {align-self: flex-end;width: 50%;}#sk-container-id-4 div.sk-parallel-item:last-child::after {align-self: flex-start;width: 50%;}#sk-container-id-4 div.sk-parallel-item:only-child::after {width: 0;}#sk-container-id-4 div.sk-dashed-wrapped {border: 1px dashed gray;margin: 0 0.4em 0.5em 0.4em;box-sizing: border-box;padding-bottom: 0.4em;background-color: white;}#sk-container-id-4 div.sk-label label {font-family: monospace;font-weight: bold;display: inline-block;line-height: 1.2em;}#sk-container-id-4 div.sk-label-container {text-align: center;}#sk-container-id-4 div.sk-container {/* jupyter's `normalize.less` sets `[hidden] { display: none; }` but bootstrap.min.css set `[hidden] { display: none !important; }` so we also need the `!important` here to be able to override the default hidden behavior on the sphinx rendered scikit-learn.org. See: https://github.com/scikit-learn/scikit-learn/issues/21755 */display: inline-block !important;position: relative;}#sk-container-id-4 div.sk-text-repr-fallback {display: none;}</style><div id=\"sk-container-id-4\" class=\"sk-top-container\"><div class=\"sk-text-repr-fallback\"><pre>LogisticRegression(C=100)</pre><b>In a Jupyter environment, please rerun this cell to show the HTML representation or trust the notebook. <br />On GitHub, the HTML representation is unable to render, please try loading this page with nbviewer.org.</b></div><div class=\"sk-container\" hidden><div class=\"sk-item\"><div class=\"sk-estimator sk-toggleable\"><input class=\"sk-toggleable__control sk-hidden--visually\" id=\"sk-estimator-id-4\" type=\"checkbox\" checked><label for=\"sk-estimator-id-4\" class=\"sk-toggleable__label sk-toggleable__label-arrow\">LogisticRegression</label><div class=\"sk-toggleable__content\"><pre>LogisticRegression(C=100)</pre></div></div></div></div></div>"
      ],
      "text/plain": [
       "LogisticRegression(C=100)"
      ]
     },
     "execution_count": 155,
     "metadata": {},
     "output_type": "execute_result"
    }
   ],
   "source": [
    "lreg = LogisticRegression(C=100)\n",
    "lreg.fit(X_train,y_train)"
   ]
  },
  {
   "cell_type": "code",
   "execution_count": 156,
   "id": "4af46768-d99e-4855-bce7-110a3f7a18b7",
   "metadata": {},
   "outputs": [
    {
     "name": "stdout",
     "output_type": "stream",
     "text": [
      "\n",
      "Model Report\n",
      "Train Accuracy : 0.7314\n",
      "\n",
      "Model Report\n",
      "Test Accuracy : 0.7691\n",
      "\n",
      "\n",
      "The train f1 score is: 0.698023508229239\n",
      "The test f1 score is: 0.7532374497266354\n"
     ]
    }
   ],
   "source": [
    "model_stats(lreg)"
   ]
  },
  {
   "cell_type": "markdown",
   "id": "5631891e-ed9c-40c4-b795-761300f56f5f",
   "metadata": {},
   "source": [
    "# LightGBM"
   ]
  },
  {
   "cell_type": "code",
   "execution_count": 157,
   "id": "9b921c94-c45a-4ed5-97fa-454f1b4dfba4",
   "metadata": {},
   "outputs": [],
   "source": [
    "import lightgbm as lgb\n",
    "from lightgbm import LGBMClassifier"
   ]
  },
  {
   "cell_type": "code",
   "execution_count": 158,
   "id": "dd5abac0-4583-43a3-88bf-f7e6ea87aa62",
   "metadata": {},
   "outputs": [
    {
     "name": "stdout",
     "output_type": "stream",
     "text": [
      "[LightGBM] [Warning] feature_fraction is set with sub_feature=0.5, colsample_bytree=1.0 will be ignored. Current value: feature_fraction=0.5\n",
      "[LightGBM] [Warning] min_data_in_leaf is set with min_child_samples=20, will be overridden by min_data=2000. Current value: min_data_in_leaf=2000\n"
     ]
    },
    {
     "data": {
      "text/html": [
       "<style>#sk-container-id-5 {color: black;background-color: white;}#sk-container-id-5 pre{padding: 0;}#sk-container-id-5 div.sk-toggleable {background-color: white;}#sk-container-id-5 label.sk-toggleable__label {cursor: pointer;display: block;width: 100%;margin-bottom: 0;padding: 0.3em;box-sizing: border-box;text-align: center;}#sk-container-id-5 label.sk-toggleable__label-arrow:before {content: \"▸\";float: left;margin-right: 0.25em;color: #696969;}#sk-container-id-5 label.sk-toggleable__label-arrow:hover:before {color: black;}#sk-container-id-5 div.sk-estimator:hover label.sk-toggleable__label-arrow:before {color: black;}#sk-container-id-5 div.sk-toggleable__content {max-height: 0;max-width: 0;overflow: hidden;text-align: left;background-color: #f0f8ff;}#sk-container-id-5 div.sk-toggleable__content pre {margin: 0.2em;color: black;border-radius: 0.25em;background-color: #f0f8ff;}#sk-container-id-5 input.sk-toggleable__control:checked~div.sk-toggleable__content {max-height: 200px;max-width: 100%;overflow: auto;}#sk-container-id-5 input.sk-toggleable__control:checked~label.sk-toggleable__label-arrow:before {content: \"▾\";}#sk-container-id-5 div.sk-estimator input.sk-toggleable__control:checked~label.sk-toggleable__label {background-color: #d4ebff;}#sk-container-id-5 div.sk-label input.sk-toggleable__control:checked~label.sk-toggleable__label {background-color: #d4ebff;}#sk-container-id-5 input.sk-hidden--visually {border: 0;clip: rect(1px 1px 1px 1px);clip: rect(1px, 1px, 1px, 1px);height: 1px;margin: -1px;overflow: hidden;padding: 0;position: absolute;width: 1px;}#sk-container-id-5 div.sk-estimator {font-family: monospace;background-color: #f0f8ff;border: 1px dotted black;border-radius: 0.25em;box-sizing: border-box;margin-bottom: 0.5em;}#sk-container-id-5 div.sk-estimator:hover {background-color: #d4ebff;}#sk-container-id-5 div.sk-parallel-item::after {content: \"\";width: 100%;border-bottom: 1px solid gray;flex-grow: 1;}#sk-container-id-5 div.sk-label:hover label.sk-toggleable__label {background-color: #d4ebff;}#sk-container-id-5 div.sk-serial::before {content: \"\";position: absolute;border-left: 1px solid gray;box-sizing: border-box;top: 0;bottom: 0;left: 50%;z-index: 0;}#sk-container-id-5 div.sk-serial {display: flex;flex-direction: column;align-items: center;background-color: white;padding-right: 0.2em;padding-left: 0.2em;position: relative;}#sk-container-id-5 div.sk-item {position: relative;z-index: 1;}#sk-container-id-5 div.sk-parallel {display: flex;align-items: stretch;justify-content: center;background-color: white;position: relative;}#sk-container-id-5 div.sk-item::before, #sk-container-id-5 div.sk-parallel-item::before {content: \"\";position: absolute;border-left: 1px solid gray;box-sizing: border-box;top: 0;bottom: 0;left: 50%;z-index: -1;}#sk-container-id-5 div.sk-parallel-item {display: flex;flex-direction: column;z-index: 1;position: relative;background-color: white;}#sk-container-id-5 div.sk-parallel-item:first-child::after {align-self: flex-end;width: 50%;}#sk-container-id-5 div.sk-parallel-item:last-child::after {align-self: flex-start;width: 50%;}#sk-container-id-5 div.sk-parallel-item:only-child::after {width: 0;}#sk-container-id-5 div.sk-dashed-wrapped {border: 1px dashed gray;margin: 0 0.4em 0.5em 0.4em;box-sizing: border-box;padding-bottom: 0.4em;background-color: white;}#sk-container-id-5 div.sk-label label {font-family: monospace;font-weight: bold;display: inline-block;line-height: 1.2em;}#sk-container-id-5 div.sk-label-container {text-align: center;}#sk-container-id-5 div.sk-container {/* jupyter's `normalize.less` sets `[hidden] { display: none; }` but bootstrap.min.css set `[hidden] { display: none !important; }` so we also need the `!important` here to be able to override the default hidden behavior on the sphinx rendered scikit-learn.org. See: https://github.com/scikit-learn/scikit-learn/issues/21755 */display: inline-block !important;position: relative;}#sk-container-id-5 div.sk-text-repr-fallback {display: none;}</style><div id=\"sk-container-id-5\" class=\"sk-top-container\"><div class=\"sk-text-repr-fallback\"><pre>LGBMClassifier(max_depth=10, metric=&#x27;multi_logloss&#x27;, min_data=2000, num_class=4,\n",
       "               num_leaves=10, objective=&#x27;multiclass&#x27;, sub_feature=0.5)</pre><b>In a Jupyter environment, please rerun this cell to show the HTML representation or trust the notebook. <br />On GitHub, the HTML representation is unable to render, please try loading this page with nbviewer.org.</b></div><div class=\"sk-container\" hidden><div class=\"sk-item\"><div class=\"sk-estimator sk-toggleable\"><input class=\"sk-toggleable__control sk-hidden--visually\" id=\"sk-estimator-id-5\" type=\"checkbox\" checked><label for=\"sk-estimator-id-5\" class=\"sk-toggleable__label sk-toggleable__label-arrow\">LGBMClassifier</label><div class=\"sk-toggleable__content\"><pre>LGBMClassifier(max_depth=10, metric=&#x27;multi_logloss&#x27;, min_data=2000, num_class=4,\n",
       "               num_leaves=10, objective=&#x27;multiclass&#x27;, sub_feature=0.5)</pre></div></div></div></div></div>"
      ],
      "text/plain": [
       "LGBMClassifier(max_depth=10, metric='multi_logloss', min_data=2000, num_class=4,\n",
       "               num_leaves=10, objective='multiclass', sub_feature=0.5)"
      ]
     },
     "execution_count": 158,
     "metadata": {},
     "output_type": "execute_result"
    }
   ],
   "source": [
    "lgbm = LGBMClassifier(learning_rate=0.1,\n",
    "                      boosting_type='gbdt',\n",
    "                      objective='multiclass',\n",
    "                      metric='multi_logloss',\n",
    "                      num_class=4,\n",
    "                      sub_feature=0.5,\n",
    "                      num_leaves=10,\n",
    "                      min_data=2000,\n",
    "                      max_depth=10)\n",
    "\n",
    "lgbm.fit(X_train, y_train)"
   ]
  },
  {
   "cell_type": "code",
   "execution_count": 159,
   "id": "99b6fca2-7f88-496b-b93e-f7c342c8527a",
   "metadata": {},
   "outputs": [
    {
     "name": "stdout",
     "output_type": "stream",
     "text": [
      "\n",
      "Model Report\n",
      "Train Accuracy : 0.8656\n",
      "\n",
      "Model Report\n",
      "Test Accuracy : 0.8365\n",
      "\n",
      "\n",
      "The train f1 score is: 0.8647717572393713\n",
      "The test f1 score is: 0.8382688960027688\n"
     ]
    }
   ],
   "source": [
    "model_stats(lgbm)"
   ]
  },
  {
   "cell_type": "markdown",
   "id": "63fa8b5d-6257-46cc-a442-6ee58a6adac7",
   "metadata": {},
   "source": [
    "# MLP"
   ]
  },
  {
   "cell_type": "code",
   "execution_count": null,
   "id": "50bc4942-d0a1-44cd-9944-ee847ea8c75e",
   "metadata": {},
   "outputs": [],
   "source": [
    "import os\n",
    "import math\n",
    "import warnings\n",
    "from tqdm import tqdm\n",
    "\n",
    "import torch\n",
    "import torch.nn as nn\n",
    "import torch.optim as optim\n",
    "import torch.nn.functional as F\n",
    "from torch.utils.data import Dataset\n",
    "\n",
    "warnings.filterwarnings(\"ignore\")\n",
    "torch.manual_seed(0)\n",
    "\n",
    "os.environ[\"CUDA_VISIBLE_DEVICES\"] = \"3\"  \n",
    "torch.cuda.device_count()"
   ]
  },
  {
   "cell_type": "code",
   "execution_count": 257,
   "id": "b406ebd6-cdb6-446a-bea2-1625ea83efc7",
   "metadata": {},
   "outputs": [],
   "source": [
    "class CDataset(Dataset):\n",
    "    def __init__(self, x, y):\n",
    "        self.x = x\n",
    "        self.y = y\n",
    "\n",
    "    def __len__(self):\n",
    "        return len(self.x)\n",
    "\n",
    "    def __getitem__(self, idx):\n",
    "        features = self.x[idx]\n",
    "        target = self.y[idx]\n",
    "\n",
    "        return torch.tensor(features), torch.LongTensor([target])\n",
    "        \n",
    "    \n",
    "from torch.utils.data import DataLoader, random_split\n",
    "\n",
    "\n",
    "BATCH_SIZE = 64\n",
    "cdata_train = CDataset(X_train, np.array(y_train))\n",
    "cdata_test = CDataset(X_test, np.array(y_test))\n",
    "\n",
    "# train dataloader\n",
    "train_dataloader_args =  dict(shuffle=True, batch_size=BATCH_SIZE, num_workers=0)\n",
    "trainloader = DataLoader(cdata_train, pin_memory=True, **train_dataloader_args)\n",
    "\n",
    "# test dataloader\n",
    "test_dataloader_args =  dict(shuffle=False, batch_size=5000, num_workers=0)\n",
    "testloader = DataLoader(cdata_test, pin_memory=True, **test_dataloader_args)"
   ]
  },
  {
   "cell_type": "code",
   "execution_count": 258,
   "id": "0ea1a7ce-874a-4807-b7d7-c702117d7e5b",
   "metadata": {},
   "outputs": [
    {
     "data": {
      "text/plain": [
       "(tensor([-2.3718e-01,  6.9926e-01,  6.7437e-01,  1.0000e-02,  3.7900e+01,\n",
       "          9.7000e+01,  2.9630e+01,  7.0000e+00,  3.5000e+00,  3.0000e+01,\n",
       "          0.0000e+00,  0.0000e+00,  0.0000e+00,  0.0000e+00,  0.0000e+00,\n",
       "          0.0000e+00,  0.0000e+00,  0.0000e+00,  0.0000e+00,  0.0000e+00,\n",
       "          0.0000e+00,  0.0000e+00,  0.0000e+00,  9.6593e-01, -2.5882e-01,\n",
       "          8.6603e-01,  5.0000e-01,  9.9872e-01, -5.0649e-02,  0.0000e+00,\n",
       "          1.0000e+00,  0.0000e+00,  5.2941e-01,  4.7059e-01,  0.0000e+00,\n",
       "          8.1924e-03,  6.2667e-01,  3.3582e-01,  2.9320e-02,  0.0000e+00,\n",
       "          7.2546e-01,  2.4792e-01,  2.6622e-02,  1.5803e-03,  5.0814e-01,\n",
       "          4.1806e-01,  7.2219e-02,  8.2986e-03,  6.1823e-01,  2.9268e-01,\n",
       "          8.0794e-02,  0.0000e+00,  5.7330e-01,  3.8743e-01,  3.9267e-02,\n",
       "          6.6703e-03,  6.4184e-01,  3.0769e-01,  4.3799e-02,  1.8092e-03,\n",
       "          5.1497e-01,  4.2911e-01,  5.4112e-02,  1.0480e-02,  6.7155e-01,\n",
       "          2.8587e-01,  3.2107e-02,  8.2441e-03,  6.4679e-01,  3.1501e-01,\n",
       "          2.9954e-02,  4.7287e-04,  6.5262e-01,  3.1456e-01,  3.2349e-02,\n",
       "          9.6409e-03,  6.8530e-01,  2.7949e-01,  2.5569e-02,  9.4073e-03,\n",
       "          6.8482e-01,  2.8024e-01,  2.5531e-02,  8.9908e-03,  6.8209e-01,\n",
       "          2.8291e-01,  2.6009e-02,  9.1540e-03,  6.8381e-01,  2.8139e-01,\n",
       "          2.5642e-02], dtype=torch.float64),\n",
       " tensor([2]))"
      ]
     },
     "execution_count": 258,
     "metadata": {},
     "output_type": "execute_result"
    }
   ],
   "source": [
    "cdata_test[0]"
   ]
  },
  {
   "cell_type": "code",
   "execution_count": 259,
   "id": "d33f06e3-0bdc-4131-8f51-973fd2022c68",
   "metadata": {},
   "outputs": [
    {
     "data": {
      "text/plain": [
       "91"
      ]
     },
     "execution_count": 259,
     "metadata": {},
     "output_type": "execute_result"
    }
   ],
   "source": [
    "len(cdata_train[0][0])"
   ]
  },
  {
   "cell_type": "code",
   "execution_count": 283,
   "id": "5772bd9b-dd36-4bb4-a373-59d54327e4d5",
   "metadata": {},
   "outputs": [],
   "source": [
    "class FeedForwardNet(nn.Module):\n",
    "    def __init__(self, ndimension, ntarget, dropout=0.1):\n",
    "        super().__init__()\n",
    "        layer1 = self._get_layer(ndimension, 64, dropout)\n",
    "        layer2 = self._get_layer(64, 32, dropout)\n",
    "        layer3 = nn.Linear(32, ntarget, bias=False)\n",
    "        \n",
    "        self.layer = nn.Sequential(*[layer1, layer2, layer3])\n",
    "        \n",
    "    def _get_layer(self, in_dim, out_dim, dropout=0.1):\n",
    "        return nn.Sequential(\n",
    "            nn.Linear(in_dim, out_dim, bias=False),\n",
    "            nn.ReLU(),\n",
    "            nn.Dropout(dropout)\n",
    "        )\n",
    "\n",
    "    def forward(self, input_vec):\n",
    "        return self.layer(input_vec)"
   ]
  },
  {
   "cell_type": "code",
   "execution_count": 284,
   "id": "f9979379-09ec-4431-a3b9-6ae00cc2d577",
   "metadata": {},
   "outputs": [],
   "source": [
    "device = \"cuda\"\n",
    "model = FeedForwardNet(ndimension=91, ntarget=4, dropout=0.2).to(device)"
   ]
  },
  {
   "cell_type": "code",
   "execution_count": 285,
   "id": "aa117904-535a-4647-8c7a-77735754e5e1",
   "metadata": {},
   "outputs": [],
   "source": [
    "from torch import optim\n",
    "\n",
    "optimizer = optim.Adam(model.parameters(), lr=0.001)\n",
    "criterion = nn.CrossEntropyLoss()"
   ]
  },
  {
   "cell_type": "code",
   "execution_count": 286,
   "id": "6dde0628-16d6-4da2-9a11-4b7c292c0950",
   "metadata": {},
   "outputs": [],
   "source": [
    "def train(epoch, model, device, trainloader, optimizer):\n",
    "    model.train()\n",
    "\n",
    "    running_loss = 0\n",
    "    running_accuracy = 0\n",
    "    \n",
    "    iterator = 0\n",
    "    correct = 0\n",
    "    processed = 0\n",
    "    pbar = tqdm(trainloader)\n",
    "\n",
    "    for i, (src, trg) in enumerate(pbar, 0):\n",
    "        src, trg = src.to(device), trg.squeeze(-1).to(device)\n",
    "\n",
    "        output = model(src.float())\n",
    "\n",
    "        loss = criterion(output, trg)\n",
    "        loss.backward()\n",
    "\n",
    "        optimizer.step()\n",
    "        optimizer.zero_grad()\n",
    "\n",
    "        pred = output.argmax(-1)\n",
    "        correct += pred.eq(trg.view_as(pred)).sum().item()\n",
    "        processed += len(pred)\n",
    "        \n",
    "        running_loss += loss.item()\n",
    "        \n",
    "    print(\"Train Epoch - {epoch}, Mini Batch - {batch}, Train Loss - {loss}, Train Accuracy - {accuracy}\".format(\n",
    "                epoch=epoch + 1,\n",
    "                batch=i + 1,\n",
    "                loss=round(running_loss / (i+1), 4),\n",
    "                accuracy=round(100 * correct / processed, 4)\n",
    "            )\n",
    "         )"
   ]
  },
  {
   "cell_type": "code",
   "execution_count": 287,
   "id": "627a5c19-af2b-4acd-bbf0-cbad6906d717",
   "metadata": {},
   "outputs": [],
   "source": [
    "def test(model, device, testloader):\n",
    "    model.eval()\n",
    "\n",
    "    iterator = 0\n",
    "    test_loss = 0\n",
    "    correct = 0\n",
    "    processed = 0\n",
    "    pbar = tqdm(testloader, disable=True)\n",
    "\n",
    "    with torch.no_grad():\n",
    "        for i, (src, trg) in enumerate(pbar, 0):\n",
    "            src, trg = src.to(device), trg.squeeze(-1).to(device)\n",
    "\n",
    "            output = model(src.float())\n",
    "\n",
    "            loss = criterion(output, trg)\n",
    "            test_loss += loss.item()\n",
    "            \n",
    "            pred = output.argmax(-1)\n",
    "            correct += pred.eq(trg.view_as(pred)).sum().item()\n",
    "            processed += len(pred)\n",
    "\n",
    "        print(\"Test Loss - {loss}, Test Accuracy - {accuracy}\".format(\n",
    "                    loss=round(test_loss / (i+1), 4),\n",
    "                    accuracy=round(100 * correct / processed, 4)\n",
    "             )\n",
    "        )"
   ]
  },
  {
   "cell_type": "code",
   "execution_count": 288,
   "id": "7a1823d0-8487-4ffc-8afb-8d0a0531ce7e",
   "metadata": {
    "tags": []
   },
   "outputs": [
    {
     "name": "stderr",
     "output_type": "stream",
     "text": [
      "100%|██████████| 25782/25782 [01:50<00:00, 233.12it/s]\n"
     ]
    },
    {
     "name": "stdout",
     "output_type": "stream",
     "text": [
      "Train Epoch - 1, Mini Batch - 25782, Train Loss - 0.493, Train Accuracy - 81.0308\n",
      "Test Loss - 0.4911, Test Accuracy - 79.595\n"
     ]
    },
    {
     "name": "stderr",
     "output_type": "stream",
     "text": [
      "100%|██████████| 25782/25782 [01:48<00:00, 237.04it/s]\n"
     ]
    },
    {
     "name": "stdout",
     "output_type": "stream",
     "text": [
      "Train Epoch - 2, Mini Batch - 25782, Train Loss - 0.4426, Train Accuracy - 82.5537\n",
      "Test Loss - 0.4872, Test Accuracy - 80.0911\n"
     ]
    },
    {
     "name": "stderr",
     "output_type": "stream",
     "text": [
      "100%|██████████| 25782/25782 [01:50<00:00, 233.42it/s]\n"
     ]
    },
    {
     "name": "stdout",
     "output_type": "stream",
     "text": [
      "Train Epoch - 3, Mini Batch - 25782, Train Loss - 0.4365, Train Accuracy - 82.7905\n",
      "Test Loss - 0.4798, Test Accuracy - 80.4585\n"
     ]
    },
    {
     "name": "stderr",
     "output_type": "stream",
     "text": [
      "100%|██████████| 25782/25782 [01:50<00:00, 234.34it/s]\n"
     ]
    },
    {
     "name": "stdout",
     "output_type": "stream",
     "text": [
      "Train Epoch - 4, Mini Batch - 25782, Train Loss - 0.4285, Train Accuracy - 83.0074\n",
      "Test Loss - 0.4751, Test Accuracy - 80.9943\n"
     ]
    },
    {
     "name": "stderr",
     "output_type": "stream",
     "text": [
      "100%|██████████| 25782/25782 [01:52<00:00, 228.30it/s]\n"
     ]
    },
    {
     "name": "stdout",
     "output_type": "stream",
     "text": [
      "Train Epoch - 5, Mini Batch - 25782, Train Loss - 0.4223, Train Accuracy - 83.2049\n",
      "Test Loss - 0.4695, Test Accuracy - 81.0964\n"
     ]
    },
    {
     "name": "stderr",
     "output_type": "stream",
     "text": [
      "100%|██████████| 25782/25782 [01:50<00:00, 233.21it/s]\n"
     ]
    },
    {
     "name": "stdout",
     "output_type": "stream",
     "text": [
      "Train Epoch - 6, Mini Batch - 25782, Train Loss - 0.422, Train Accuracy - 83.2065\n",
      "Test Loss - 0.456, Test Accuracy - 81.6973\n"
     ]
    },
    {
     "name": "stderr",
     "output_type": "stream",
     "text": [
      "100%|██████████| 25782/25782 [01:52<00:00, 229.43it/s]\n"
     ]
    },
    {
     "name": "stdout",
     "output_type": "stream",
     "text": [
      "Train Epoch - 7, Mini Batch - 25782, Train Loss - 0.4229, Train Accuracy - 83.2021\n",
      "Test Loss - 0.468, Test Accuracy - 80.9905\n"
     ]
    },
    {
     "name": "stderr",
     "output_type": "stream",
     "text": [
      "100%|██████████| 25782/25782 [01:52<00:00, 228.50it/s]\n"
     ]
    },
    {
     "name": "stdout",
     "output_type": "stream",
     "text": [
      "Train Epoch - 8, Mini Batch - 25782, Train Loss - 0.4218, Train Accuracy - 83.3006\n",
      "Test Loss - 0.4653, Test Accuracy - 81.1219\n"
     ]
    },
    {
     "name": "stderr",
     "output_type": "stream",
     "text": [
      "100%|██████████| 25782/25782 [01:51<00:00, 230.54it/s]\n"
     ]
    },
    {
     "name": "stdout",
     "output_type": "stream",
     "text": [
      "Train Epoch - 9, Mini Batch - 25782, Train Loss - 0.4179, Train Accuracy - 83.4248\n",
      "Test Loss - 0.4473, Test Accuracy - 81.7655\n"
     ]
    },
    {
     "name": "stderr",
     "output_type": "stream",
     "text": [
      "100%|██████████| 25782/25782 [01:52<00:00, 229.65it/s]\n"
     ]
    },
    {
     "name": "stdout",
     "output_type": "stream",
     "text": [
      "Train Epoch - 10, Mini Batch - 25782, Train Loss - 0.412, Train Accuracy - 83.5167\n",
      "Test Loss - 0.4551, Test Accuracy - 82.043\n"
     ]
    }
   ],
   "source": [
    "EPOCHS = 10\n",
    "\n",
    "for epoch in range(EPOCHS):\n",
    "    train(epoch, model, device, trainloader, optimizer)\n",
    "    test(model, device, testloader)\n",
    "\n",
    "    torch.save(model.state_dict(), './model.pt')"
   ]
  },
  {
   "cell_type": "code",
   "execution_count": 289,
   "id": "c580b6b8-652c-44ef-8d28-8da5ea5c947a",
   "metadata": {
    "tags": []
   },
   "outputs": [],
   "source": [
    "def test(model, device, testloader):\n",
    "    model.eval()\n",
    "\n",
    "    pbar = tqdm(testloader)\n",
    "    \n",
    "    prediction = []\n",
    "\n",
    "    with torch.no_grad():\n",
    "        for i, (src, trg) in enumerate(pbar, 0):\n",
    "            src, trg = src.to(device), trg.squeeze(-1).to(device)\n",
    "\n",
    "            output = model(src.float())         \n",
    "            prediction.extend(output.argmax(-1).tolist())\n",
    "            \n",
    "    return np.array(prediction)"
   ]
  },
  {
   "cell_type": "code",
   "execution_count": 290,
   "id": "516d9b92-f41b-49b0-9e99-a04f36dc6159",
   "metadata": {},
   "outputs": [
    {
     "name": "stderr",
     "output_type": "stream",
     "text": [
      "100%|██████████| 134/134 [00:21<00:00,  6.16it/s]\n"
     ]
    },
    {
     "name": "stdout",
     "output_type": "stream",
     "text": [
      "\n",
      "Model Report\n",
      "Accuracy : 0.8204\n"
     ]
    }
   ],
   "source": [
    "dtest_predictions = infer(model, device, testloader)\n",
    "\n",
    "print(\"\\nModel Report\")\n",
    "print(\"Accuracy : %.4g\" % metrics.accuracy_score(y_test, dtest_predictions))"
   ]
  },
  {
   "cell_type": "code",
   "execution_count": 291,
   "id": "28d4c6dd-acda-41bf-962b-a5fc40988910",
   "metadata": {},
   "outputs": [
    {
     "name": "stdout",
     "output_type": "stream",
     "text": [
      "The test f1 score is: 0.8263836727223196\n"
     ]
    }
   ],
   "source": [
    "print(\"The test f1 score is:\", f1_score(y_test, dtest_predictions, average='weighted'))"
   ]
  },
  {
   "cell_type": "markdown",
   "id": "4b78a827-b291-4e8a-ae46-0e7b4811b42b",
   "metadata": {},
   "source": [
    "# Conclusion"
   ]
  },
  {
   "cell_type": "code",
   "execution_count": 292,
   "id": "088e4cbc-de88-4deb-8c96-05550b7b0f1e",
   "metadata": {},
   "outputs": [
    {
     "name": "stdout",
     "output_type": "stream",
     "text": [
      "+--------------------------+---------------+---------------+\n",
      "|          Model           | Test Accuracy | Test F1 Score |\n",
      "+--------------------------+---------------+---------------+\n",
      "|   Logistic Regression    |    76.91 %    |    75.32 %    |\n",
      "|           MLP            |    82.04 %    |    82.63 %    |\n",
      "|         LightGBM         |    83.65 %    |    83.82 %    |\n",
      "| Random Forest Classifier |    84.04 %    |    84.96 %    |\n",
      "|         XGBoost          |    85.75 %    |    85.91 %    |\n",
      "+--------------------------+---------------+---------------+\n"
     ]
    }
   ],
   "source": [
    "from prettytable import PrettyTable\n",
    "\n",
    "x = PrettyTable()\n",
    "x.field_names = [\"Model\", \"Test Accuracy\", \"Test F1 Score\"]\n",
    "\n",
    "x.add_row([\"Logistic Regression\", \"76.91 %\", \"75.32 %\"])\n",
    "x.add_row([\"MLP\", \"82.04 %\", \"82.63 %\"])\n",
    "x.add_row([\"LightGBM\", \"83.65 %\", \"83.82 %\"])\n",
    "x.add_row([\"Random Forest Classifier\", \"84.04 %\", \"84.96 %\"])\n",
    "x.add_row([\"XGBoost\", \"85.75 %\", \"85.91 %\"])\n",
    "\n",
    "print(x)"
   ]
  }
 ],
 "metadata": {
  "kernelspec": {
   "display_name": "Python 3 (ipykernel)",
   "language": "python",
   "name": "python3"
  },
  "language_info": {
   "codemirror_mode": {
    "name": "ipython",
    "version": 3
   },
   "file_extension": ".py",
   "mimetype": "text/x-python",
   "name": "python",
   "nbconvert_exporter": "python",
   "pygments_lexer": "ipython3",
   "version": "3.8.10"
  }
 },
 "nbformat": 4,
 "nbformat_minor": 5
}
